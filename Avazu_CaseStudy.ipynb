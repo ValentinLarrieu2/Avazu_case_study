{
 "cells": [
  {
   "cell_type": "markdown",
   "metadata": {},
   "source": [
    "@author: Valentin Larrieu"
   ]
  },
  {
   "cell_type": "raw",
   "metadata": {},
   "source": [
    "<h1><center>Avazu Case study<center></h1>"
   ]
  },
  {
   "cell_type": "code",
   "execution_count": 4,
   "metadata": {
    "ExecuteTime": {
     "end_time": "2019-01-05T17:30:20.689648Z",
     "start_time": "2019-01-05T17:30:19.908912Z"
    }
   },
   "outputs": [],
   "source": [
    "import numpy as np\n",
    "import pandas as pd\n",
    "import matplotlib.pyplot as plt\n",
    "import seaborn as sns\n",
    "import datetime\n",
    "%matplotlib inline"
   ]
  },
  {
   "cell_type": "code",
   "execution_count": 5,
   "metadata": {
    "ExecuteTime": {
     "end_time": "2019-01-05T17:30:20.692868Z",
     "start_time": "2019-01-05T17:30:20.691026Z"
    }
   },
   "outputs": [],
   "source": [
    "SEED = 100"
   ]
  },
  {
   "cell_type": "markdown",
   "metadata": {},
   "source": [
    "# The dataset"
   ]
  },
  {
   "cell_type": "markdown",
   "metadata": {},
   "source": [
    "We load the dataset\n",
    "**Remark**: the features meaning is available at https://www.kaggle.com/c/avazu-ctr-prediction/data"
   ]
  },
  {
   "cell_type": "code",
   "execution_count": 6,
   "metadata": {
    "ExecuteTime": {
     "end_time": "2019-01-05T17:30:23.532279Z",
     "start_time": "2019-01-05T17:30:20.694346Z"
    }
   },
   "outputs": [],
   "source": [
    "df = pd.read_csv('Files/train-1000000', sep=',')"
   ]
  },
  {
   "cell_type": "code",
   "execution_count": 7,
   "metadata": {
    "ExecuteTime": {
     "end_time": "2019-01-05T17:30:23.556705Z",
     "start_time": "2019-01-05T17:30:23.534076Z"
    }
   },
   "outputs": [
    {
     "data": {
      "text/html": [
       "<div>\n",
       "<style scoped>\n",
       "    .dataframe tbody tr th:only-of-type {\n",
       "        vertical-align: middle;\n",
       "    }\n",
       "\n",
       "    .dataframe tbody tr th {\n",
       "        vertical-align: top;\n",
       "    }\n",
       "\n",
       "    .dataframe thead th {\n",
       "        text-align: right;\n",
       "    }\n",
       "</style>\n",
       "<table border=\"1\" class=\"dataframe\">\n",
       "  <thead>\n",
       "    <tr style=\"text-align: right;\">\n",
       "      <th></th>\n",
       "      <th>id</th>\n",
       "      <th>click</th>\n",
       "      <th>hour</th>\n",
       "      <th>C1</th>\n",
       "      <th>banner_pos</th>\n",
       "      <th>site_id</th>\n",
       "      <th>site_domain</th>\n",
       "      <th>site_category</th>\n",
       "      <th>app_id</th>\n",
       "      <th>app_domain</th>\n",
       "      <th>...</th>\n",
       "      <th>device_type</th>\n",
       "      <th>device_conn_type</th>\n",
       "      <th>C14</th>\n",
       "      <th>C15</th>\n",
       "      <th>C16</th>\n",
       "      <th>C17</th>\n",
       "      <th>C18</th>\n",
       "      <th>C19</th>\n",
       "      <th>C20</th>\n",
       "      <th>C21</th>\n",
       "    </tr>\n",
       "  </thead>\n",
       "  <tbody>\n",
       "    <tr>\n",
       "      <th>0</th>\n",
       "      <td>3.983206e+18</td>\n",
       "      <td>0</td>\n",
       "      <td>14102915</td>\n",
       "      <td>1005</td>\n",
       "      <td>1</td>\n",
       "      <td>e151e245</td>\n",
       "      <td>7e091613</td>\n",
       "      <td>f028772b</td>\n",
       "      <td>ecad2386</td>\n",
       "      <td>7801e8d9</td>\n",
       "      <td>...</td>\n",
       "      <td>1</td>\n",
       "      <td>2</td>\n",
       "      <td>4687</td>\n",
       "      <td>320</td>\n",
       "      <td>50</td>\n",
       "      <td>423</td>\n",
       "      <td>2</td>\n",
       "      <td>39</td>\n",
       "      <td>100148</td>\n",
       "      <td>32</td>\n",
       "    </tr>\n",
       "    <tr>\n",
       "      <th>1</th>\n",
       "      <td>7.756884e+18</td>\n",
       "      <td>0</td>\n",
       "      <td>14103007</td>\n",
       "      <td>1002</td>\n",
       "      <td>0</td>\n",
       "      <td>cb809abf</td>\n",
       "      <td>74acf31a</td>\n",
       "      <td>50e219e0</td>\n",
       "      <td>ecad2386</td>\n",
       "      <td>7801e8d9</td>\n",
       "      <td>...</td>\n",
       "      <td>0</td>\n",
       "      <td>0</td>\n",
       "      <td>17894</td>\n",
       "      <td>320</td>\n",
       "      <td>50</td>\n",
       "      <td>2039</td>\n",
       "      <td>2</td>\n",
       "      <td>39</td>\n",
       "      <td>100077</td>\n",
       "      <td>32</td>\n",
       "    </tr>\n",
       "    <tr>\n",
       "      <th>2</th>\n",
       "      <td>6.941774e+17</td>\n",
       "      <td>0</td>\n",
       "      <td>14102711</td>\n",
       "      <td>1005</td>\n",
       "      <td>0</td>\n",
       "      <td>85f751fd</td>\n",
       "      <td>c4e18dd6</td>\n",
       "      <td>50e219e0</td>\n",
       "      <td>e9739828</td>\n",
       "      <td>df32afa9</td>\n",
       "      <td>...</td>\n",
       "      <td>1</td>\n",
       "      <td>0</td>\n",
       "      <td>22684</td>\n",
       "      <td>320</td>\n",
       "      <td>50</td>\n",
       "      <td>2619</td>\n",
       "      <td>1</td>\n",
       "      <td>163</td>\n",
       "      <td>100055</td>\n",
       "      <td>71</td>\n",
       "    </tr>\n",
       "    <tr>\n",
       "      <th>3</th>\n",
       "      <td>2.664154e+18</td>\n",
       "      <td>1</td>\n",
       "      <td>14102903</td>\n",
       "      <td>1005</td>\n",
       "      <td>0</td>\n",
       "      <td>85f751fd</td>\n",
       "      <td>c4e18dd6</td>\n",
       "      <td>50e219e0</td>\n",
       "      <td>a5184c22</td>\n",
       "      <td>b8d325c3</td>\n",
       "      <td>...</td>\n",
       "      <td>1</td>\n",
       "      <td>0</td>\n",
       "      <td>23222</td>\n",
       "      <td>320</td>\n",
       "      <td>50</td>\n",
       "      <td>2676</td>\n",
       "      <td>0</td>\n",
       "      <td>35</td>\n",
       "      <td>100176</td>\n",
       "      <td>221</td>\n",
       "    </tr>\n",
       "    <tr>\n",
       "      <th>4</th>\n",
       "      <td>1.480510e+19</td>\n",
       "      <td>0</td>\n",
       "      <td>14102902</td>\n",
       "      <td>1005</td>\n",
       "      <td>1</td>\n",
       "      <td>791b5571</td>\n",
       "      <td>fd13bc73</td>\n",
       "      <td>f028772b</td>\n",
       "      <td>ecad2386</td>\n",
       "      <td>7801e8d9</td>\n",
       "      <td>...</td>\n",
       "      <td>1</td>\n",
       "      <td>0</td>\n",
       "      <td>8330</td>\n",
       "      <td>320</td>\n",
       "      <td>50</td>\n",
       "      <td>761</td>\n",
       "      <td>3</td>\n",
       "      <td>175</td>\n",
       "      <td>100081</td>\n",
       "      <td>23</td>\n",
       "    </tr>\n",
       "  </tbody>\n",
       "</table>\n",
       "<p>5 rows × 24 columns</p>\n",
       "</div>"
      ],
      "text/plain": [
       "             id  click      hour    C1  banner_pos   site_id site_domain  \\\n",
       "0  3.983206e+18      0  14102915  1005           1  e151e245    7e091613   \n",
       "1  7.756884e+18      0  14103007  1002           0  cb809abf    74acf31a   \n",
       "2  6.941774e+17      0  14102711  1005           0  85f751fd    c4e18dd6   \n",
       "3  2.664154e+18      1  14102903  1005           0  85f751fd    c4e18dd6   \n",
       "4  1.480510e+19      0  14102902  1005           1  791b5571    fd13bc73   \n",
       "\n",
       "  site_category    app_id app_domain ...  device_type device_conn_type    C14  \\\n",
       "0      f028772b  ecad2386   7801e8d9 ...            1                2   4687   \n",
       "1      50e219e0  ecad2386   7801e8d9 ...            0                0  17894   \n",
       "2      50e219e0  e9739828   df32afa9 ...            1                0  22684   \n",
       "3      50e219e0  a5184c22   b8d325c3 ...            1                0  23222   \n",
       "4      f028772b  ecad2386   7801e8d9 ...            1                0   8330   \n",
       "\n",
       "   C15  C16   C17  C18  C19     C20  C21  \n",
       "0  320   50   423    2   39  100148   32  \n",
       "1  320   50  2039    2   39  100077   32  \n",
       "2  320   50  2619    1  163  100055   71  \n",
       "3  320   50  2676    0   35  100176  221  \n",
       "4  320   50   761    3  175  100081   23  \n",
       "\n",
       "[5 rows x 24 columns]"
      ]
     },
     "execution_count": 7,
     "metadata": {},
     "output_type": "execute_result"
    }
   ],
   "source": [
    "df.head()"
   ]
  },
  {
   "cell_type": "markdown",
   "metadata": {},
   "source": [
    "We compute the click frequency"
   ]
  },
  {
   "cell_type": "code",
   "execution_count": 8,
   "metadata": {
    "ExecuteTime": {
     "end_time": "2019-01-05T17:30:23.566188Z",
     "start_time": "2019-01-05T17:30:23.558057Z"
    }
   },
   "outputs": [
    {
     "name": "stdout",
     "output_type": "stream",
     "text": [
      "The click frequency is:  0.169971\n"
     ]
    }
   ],
   "source": [
    "click_freq = np.sum(df['click'])/len(df['click'])\n",
    "print(\"The click frequency is: \", click_freq)"
   ]
  },
  {
   "cell_type": "markdown",
   "metadata": {},
   "source": [
    "We note that the Avazu dataset is very unbalanced. The 'click' class represents less than a fifth of the whole database. We already know that a classifier always predicting <i>'click' = 0</i> will have good performances in terms of error rate (around 0.17). \n",
    "<br>\n",
    "The ROC and lift curves will be better performance metrics."
   ]
  },
  {
   "cell_type": "markdown",
   "metadata": {},
   "source": [
    "We compute the number of distincts values for each of these features"
   ]
  },
  {
   "cell_type": "code",
   "execution_count": 9,
   "metadata": {
    "ExecuteTime": {
     "end_time": "2019-01-05T17:30:24.233454Z",
     "start_time": "2019-01-05T17:30:23.568020Z"
    }
   },
   "outputs": [
    {
     "data": {
      "text/html": [
       "<div>\n",
       "<style scoped>\n",
       "    .dataframe tbody tr th:only-of-type {\n",
       "        vertical-align: middle;\n",
       "    }\n",
       "\n",
       "    .dataframe tbody tr th {\n",
       "        vertical-align: top;\n",
       "    }\n",
       "\n",
       "    .dataframe thead th {\n",
       "        text-align: right;\n",
       "    }\n",
       "</style>\n",
       "<table border=\"1\" class=\"dataframe\">\n",
       "  <thead>\n",
       "    <tr style=\"text-align: right;\">\n",
       "      <th></th>\n",
       "      <th>Column type</th>\n",
       "      <th>Column unique values</th>\n",
       "    </tr>\n",
       "  </thead>\n",
       "  <tbody>\n",
       "    <tr>\n",
       "      <th>id</th>\n",
       "      <td>float64</td>\n",
       "      <td>1000000.0</td>\n",
       "    </tr>\n",
       "    <tr>\n",
       "      <th>click</th>\n",
       "      <td>int64</td>\n",
       "      <td>2.0</td>\n",
       "    </tr>\n",
       "    <tr>\n",
       "      <th>hour</th>\n",
       "      <td>int64</td>\n",
       "      <td>240.0</td>\n",
       "    </tr>\n",
       "    <tr>\n",
       "      <th>C1</th>\n",
       "      <td>int64</td>\n",
       "      <td>7.0</td>\n",
       "    </tr>\n",
       "    <tr>\n",
       "      <th>banner_pos</th>\n",
       "      <td>int64</td>\n",
       "      <td>7.0</td>\n",
       "    </tr>\n",
       "    <tr>\n",
       "      <th>site_id</th>\n",
       "      <td>object</td>\n",
       "      <td>2651.0</td>\n",
       "    </tr>\n",
       "    <tr>\n",
       "      <th>site_domain</th>\n",
       "      <td>object</td>\n",
       "      <td>2871.0</td>\n",
       "    </tr>\n",
       "    <tr>\n",
       "      <th>site_category</th>\n",
       "      <td>object</td>\n",
       "      <td>22.0</td>\n",
       "    </tr>\n",
       "    <tr>\n",
       "      <th>app_id</th>\n",
       "      <td>object</td>\n",
       "      <td>3157.0</td>\n",
       "    </tr>\n",
       "    <tr>\n",
       "      <th>app_domain</th>\n",
       "      <td>object</td>\n",
       "      <td>198.0</td>\n",
       "    </tr>\n",
       "    <tr>\n",
       "      <th>app_category</th>\n",
       "      <td>object</td>\n",
       "      <td>26.0</td>\n",
       "    </tr>\n",
       "    <tr>\n",
       "      <th>device_id</th>\n",
       "      <td>object</td>\n",
       "      <td>150501.0</td>\n",
       "    </tr>\n",
       "    <tr>\n",
       "      <th>device_ip</th>\n",
       "      <td>object</td>\n",
       "      <td>555248.0</td>\n",
       "    </tr>\n",
       "    <tr>\n",
       "      <th>device_model</th>\n",
       "      <td>object</td>\n",
       "      <td>5168.0</td>\n",
       "    </tr>\n",
       "    <tr>\n",
       "      <th>device_type</th>\n",
       "      <td>int64</td>\n",
       "      <td>5.0</td>\n",
       "    </tr>\n",
       "    <tr>\n",
       "      <th>device_conn_type</th>\n",
       "      <td>int64</td>\n",
       "      <td>4.0</td>\n",
       "    </tr>\n",
       "    <tr>\n",
       "      <th>C14</th>\n",
       "      <td>int64</td>\n",
       "      <td>2243.0</td>\n",
       "    </tr>\n",
       "    <tr>\n",
       "      <th>C15</th>\n",
       "      <td>int64</td>\n",
       "      <td>8.0</td>\n",
       "    </tr>\n",
       "    <tr>\n",
       "      <th>C16</th>\n",
       "      <td>int64</td>\n",
       "      <td>9.0</td>\n",
       "    </tr>\n",
       "    <tr>\n",
       "      <th>C17</th>\n",
       "      <td>int64</td>\n",
       "      <td>420.0</td>\n",
       "    </tr>\n",
       "    <tr>\n",
       "      <th>C18</th>\n",
       "      <td>int64</td>\n",
       "      <td>4.0</td>\n",
       "    </tr>\n",
       "    <tr>\n",
       "      <th>C19</th>\n",
       "      <td>int64</td>\n",
       "      <td>66.0</td>\n",
       "    </tr>\n",
       "    <tr>\n",
       "      <th>C20</th>\n",
       "      <td>int64</td>\n",
       "      <td>163.0</td>\n",
       "    </tr>\n",
       "    <tr>\n",
       "      <th>C21</th>\n",
       "      <td>int64</td>\n",
       "      <td>60.0</td>\n",
       "    </tr>\n",
       "  </tbody>\n",
       "</table>\n",
       "</div>"
      ],
      "text/plain": [
       "                 Column type  Column unique values\n",
       "id                   float64             1000000.0\n",
       "click                  int64                   2.0\n",
       "hour                   int64                 240.0\n",
       "C1                     int64                   7.0\n",
       "banner_pos             int64                   7.0\n",
       "site_id               object                2651.0\n",
       "site_domain           object                2871.0\n",
       "site_category         object                  22.0\n",
       "app_id                object                3157.0\n",
       "app_domain            object                 198.0\n",
       "app_category          object                  26.0\n",
       "device_id             object              150501.0\n",
       "device_ip             object              555248.0\n",
       "device_model          object                5168.0\n",
       "device_type            int64                   5.0\n",
       "device_conn_type       int64                   4.0\n",
       "C14                    int64                2243.0\n",
       "C15                    int64                   8.0\n",
       "C16                    int64                   9.0\n",
       "C17                    int64                 420.0\n",
       "C18                    int64                   4.0\n",
       "C19                    int64                  66.0\n",
       "C20                    int64                 163.0\n",
       "C21                    int64                  60.0"
      ]
     },
     "execution_count": 9,
     "metadata": {},
     "output_type": "execute_result"
    }
   ],
   "source": [
    "toShow = pd.DataFrame(index = df.columns)\n",
    "\n",
    "for col in df.columns:\n",
    "    toShow.loc[col, 'Column type'] = df[col].dtype\n",
    "    toShow.loc[col, 'Column unique values'] = len(df[col].unique())\n",
    "    \n",
    "toShow"
   ]
  },
  {
   "cell_type": "markdown",
   "metadata": {},
   "source": [
    "All variables apart from <i>'id'</i> can be considered categorical"
   ]
  },
  {
   "cell_type": "markdown",
   "metadata": {},
   "source": [
    "Each column is categorical. If we encode them with dummies the dimension of the encoded vector would be :"
   ]
  },
  {
   "cell_type": "code",
   "execution_count": 10,
   "metadata": {
    "ExecuteTime": {
     "end_time": "2019-01-05T17:30:24.790001Z",
     "start_time": "2019-01-05T17:30:24.235437Z"
    }
   },
   "outputs": [
    {
     "name": "stdout",
     "output_type": "stream",
     "text": [
      "Dimension of the encoded vector would be :  723080\n"
     ]
    }
   ],
   "source": [
    "sum = 0\n",
    "for col in df.columns:\n",
    "    if col!=\"id\":\n",
    "        sum = sum + len(df[col].unique())\n",
    "print(\"Dimension of the encoded vector would be : \", sum)"
   ]
  },
  {
   "cell_type": "markdown",
   "metadata": {},
   "source": [
    "We analyse the hour format"
   ]
  },
  {
   "cell_type": "code",
   "execution_count": 11,
   "metadata": {
    "ExecuteTime": {
     "end_time": "2019-01-05T17:30:24.794192Z",
     "start_time": "2019-01-05T17:30:24.791129Z"
    }
   },
   "outputs": [
    {
     "name": "stdout",
     "output_type": "stream",
     "text": [
      "0    14102915\n",
      "1    14103007\n",
      "2    14102711\n",
      "3    14102903\n",
      "4    14102902\n",
      "Name: hour, dtype: int64\n",
      "999995    14102602\n",
      "999996    14102101\n",
      "999997    14102318\n",
      "999998    14102908\n",
      "999999    14102600\n",
      "Name: hour, dtype: int64\n"
     ]
    }
   ],
   "source": [
    "print(df['hour'].head()) \n",
    "print(df['hour'].tail()) "
   ]
  },
  {
   "cell_type": "code",
   "execution_count": 12,
   "metadata": {
    "ExecuteTime": {
     "end_time": "2019-01-05T17:30:27.017236Z",
     "start_time": "2019-01-05T17:30:24.795410Z"
    }
   },
   "outputs": [
    {
     "data": {
      "text/plain": [
       "0   2014-10-29 15:00:00\n",
       "1   2014-10-30 07:00:00\n",
       "2   2014-10-27 11:00:00\n",
       "3   2014-10-29 03:00:00\n",
       "4   2014-10-29 02:00:00\n",
       "Name: hour, dtype: datetime64[ns]"
      ]
     },
     "execution_count": 12,
     "metadata": {},
     "output_type": "execute_result"
    }
   ],
   "source": [
    "# We could use the datetime library of pandas to get the hour and then construct \n",
    "# other columns with hours, days and so on\n",
    "\n",
    "pd.to_datetime(df['hour'], format = \"%y%m%d%H\").head()"
   ]
  },
  {
   "cell_type": "markdown",
   "metadata": {},
   "source": [
    "The hour format is in the following format :  <i>yy/mm/dd/HH</i> (year/month/day/hour)"
   ]
  },
  {
   "cell_type": "code",
   "execution_count": 13,
   "metadata": {
    "ExecuteTime": {
     "end_time": "2019-01-05T17:30:27.022851Z",
     "start_time": "2019-01-05T17:30:27.018593Z"
    }
   },
   "outputs": [
    {
     "data": {
      "text/plain": [
       "(2, 15)"
      ]
     },
     "execution_count": 13,
     "metadata": {},
     "output_type": "execute_result"
    }
   ],
   "source": [
    "import datetime\n",
    "def datesplit(originalDate):\n",
    "    originalDate = str(originalDate)\n",
    "    \n",
    "    year = int(\"20\" + originalDate[0:2])\n",
    "    month = int(originalDate[2:4])\n",
    "    day = int(originalDate[4:6])\n",
    "    hour = int(originalDate[6:8])\n",
    "    \n",
    "    return datetime.datetime(year, month, day, hour)\n",
    "\n",
    "# Exemple :\n",
    "datesplit(14102915).weekday(), datesplit(14102915).hour"
   ]
  },
  {
   "cell_type": "markdown",
   "metadata": {},
   "source": [
    "We slice the data to get the year (adding 20 to have the good year, the month, day and hour.\n",
    "Then we use the datetime function wich will contruct our datetime object with those arguments.\n",
    "After that we print the day corresponding (2 so wednesday since 0 is moday) and the hour 15"
   ]
  },
  {
   "cell_type": "markdown",
   "metadata": {},
   "source": [
    " \n",
    " We create a weekday column. Then, replace the 'hour' column by the hour."
   ]
  },
  {
   "cell_type": "markdown",
   "metadata": {},
   "source": [
    "To answer this question you have to understand that applies takes a function as argument\n",
    "<br>\n",
    "\"lambda x: ... \" is used to create local unamed function of x\n",
    "<br>\n",
    "Check the documentation: https://docs.python.org/3/tutorial/controlflow.html#lambda-expressions"
   ]
  },
  {
   "cell_type": "code",
   "execution_count": 14,
   "metadata": {
    "ExecuteTime": {
     "end_time": "2019-01-05T17:30:30.257636Z",
     "start_time": "2019-01-05T17:30:27.024007Z"
    }
   },
   "outputs": [],
   "source": [
    "df['weekday'] = df['hour'].apply(lambda x : datesplit(x).weekday())\n",
    "df['hour'] =  df['hour'].apply(lambda x : datesplit(x).hour)"
   ]
  },
  {
   "cell_type": "code",
   "execution_count": 15,
   "metadata": {
    "ExecuteTime": {
     "end_time": "2019-01-05T17:30:30.323869Z",
     "start_time": "2019-01-05T17:30:30.260093Z"
    }
   },
   "outputs": [
    {
     "data": {
      "text/html": [
       "<div>\n",
       "<style scoped>\n",
       "    .dataframe tbody tr th:only-of-type {\n",
       "        vertical-align: middle;\n",
       "    }\n",
       "\n",
       "    .dataframe tbody tr th {\n",
       "        vertical-align: top;\n",
       "    }\n",
       "\n",
       "    .dataframe thead th {\n",
       "        text-align: right;\n",
       "    }\n",
       "</style>\n",
       "<table border=\"1\" class=\"dataframe\">\n",
       "  <thead>\n",
       "    <tr style=\"text-align: right;\">\n",
       "      <th></th>\n",
       "      <th>weekday</th>\n",
       "      <th>hour</th>\n",
       "    </tr>\n",
       "  </thead>\n",
       "  <tbody>\n",
       "    <tr>\n",
       "      <th>0</th>\n",
       "      <td>2</td>\n",
       "      <td>15</td>\n",
       "    </tr>\n",
       "    <tr>\n",
       "      <th>1</th>\n",
       "      <td>3</td>\n",
       "      <td>7</td>\n",
       "    </tr>\n",
       "    <tr>\n",
       "      <th>2</th>\n",
       "      <td>0</td>\n",
       "      <td>11</td>\n",
       "    </tr>\n",
       "    <tr>\n",
       "      <th>3</th>\n",
       "      <td>2</td>\n",
       "      <td>3</td>\n",
       "    </tr>\n",
       "    <tr>\n",
       "      <th>4</th>\n",
       "      <td>2</td>\n",
       "      <td>2</td>\n",
       "    </tr>\n",
       "  </tbody>\n",
       "</table>\n",
       "</div>"
      ],
      "text/plain": [
       "   weekday  hour\n",
       "0        2    15\n",
       "1        3     7\n",
       "2        0    11\n",
       "3        2     3\n",
       "4        2     2"
      ]
     },
     "execution_count": 15,
     "metadata": {},
     "output_type": "execute_result"
    }
   ],
   "source": [
    "df[['weekday', 'hour']].head()"
   ]
  },
  {
   "cell_type": "markdown",
   "metadata": {},
   "source": [
    "We visualize the influence of the hour and of the day on the 'click' frequency. To do so we plot 'click' vs 'hour' and 'click' vs 'weekday' curves."
   ]
  },
  {
   "cell_type": "code",
   "execution_count": 16,
   "metadata": {
    "ExecuteTime": {
     "end_time": "2019-01-05T17:30:30.377480Z",
     "start_time": "2019-01-05T17:30:30.326087Z"
    }
   },
   "outputs": [
    {
     "data": {
      "text/html": [
       "<div>\n",
       "<style scoped>\n",
       "    .dataframe tbody tr th:only-of-type {\n",
       "        vertical-align: middle;\n",
       "    }\n",
       "\n",
       "    .dataframe tbody tr th {\n",
       "        vertical-align: top;\n",
       "    }\n",
       "\n",
       "    .dataframe thead th {\n",
       "        text-align: right;\n",
       "    }\n",
       "</style>\n",
       "<table border=\"1\" class=\"dataframe\">\n",
       "  <thead>\n",
       "    <tr style=\"text-align: right;\">\n",
       "      <th>hour</th>\n",
       "      <th>0</th>\n",
       "      <th>1</th>\n",
       "      <th>2</th>\n",
       "      <th>3</th>\n",
       "      <th>4</th>\n",
       "      <th>5</th>\n",
       "      <th>6</th>\n",
       "      <th>7</th>\n",
       "      <th>8</th>\n",
       "      <th>9</th>\n",
       "      <th>...</th>\n",
       "      <th>14</th>\n",
       "      <th>15</th>\n",
       "      <th>16</th>\n",
       "      <th>17</th>\n",
       "      <th>18</th>\n",
       "      <th>19</th>\n",
       "      <th>20</th>\n",
       "      <th>21</th>\n",
       "      <th>22</th>\n",
       "      <th>23</th>\n",
       "    </tr>\n",
       "  </thead>\n",
       "  <tbody>\n",
       "    <tr>\n",
       "      <th>click</th>\n",
       "      <td>0.182707</td>\n",
       "      <td>0.185734</td>\n",
       "      <td>0.175552</td>\n",
       "      <td>0.175367</td>\n",
       "      <td>0.159664</td>\n",
       "      <td>0.162126</td>\n",
       "      <td>0.169315</td>\n",
       "      <td>0.17749</td>\n",
       "      <td>0.163418</td>\n",
       "      <td>0.159042</td>\n",
       "      <td>...</td>\n",
       "      <td>0.178075</td>\n",
       "      <td>0.183737</td>\n",
       "      <td>0.180076</td>\n",
       "      <td>0.173271</td>\n",
       "      <td>0.164072</td>\n",
       "      <td>0.165725</td>\n",
       "      <td>0.158402</td>\n",
       "      <td>0.162384</td>\n",
       "      <td>0.166847</td>\n",
       "      <td>0.170733</td>\n",
       "    </tr>\n",
       "  </tbody>\n",
       "</table>\n",
       "<p>1 rows × 24 columns</p>\n",
       "</div>"
      ],
      "text/plain": [
       "hour         0         1         2         3         4         5         6   \\\n",
       "click  0.182707  0.185734  0.175552  0.175367  0.159664  0.162126  0.169315   \n",
       "\n",
       "hour        7         8         9     ...           14        15        16  \\\n",
       "click  0.17749  0.163418  0.159042    ...     0.178075  0.183737  0.180076   \n",
       "\n",
       "hour         17        18        19        20        21        22        23  \n",
       "click  0.173271  0.164072  0.165725  0.158402  0.162384  0.166847  0.170733  \n",
       "\n",
       "[1 rows x 24 columns]"
      ]
     },
     "execution_count": 16,
     "metadata": {},
     "output_type": "execute_result"
    }
   ],
   "source": [
    "df_hours = pd.DataFrame(df.groupby('hour')[\"click\"].mean()) # Fill here for the influence of the hour\n",
    "df_hours.T"
   ]
  },
  {
   "cell_type": "code",
   "execution_count": 17,
   "metadata": {
    "ExecuteTime": {
     "end_time": "2019-01-05T17:30:30.404443Z",
     "start_time": "2019-01-05T17:30:30.379736Z"
    }
   },
   "outputs": [
    {
     "data": {
      "text/html": [
       "<div>\n",
       "<style scoped>\n",
       "    .dataframe tbody tr th:only-of-type {\n",
       "        vertical-align: middle;\n",
       "    }\n",
       "\n",
       "    .dataframe tbody tr th {\n",
       "        vertical-align: top;\n",
       "    }\n",
       "\n",
       "    .dataframe thead th {\n",
       "        text-align: right;\n",
       "    }\n",
       "</style>\n",
       "<table border=\"1\" class=\"dataframe\">\n",
       "  <thead>\n",
       "    <tr style=\"text-align: right;\">\n",
       "      <th>weekday</th>\n",
       "      <th>0</th>\n",
       "      <th>1</th>\n",
       "      <th>2</th>\n",
       "      <th>3</th>\n",
       "      <th>4</th>\n",
       "      <th>5</th>\n",
       "      <th>6</th>\n",
       "    </tr>\n",
       "  </thead>\n",
       "  <tbody>\n",
       "    <tr>\n",
       "      <th>click</th>\n",
       "      <td>0.183143</td>\n",
       "      <td>0.161577</td>\n",
       "      <td>0.158675</td>\n",
       "      <td>0.173795</td>\n",
       "      <td>0.173392</td>\n",
       "      <td>0.183995</td>\n",
       "      <td>0.183105</td>\n",
       "    </tr>\n",
       "  </tbody>\n",
       "</table>\n",
       "</div>"
      ],
      "text/plain": [
       "weekday         0         1         2         3         4         5         6\n",
       "click    0.183143  0.161577  0.158675  0.173795  0.173392  0.183995  0.183105"
      ]
     },
     "execution_count": 17,
     "metadata": {},
     "output_type": "execute_result"
    }
   ],
   "source": [
    "df_weekday = pd.DataFrame(df.groupby('weekday')[\"click\"].mean()) # Fill here for the influence of the weekday\n",
    "df_weekday.T"
   ]
  },
  {
   "cell_type": "code",
   "execution_count": 18,
   "metadata": {
    "ExecuteTime": {
     "end_time": "2019-01-05T17:30:30.551570Z",
     "start_time": "2019-01-05T17:30:30.406029Z"
    }
   },
   "outputs": [
    {
     "data": {
      "image/png": "[encoded data removed]",
      "text/plain": [
       "<Figure size 432x288 with 1 Axes>"
      ]
     },
     "metadata": {
      "needs_background": "light"
     },
     "output_type": "display_data"
    }
   ],
   "source": [
    "df_hours['mean'] = df['click'].mean()\n",
    "\n",
    "df_hours.plot()\n",
    "plt.show()"
   ]
  },
  {
   "cell_type": "code",
   "execution_count": 19,
   "metadata": {
    "ExecuteTime": {
     "end_time": "2019-01-05T17:30:30.682057Z",
     "start_time": "2019-01-05T17:30:30.552776Z"
    }
   },
   "outputs": [
    {
     "data": {
      "image/png": "[encoded data removed]",
      "text/plain": [
       "<Figure size 432x288 with 1 Axes>"
      ]
     },
     "metadata": {
      "needs_background": "light"
     },
     "output_type": "display_data"
    }
   ],
   "source": [
    "df_weekday['mean'] = df['click'].mean()\n",
    "\n",
    "df_weekday.plot()\n",
    "plt.show()"
   ]
  },
  {
   "cell_type": "markdown",
   "metadata": {},
   "source": [
    "<strong>Additional plots</strong>"
   ]
  },
  {
   "cell_type": "code",
   "execution_count": 20,
   "metadata": {
    "ExecuteTime": {
     "end_time": "2019-01-05T17:30:30.865096Z",
     "start_time": "2019-01-05T17:30:30.683993Z"
    }
   },
   "outputs": [
    {
     "data": {
      "image/png": "[encoded data removed]",
      "text/plain": [
       "<Figure size 432x288 with 1 Axes>"
      ]
     },
     "metadata": {
      "needs_background": "light"
     },
     "output_type": "display_data"
    }
   ],
   "source": [
    "df_hours['click'].plot(kind=\"bar\")\n",
    "plt.show()"
   ]
  },
  {
   "cell_type": "code",
   "execution_count": 21,
   "metadata": {
    "ExecuteTime": {
     "end_time": "2019-01-05T17:30:30.981318Z",
     "start_time": "2019-01-05T17:30:30.866244Z"
    }
   },
   "outputs": [
    {
     "data": {
      "image/png": "[encoded data removed]",
      "text/plain": [
       "<Figure size 432x288 with 1 Axes>"
      ]
     },
     "metadata": {
      "needs_background": "light"
     },
     "output_type": "display_data"
    }
   ],
   "source": [
    "week_plot = df.groupby('weekday')['click'].count()  # Fill here for the influence of the day\n",
    "plt.plot(week_plot)\n",
    "plt.show()"
   ]
  },
  {
   "cell_type": "code",
   "execution_count": 22,
   "metadata": {
    "ExecuteTime": {
     "end_time": "2019-01-05T17:30:31.079217Z",
     "start_time": "2019-01-05T17:30:30.982781Z"
    }
   },
   "outputs": [
    {
     "data": {
      "image/png": "[encoded data removed]",
      "text/plain": [
       "<Figure size 432x288 with 1 Axes>"
      ]
     },
     "metadata": {
      "needs_background": "light"
     },
     "output_type": "display_data"
    }
   ],
   "source": [
    "week_plot.plot(kind=\"bar\")\n",
    "plt.show()"
   ]
  },
  {
   "cell_type": "markdown",
   "metadata": {},
   "source": [
    "<strong>Hour : </strong> <br>\n",
    "    X axis represents hours of the day and Y axis the click frequency mean. A significant click rate is noticeable in the morning, around 7 to 9pm, relating to people commuting in public transports and using their phones. The same phenomenon can be observed around the end of the afternoon, for the commute back home. Lastly, there is a 3rd peak in late evening / beginning of the night : it probably represents a more and more common habits of people using their phones in their bed, right before going to sleep."
   ]
  },
  {
   "cell_type": "markdown",
   "metadata": {
    "ExecuteTime": {
     "end_time": "2019-01-05T09:48:49.664868Z",
     "start_time": "2019-01-05T09:48:49.655544Z"
    }
   },
   "source": [
    "<strong>Weekday : </strong> <br>\n",
    "X axis represents the days of the week and Y axis the click frequency mean as well. Here, the distribution seems to be in 2 phases : a strong clickrate phase centered on the week-end, starting at the end of the working week (from Thursdays / Fridays) and finishing on mondays. Then, a weak phase centered on Tuesdays and Wednesdays. Thus, people seem to use their phones a lot more in the week-ends and close to them rather than in the middle of the week. "
   ]
  },
  {
   "cell_type": "markdown",
   "metadata": {},
   "source": [
    "# Preliminary work and first model"
   ]
  },
  {
   "cell_type": "markdown",
   "metadata": {},
   "source": [
    "Start by understanding the features with few modalities:\n",
    "'hour', 'weekday', 'C1', 'banner_pos', 'site_category', 'app_category', 'device_type', 'device_conn_type', 'C15', 'C16', 'C18', 'C21'."
   ]
  },
  {
   "cell_type": "code",
   "execution_count": 23,
   "metadata": {
    "ExecuteTime": {
     "end_time": "2019-01-05T17:30:31.098911Z",
     "start_time": "2019-01-05T17:30:31.080768Z"
    }
   },
   "outputs": [
    {
     "data": {
      "text/html": [
       "<div>\n",
       "<style scoped>\n",
       "    .dataframe tbody tr th:only-of-type {\n",
       "        vertical-align: middle;\n",
       "    }\n",
       "\n",
       "    .dataframe tbody tr th {\n",
       "        vertical-align: top;\n",
       "    }\n",
       "\n",
       "    .dataframe thead th {\n",
       "        text-align: right;\n",
       "    }\n",
       "</style>\n",
       "<table border=\"1\" class=\"dataframe\">\n",
       "  <thead>\n",
       "    <tr style=\"text-align: right;\">\n",
       "      <th>C15</th>\n",
       "      <th>120</th>\n",
       "      <th>216</th>\n",
       "      <th>300</th>\n",
       "      <th>320</th>\n",
       "      <th>480</th>\n",
       "      <th>728</th>\n",
       "      <th>768</th>\n",
       "      <th>1024</th>\n",
       "    </tr>\n",
       "  </thead>\n",
       "  <tbody>\n",
       "    <tr>\n",
       "      <th>click</th>\n",
       "      <td>0.033708</td>\n",
       "      <td>0.129612</td>\n",
       "      <td>0.360537</td>\n",
       "      <td>0.158767</td>\n",
       "      <td>0.285714</td>\n",
       "      <td>0.054144</td>\n",
       "      <td>0.375</td>\n",
       "      <td>0.166667</td>\n",
       "    </tr>\n",
       "  </tbody>\n",
       "</table>\n",
       "</div>"
      ],
      "text/plain": [
       "C15        120       216       300       320       480       728    768   \\\n",
       "click  0.033708  0.129612  0.360537  0.158767  0.285714  0.054144  0.375   \n",
       "\n",
       "C15        1024  \n",
       "click  0.166667  "
      ]
     },
     "execution_count": 23,
     "metadata": {},
     "output_type": "execute_result"
    }
   ],
   "source": [
    "df_C15 = pd.DataFrame(df.groupby('C15')[\"click\"].mean()) # Fill here: inspect 'C15' using '.groupby'\n",
    "df_C15.T"
   ]
  },
  {
   "cell_type": "code",
   "execution_count": 24,
   "metadata": {
    "ExecuteTime": {
     "end_time": "2019-01-05T17:30:31.249784Z",
     "start_time": "2019-01-05T17:30:31.100212Z"
    }
   },
   "outputs": [
    {
     "data": {
      "image/png": "[encoded data removed]",
      "text/plain": [
       "<Figure size 432x288 with 1 Axes>"
      ]
     },
     "metadata": {
      "needs_background": "light"
     },
     "output_type": "display_data"
    }
   ],
   "source": [
    "df.groupby('C15')['click'].mean().plot(kind=\"bar\")\n",
    "plt.show()"
   ]
  },
  {
   "cell_type": "code",
   "execution_count": 25,
   "metadata": {
    "ExecuteTime": {
     "end_time": "2019-01-05T17:30:31.311373Z",
     "start_time": "2019-01-05T17:30:31.251132Z"
    }
   },
   "outputs": [
    {
     "data": {
      "text/html": [
       "<div>\n",
       "<style scoped>\n",
       "    .dataframe tbody tr th:only-of-type {\n",
       "        vertical-align: middle;\n",
       "    }\n",
       "\n",
       "    .dataframe tbody tr th {\n",
       "        vertical-align: top;\n",
       "    }\n",
       "\n",
       "    .dataframe thead th {\n",
       "        text-align: right;\n",
       "    }\n",
       "</style>\n",
       "<table border=\"1\" class=\"dataframe\">\n",
       "  <thead>\n",
       "    <tr style=\"text-align: right;\">\n",
       "      <th>site_category</th>\n",
       "      <th>0569f928</th>\n",
       "      <th>28905ebd</th>\n",
       "      <th>335d28a8</th>\n",
       "      <th>3e814130</th>\n",
       "      <th>42a36e14</th>\n",
       "      <th>50e219e0</th>\n",
       "      <th>5378d028</th>\n",
       "      <th>70fb0e29</th>\n",
       "      <th>72722551</th>\n",
       "      <th>75fa27f6</th>\n",
       "      <th>...</th>\n",
       "      <th>9ccfa2ea</th>\n",
       "      <th>a818d37a</th>\n",
       "      <th>bcf865d9</th>\n",
       "      <th>c0dd3be3</th>\n",
       "      <th>c706e647</th>\n",
       "      <th>da34532e</th>\n",
       "      <th>dedf689d</th>\n",
       "      <th>e787de0e</th>\n",
       "      <th>f028772b</th>\n",
       "      <th>f66779e6</th>\n",
       "    </tr>\n",
       "  </thead>\n",
       "  <tbody>\n",
       "    <tr>\n",
       "      <th>click</th>\n",
       "      <td>0.053613</td>\n",
       "      <td>0.208076</td>\n",
       "      <td>0.089824</td>\n",
       "      <td>0.284245</td>\n",
       "      <td>0.225806</td>\n",
       "      <td>0.128597</td>\n",
       "      <td>0.0</td>\n",
       "      <td>0.144737</td>\n",
       "      <td>0.059172</td>\n",
       "      <td>0.111305</td>\n",
       "      <td>...</td>\n",
       "      <td>0.0</td>\n",
       "      <td>0.0</td>\n",
       "      <td>0.0</td>\n",
       "      <td>0.128655</td>\n",
       "      <td>0.0</td>\n",
       "      <td>0.0</td>\n",
       "      <td>0.530449</td>\n",
       "      <td>0.0</td>\n",
       "      <td>0.179719</td>\n",
       "      <td>0.034564</td>\n",
       "    </tr>\n",
       "  </tbody>\n",
       "</table>\n",
       "<p>1 rows × 22 columns</p>\n",
       "</div>"
      ],
      "text/plain": [
       "site_category  0569f928  28905ebd  335d28a8  3e814130  42a36e14  50e219e0  \\\n",
       "click          0.053613  0.208076  0.089824  0.284245  0.225806  0.128597   \n",
       "\n",
       "site_category  5378d028  70fb0e29  72722551  75fa27f6    ...     9ccfa2ea  \\\n",
       "click               0.0  0.144737  0.059172  0.111305    ...          0.0   \n",
       "\n",
       "site_category  a818d37a  bcf865d9  c0dd3be3  c706e647  da34532e  dedf689d  \\\n",
       "click               0.0       0.0  0.128655       0.0       0.0  0.530449   \n",
       "\n",
       "site_category  e787de0e  f028772b  f66779e6  \n",
       "click               0.0  0.179719  0.034564  \n",
       "\n",
       "[1 rows x 22 columns]"
      ]
     },
     "execution_count": 25,
     "metadata": {},
     "output_type": "execute_result"
    }
   ],
   "source": [
    "df_site_category = pd.DataFrame(df.groupby('site_category')[\"click\"].mean()) # Fill here: inspect 'site_category' using '.groupby'\n",
    "df_site_category.T "
   ]
  },
  {
   "cell_type": "code",
   "execution_count": 26,
   "metadata": {
    "ExecuteTime": {
     "end_time": "2019-01-05T17:30:31.527918Z",
     "start_time": "2019-01-05T17:30:31.312979Z"
    }
   },
   "outputs": [
    {
     "data": {
      "image/png": "[encoded data removed]",
      "text/plain": [
       "<Figure size 432x288 with 1 Axes>"
      ]
     },
     "metadata": {
      "needs_background": "light"
     },
     "output_type": "display_data"
    }
   ],
   "source": [
    "df.groupby('site_category')['click'].mean().plot(kind=\"bar\")\n",
    "plt.show()"
   ]
  },
  {
   "cell_type": "markdown",
   "metadata": {},
   "source": [
    "Some site categories have a null click rate. We display the count of each modality"
   ]
  },
  {
   "cell_type": "code",
   "execution_count": 27,
   "metadata": {
    "ExecuteTime": {
     "end_time": "2019-01-05T17:30:31.702906Z",
     "start_time": "2019-01-05T17:30:31.529208Z"
    }
   },
   "outputs": [
    {
     "data": {
      "text/html": [
       "<div>\n",
       "<style scoped>\n",
       "    .dataframe tbody tr th:only-of-type {\n",
       "        vertical-align: middle;\n",
       "    }\n",
       "\n",
       "    .dataframe tbody tr th {\n",
       "        vertical-align: top;\n",
       "    }\n",
       "\n",
       "    .dataframe thead th {\n",
       "        text-align: right;\n",
       "    }\n",
       "</style>\n",
       "<table border=\"1\" class=\"dataframe\">\n",
       "  <thead>\n",
       "    <tr style=\"text-align: right;\">\n",
       "      <th></th>\n",
       "      <th></th>\n",
       "      <th>Value Count</th>\n",
       "    </tr>\n",
       "    <tr>\n",
       "      <th>site_category</th>\n",
       "      <th>click</th>\n",
       "      <th></th>\n",
       "    </tr>\n",
       "  </thead>\n",
       "  <tbody>\n",
       "    <tr>\n",
       "      <th rowspan=\"2\" valign=\"top\">0569f928</th>\n",
       "      <th>0</th>\n",
       "      <td>406</td>\n",
       "    </tr>\n",
       "    <tr>\n",
       "      <th>1</th>\n",
       "      <td>23</td>\n",
       "    </tr>\n",
       "    <tr>\n",
       "      <th rowspan=\"2\" valign=\"top\">28905ebd</th>\n",
       "      <th>0</th>\n",
       "      <td>144146</td>\n",
       "    </tr>\n",
       "    <tr>\n",
       "      <th>1</th>\n",
       "      <td>37874</td>\n",
       "    </tr>\n",
       "    <tr>\n",
       "      <th rowspan=\"2\" valign=\"top\">335d28a8</th>\n",
       "      <th>0</th>\n",
       "      <td>3050</td>\n",
       "    </tr>\n",
       "    <tr>\n",
       "      <th>1</th>\n",
       "      <td>301</td>\n",
       "    </tr>\n",
       "    <tr>\n",
       "      <th rowspan=\"2\" valign=\"top\">3e814130</th>\n",
       "      <th>0</th>\n",
       "      <td>54159</td>\n",
       "    </tr>\n",
       "    <tr>\n",
       "      <th>1</th>\n",
       "      <td>21508</td>\n",
       "    </tr>\n",
       "    <tr>\n",
       "      <th rowspan=\"2\" valign=\"top\">42a36e14</th>\n",
       "      <th>0</th>\n",
       "      <td>48</td>\n",
       "    </tr>\n",
       "    <tr>\n",
       "      <th>1</th>\n",
       "      <td>14</td>\n",
       "    </tr>\n",
       "    <tr>\n",
       "      <th rowspan=\"2\" valign=\"top\">50e219e0</th>\n",
       "      <th>0</th>\n",
       "      <td>356335</td>\n",
       "    </tr>\n",
       "    <tr>\n",
       "      <th>1</th>\n",
       "      <td>52586</td>\n",
       "    </tr>\n",
       "    <tr>\n",
       "      <th>5378d028</th>\n",
       "      <th>0</th>\n",
       "      <td>11</td>\n",
       "    </tr>\n",
       "    <tr>\n",
       "      <th rowspan=\"2\" valign=\"top\">70fb0e29</th>\n",
       "      <th>0</th>\n",
       "      <td>520</td>\n",
       "    </tr>\n",
       "    <tr>\n",
       "      <th>1</th>\n",
       "      <td>88</td>\n",
       "    </tr>\n",
       "    <tr>\n",
       "      <th rowspan=\"2\" valign=\"top\">72722551</th>\n",
       "      <th>0</th>\n",
       "      <td>636</td>\n",
       "    </tr>\n",
       "    <tr>\n",
       "      <th>1</th>\n",
       "      <td>40</td>\n",
       "    </tr>\n",
       "    <tr>\n",
       "      <th rowspan=\"2\" valign=\"top\">75fa27f6</th>\n",
       "      <th>0</th>\n",
       "      <td>3561</td>\n",
       "    </tr>\n",
       "    <tr>\n",
       "      <th>1</th>\n",
       "      <td>446</td>\n",
       "    </tr>\n",
       "    <tr>\n",
       "      <th rowspan=\"2\" valign=\"top\">76b2941d</th>\n",
       "      <th>0</th>\n",
       "      <td>2481</td>\n",
       "    </tr>\n",
       "    <tr>\n",
       "      <th>1</th>\n",
       "      <td>92</td>\n",
       "    </tr>\n",
       "    <tr>\n",
       "      <th rowspan=\"2\" valign=\"top\">8fd0aea4</th>\n",
       "      <th>0</th>\n",
       "      <td>186</td>\n",
       "    </tr>\n",
       "    <tr>\n",
       "      <th>1</th>\n",
       "      <td>3</td>\n",
       "    </tr>\n",
       "    <tr>\n",
       "      <th>9ccfa2ea</th>\n",
       "      <th>0</th>\n",
       "      <td>5</td>\n",
       "    </tr>\n",
       "    <tr>\n",
       "      <th>a818d37a</th>\n",
       "      <th>0</th>\n",
       "      <td>81</td>\n",
       "    </tr>\n",
       "    <tr>\n",
       "      <th>bcf865d9</th>\n",
       "      <th>0</th>\n",
       "      <td>16</td>\n",
       "    </tr>\n",
       "    <tr>\n",
       "      <th rowspan=\"2\" valign=\"top\">c0dd3be3</th>\n",
       "      <th>0</th>\n",
       "      <td>894</td>\n",
       "    </tr>\n",
       "    <tr>\n",
       "      <th>1</th>\n",
       "      <td>132</td>\n",
       "    </tr>\n",
       "    <tr>\n",
       "      <th>c706e647</th>\n",
       "      <th>0</th>\n",
       "      <td>1</td>\n",
       "    </tr>\n",
       "    <tr>\n",
       "      <th>da34532e</th>\n",
       "      <th>0</th>\n",
       "      <td>1</td>\n",
       "    </tr>\n",
       "    <tr>\n",
       "      <th rowspan=\"2\" valign=\"top\">dedf689d</th>\n",
       "      <th>1</th>\n",
       "      <td>331</td>\n",
       "    </tr>\n",
       "    <tr>\n",
       "      <th>0</th>\n",
       "      <td>293</td>\n",
       "    </tr>\n",
       "    <tr>\n",
       "      <th>e787de0e</th>\n",
       "      <th>0</th>\n",
       "      <td>28</td>\n",
       "    </tr>\n",
       "    <tr>\n",
       "      <th rowspan=\"2\" valign=\"top\">f028772b</th>\n",
       "      <th>0</th>\n",
       "      <td>257026</td>\n",
       "    </tr>\n",
       "    <tr>\n",
       "      <th>1</th>\n",
       "      <td>56313</td>\n",
       "    </tr>\n",
       "    <tr>\n",
       "      <th rowspan=\"2\" valign=\"top\">f66779e6</th>\n",
       "      <th>0</th>\n",
       "      <td>6145</td>\n",
       "    </tr>\n",
       "    <tr>\n",
       "      <th>1</th>\n",
       "      <td>220</td>\n",
       "    </tr>\n",
       "  </tbody>\n",
       "</table>\n",
       "</div>"
      ],
      "text/plain": [
       "                     Value Count\n",
       "site_category click             \n",
       "0569f928      0              406\n",
       "              1               23\n",
       "28905ebd      0           144146\n",
       "              1            37874\n",
       "335d28a8      0             3050\n",
       "              1              301\n",
       "3e814130      0            54159\n",
       "              1            21508\n",
       "42a36e14      0               48\n",
       "              1               14\n",
       "50e219e0      0           356335\n",
       "              1            52586\n",
       "5378d028      0               11\n",
       "70fb0e29      0              520\n",
       "              1               88\n",
       "72722551      0              636\n",
       "              1               40\n",
       "75fa27f6      0             3561\n",
       "              1              446\n",
       "76b2941d      0             2481\n",
       "              1               92\n",
       "8fd0aea4      0              186\n",
       "              1                3\n",
       "9ccfa2ea      0                5\n",
       "a818d37a      0               81\n",
       "bcf865d9      0               16\n",
       "c0dd3be3      0              894\n",
       "              1              132\n",
       "c706e647      0                1\n",
       "da34532e      0                1\n",
       "dedf689d      1              331\n",
       "              0              293\n",
       "e787de0e      0               28\n",
       "f028772b      0           257026\n",
       "              1            56313\n",
       "f66779e6      0             6145\n",
       "              1              220"
      ]
     },
     "execution_count": 27,
     "metadata": {},
     "output_type": "execute_result"
    }
   ],
   "source": [
    "df_q11 = pd.DataFrame(df.groupby('site_category')['click'].value_counts())\n",
    "df_q11.columns = ['Value Count']\n",
    "df_q11"
   ]
  },
  {
   "cell_type": "markdown",
   "metadata": {
    "ExecuteTime": {
     "end_time": "2019-01-05T10:27:59.863821Z",
     "start_time": "2019-01-05T10:27:59.674302Z"
    }
   },
   "source": [
    "We can see here that some site categories have a null click rate."
   ]
  },
  {
   "cell_type": "markdown",
   "metadata": {},
   "source": [
    "It is practical to visualize both columns in parallel:"
   ]
  },
  {
   "cell_type": "code",
   "execution_count": 28,
   "metadata": {
    "ExecuteTime": {
     "end_time": "2019-01-05T17:30:32.331835Z",
     "start_time": "2019-01-05T17:30:31.705169Z"
    }
   },
   "outputs": [
    {
     "data": {
      "text/html": [
       "<div>\n",
       "<style scoped>\n",
       "    .dataframe tbody tr th:only-of-type {\n",
       "        vertical-align: middle;\n",
       "    }\n",
       "\n",
       "    .dataframe tbody tr th {\n",
       "        vertical-align: top;\n",
       "    }\n",
       "\n",
       "    .dataframe thead th {\n",
       "        text-align: right;\n",
       "    }\n",
       "</style>\n",
       "<table border=\"1\" class=\"dataframe\">\n",
       "  <thead>\n",
       "    <tr style=\"text-align: right;\">\n",
       "      <th></th>\n",
       "      <th>mean</th>\n",
       "      <th>count</th>\n",
       "    </tr>\n",
       "    <tr>\n",
       "      <th>site_category</th>\n",
       "      <th></th>\n",
       "      <th></th>\n",
       "    </tr>\n",
       "  </thead>\n",
       "  <tbody>\n",
       "    <tr>\n",
       "      <th>0569f928</th>\n",
       "      <td>0.053613</td>\n",
       "      <td>429.0</td>\n",
       "    </tr>\n",
       "    <tr>\n",
       "      <th>8fd0aea4</th>\n",
       "      <td>0.015873</td>\n",
       "      <td>189.0</td>\n",
       "    </tr>\n",
       "    <tr>\n",
       "      <th>a818d37a</th>\n",
       "      <td>0.000000</td>\n",
       "      <td>81.0</td>\n",
       "    </tr>\n",
       "    <tr>\n",
       "      <th>42a36e14</th>\n",
       "      <td>0.225806</td>\n",
       "      <td>62.0</td>\n",
       "    </tr>\n",
       "    <tr>\n",
       "      <th>e787de0e</th>\n",
       "      <td>0.000000</td>\n",
       "      <td>28.0</td>\n",
       "    </tr>\n",
       "    <tr>\n",
       "      <th>bcf865d9</th>\n",
       "      <td>0.000000</td>\n",
       "      <td>16.0</td>\n",
       "    </tr>\n",
       "    <tr>\n",
       "      <th>5378d028</th>\n",
       "      <td>0.000000</td>\n",
       "      <td>11.0</td>\n",
       "    </tr>\n",
       "    <tr>\n",
       "      <th>9ccfa2ea</th>\n",
       "      <td>0.000000</td>\n",
       "      <td>5.0</td>\n",
       "    </tr>\n",
       "    <tr>\n",
       "      <th>c706e647</th>\n",
       "      <td>0.000000</td>\n",
       "      <td>1.0</td>\n",
       "    </tr>\n",
       "    <tr>\n",
       "      <th>da34532e</th>\n",
       "      <td>0.000000</td>\n",
       "      <td>1.0</td>\n",
       "    </tr>\n",
       "  </tbody>\n",
       "</table>\n",
       "</div>"
      ],
      "text/plain": [
       "                   mean  count\n",
       "site_category                 \n",
       "0569f928       0.053613  429.0\n",
       "8fd0aea4       0.015873  189.0\n",
       "a818d37a       0.000000   81.0\n",
       "42a36e14       0.225806   62.0\n",
       "e787de0e       0.000000   28.0\n",
       "bcf865d9       0.000000   16.0\n",
       "5378d028       0.000000   11.0\n",
       "9ccfa2ea       0.000000    5.0\n",
       "c706e647       0.000000    1.0\n",
       "da34532e       0.000000    1.0"
      ]
     },
     "execution_count": 28,
     "metadata": {},
     "output_type": "execute_result"
    }
   ],
   "source": [
    "col = 'site_category'\n",
    "a = pd.DataFrame([df.groupby(col).mean()['click'], df.groupby(col).count()['click']]).transpose()\n",
    "a.columns = ['mean', 'count']\n",
    "a.sort_values(by='count', ascending=False).tail(10)"
   ]
  },
  {
   "cell_type": "markdown",
   "metadata": {},
   "source": [
    "This table shows that the site categories that have a null click rate also have low counts. It means they do not appear much in the dataset and thus the click rate calculated might not be relevant as there is not enough instances of it."
   ]
  },
  {
   "cell_type": "markdown",
   "metadata": {},
   "source": [
    "We divide the set into training (90%) and test (10%)"
   ]
  },
  {
   "cell_type": "code",
   "execution_count": 29,
   "metadata": {
    "ExecuteTime": {
     "end_time": "2019-01-05T17:30:33.419405Z",
     "start_time": "2019-01-05T17:30:32.333205Z"
    }
   },
   "outputs": [],
   "source": [
    "SEED = 100\n",
    "#df2 = df.copy()\n",
    "#df2 = df2.drop(\"id\", axis=1)\n",
    "from sklearn.model_selection import train_test_split\n",
    "Xtrain, Xtest, ytrain, ytest = train_test_split(\n",
    "    df.iloc[:,2:], df['click'], test_size=0.1, random_state = SEED)"
   ]
  },
  {
   "cell_type": "code",
   "execution_count": 30,
   "metadata": {
    "ExecuteTime": {
     "end_time": "2019-01-05T17:30:33.424249Z",
     "start_time": "2019-01-05T17:30:33.421196Z"
    }
   },
   "outputs": [
    {
     "name": "stdout",
     "output_type": "stream",
     "text": [
      "Train shape : (900000, 23)\n",
      "Test shape : (100000, 23)\n"
     ]
    }
   ],
   "source": [
    "print('Train shape : ' + str(Xtrain.shape))\n",
    "print('Test shape : ' + str(Xtest.shape))"
   ]
  },
  {
   "cell_type": "markdown",
   "metadata": {},
   "source": [
    "# First work on a reduced number of features"
   ]
  },
  {
   "cell_type": "code",
   "execution_count": 31,
   "metadata": {
    "ExecuteTime": {
     "end_time": "2019-01-05T17:30:33.487724Z",
     "start_time": "2019-01-05T17:30:33.426080Z"
    }
   },
   "outputs": [
    {
     "data": {
      "text/html": [
       "<div>\n",
       "<style scoped>\n",
       "    .dataframe tbody tr th:only-of-type {\n",
       "        vertical-align: middle;\n",
       "    }\n",
       "\n",
       "    .dataframe tbody tr th {\n",
       "        vertical-align: top;\n",
       "    }\n",
       "\n",
       "    .dataframe thead th {\n",
       "        text-align: right;\n",
       "    }\n",
       "</style>\n",
       "<table border=\"1\" class=\"dataframe\">\n",
       "  <thead>\n",
       "    <tr style=\"text-align: right;\">\n",
       "      <th></th>\n",
       "      <th>hour</th>\n",
       "      <th>weekday</th>\n",
       "      <th>C1</th>\n",
       "      <th>banner_pos</th>\n",
       "      <th>site_category</th>\n",
       "      <th>app_category</th>\n",
       "      <th>device_type</th>\n",
       "      <th>device_conn_type</th>\n",
       "      <th>C15</th>\n",
       "      <th>C16</th>\n",
       "      <th>C18</th>\n",
       "      <th>C21</th>\n",
       "    </tr>\n",
       "  </thead>\n",
       "  <tbody>\n",
       "    <tr>\n",
       "      <th>0</th>\n",
       "      <td>15</td>\n",
       "      <td>2</td>\n",
       "      <td>1005</td>\n",
       "      <td>1</td>\n",
       "      <td>f028772b</td>\n",
       "      <td>07d7df22</td>\n",
       "      <td>1</td>\n",
       "      <td>2</td>\n",
       "      <td>320</td>\n",
       "      <td>50</td>\n",
       "      <td>2</td>\n",
       "      <td>32</td>\n",
       "    </tr>\n",
       "    <tr>\n",
       "      <th>1</th>\n",
       "      <td>7</td>\n",
       "      <td>3</td>\n",
       "      <td>1002</td>\n",
       "      <td>0</td>\n",
       "      <td>50e219e0</td>\n",
       "      <td>07d7df22</td>\n",
       "      <td>0</td>\n",
       "      <td>0</td>\n",
       "      <td>320</td>\n",
       "      <td>50</td>\n",
       "      <td>2</td>\n",
       "      <td>32</td>\n",
       "    </tr>\n",
       "    <tr>\n",
       "      <th>2</th>\n",
       "      <td>11</td>\n",
       "      <td>0</td>\n",
       "      <td>1005</td>\n",
       "      <td>0</td>\n",
       "      <td>50e219e0</td>\n",
       "      <td>cef3e649</td>\n",
       "      <td>1</td>\n",
       "      <td>0</td>\n",
       "      <td>320</td>\n",
       "      <td>50</td>\n",
       "      <td>1</td>\n",
       "      <td>71</td>\n",
       "    </tr>\n",
       "    <tr>\n",
       "      <th>3</th>\n",
       "      <td>3</td>\n",
       "      <td>2</td>\n",
       "      <td>1005</td>\n",
       "      <td>0</td>\n",
       "      <td>50e219e0</td>\n",
       "      <td>0f2161f8</td>\n",
       "      <td>1</td>\n",
       "      <td>0</td>\n",
       "      <td>320</td>\n",
       "      <td>50</td>\n",
       "      <td>0</td>\n",
       "      <td>221</td>\n",
       "    </tr>\n",
       "    <tr>\n",
       "      <th>4</th>\n",
       "      <td>2</td>\n",
       "      <td>2</td>\n",
       "      <td>1005</td>\n",
       "      <td>1</td>\n",
       "      <td>f028772b</td>\n",
       "      <td>07d7df22</td>\n",
       "      <td>1</td>\n",
       "      <td>0</td>\n",
       "      <td>320</td>\n",
       "      <td>50</td>\n",
       "      <td>3</td>\n",
       "      <td>23</td>\n",
       "    </tr>\n",
       "  </tbody>\n",
       "</table>\n",
       "</div>"
      ],
      "text/plain": [
       "   hour  weekday    C1  banner_pos site_category app_category  device_type  \\\n",
       "0    15        2  1005           1      f028772b     07d7df22            1   \n",
       "1     7        3  1002           0      50e219e0     07d7df22            0   \n",
       "2    11        0  1005           0      50e219e0     cef3e649            1   \n",
       "3     3        2  1005           0      50e219e0     0f2161f8            1   \n",
       "4     2        2  1005           1      f028772b     07d7df22            1   \n",
       "\n",
       "   device_conn_type  C15  C16  C18  C21  \n",
       "0                 2  320   50    2   32  \n",
       "1                 0  320   50    2   32  \n",
       "2                 0  320   50    1   71  \n",
       "3                 0  320   50    0  221  \n",
       "4                 0  320   50    3   23  "
      ]
     },
     "execution_count": 31,
     "metadata": {},
     "output_type": "execute_result"
    }
   ],
   "source": [
    "some_columns = ['hour', 'weekday', 'C1', 'banner_pos', 'site_category', 'app_category', \n",
    "                'device_type', 'device_conn_type', 'C15', 'C16', 'C18', 'C21']\n",
    "slice_df = df[some_columns]\n",
    "\n",
    "slice_df.head()"
   ]
  },
  {
   "cell_type": "code",
   "execution_count": 32,
   "metadata": {
    "ExecuteTime": {
     "end_time": "2019-01-05T17:30:36.420283Z",
     "start_time": "2019-01-05T17:30:33.489788Z"
    }
   },
   "outputs": [],
   "source": [
    "####This label encoding is only necessary for sklearn < 0.20 (since one hot encoder handle more categories and negative values in the further versions)\n",
    "# As some variables are in a hex-like format, we must first encode these labels\n",
    "\n",
    "from sklearn.preprocessing import LabelEncoder\n",
    "\n",
    "site_categ_label = LabelEncoder().fit(Xtrain['site_category'])\n",
    "app_categ_label = LabelEncoder().fit(Xtrain['app_category'])\n",
    "\n",
    "Xtrain['site_category'] = site_categ_label.transform(Xtrain['site_category'])\n",
    "Xtrain['app_category'] = app_categ_label.transform(Xtrain['app_category'])\n",
    "Xtest['site_category'] = site_categ_label.transform(Xtest['site_category'])\n",
    "Xtest['app_category'] = app_categ_label.transform(Xtest['app_category'])\n"
   ]
  },
  {
   "cell_type": "code",
   "execution_count": 33,
   "metadata": {
    "ExecuteTime": {
     "end_time": "2019-01-05T17:30:37.609740Z",
     "start_time": "2019-01-05T17:30:36.422393Z"
    }
   },
   "outputs": [
    {
     "name": "stderr",
     "output_type": "stream",
     "text": [
      "C:\\ProgramData\\Anaconda3\\lib\\site-packages\\sklearn\\preprocessing\\_encoders.py:368: FutureWarning: The handling of integer data will change in version 0.22. Currently, the categories are determined based on the range [0, max(values)], while in the future they will be determined based on the unique values.\n",
      "If you want the future behaviour and silence this warning, you can specify \"categories='auto'\".\n",
      "In case you used a LabelEncoder before this OneHotEncoder to convert the categories to integers, then you can now use the OneHotEncoder directly.\n",
      "  warnings.warn(msg, FutureWarning)\n"
     ]
    }
   ],
   "source": [
    "from sklearn.preprocessing import OneHotEncoder\n",
    "\n",
    "ohe = OneHotEncoder().fit(Xtrain[some_columns])\n",
    "\n",
    "Xtrain_oh = ohe.transform(Xtrain[some_columns]) # fit the transformation of Xtrain restricted to selected columns\n",
    "Xtest_oh = ohe.transform(Xtest[some_columns]) # and transform Xtest restricted to selected columns"
   ]
  },
  {
   "cell_type": "markdown",
   "metadata": {
    "ExecuteTime": {
     "end_time": "2018-12-17T14:47:14.276718Z",
     "start_time": "2018-12-17T14:47:14.256773Z"
    }
   },
   "source": [
    "We encoded the columns, each will have a 0 or a 1 for each different value of the column"
   ]
  },
  {
   "cell_type": "code",
   "execution_count": 34,
   "metadata": {
    "ExecuteTime": {
     "end_time": "2019-01-05T17:30:37.614091Z",
     "start_time": "2019-01-05T17:30:37.611122Z"
    }
   },
   "outputs": [
    {
     "name": "stdout",
     "output_type": "stream",
     "text": [
      "Number of features : 183\n"
     ]
    }
   ],
   "source": [
    "print(\"Number of features :\" ,Xtrain_oh.shape[1])"
   ]
  },
  {
   "cell_type": "markdown",
   "metadata": {},
   "source": [
    "We visualize the first row of the design matrix you have got."
   ]
  },
  {
   "cell_type": "code",
   "execution_count": 35,
   "metadata": {
    "ExecuteTime": {
     "end_time": "2019-01-05T17:30:38.251206Z",
     "start_time": "2019-01-05T17:30:37.616654Z"
    }
   },
   "outputs": [
    {
     "data": {
      "text/plain": [
       "array([0., 0., 0., 0., 0., 0., 0., 0., 0., 0., 1., 0., 0., 0., 0., 0., 0.,\n",
       "       0., 0., 0., 0., 0., 0., 0., 1., 0., 0., 0., 0., 0., 0., 0., 0., 0.,\n",
       "       0., 0., 1., 0., 0., 1., 0., 0., 0., 0., 0., 0., 0., 0., 0., 0., 1.,\n",
       "       0., 0., 0., 0., 0., 0., 0., 0., 0., 0., 0., 0., 0., 0., 0., 0., 0.,\n",
       "       0., 0., 1., 0., 0., 0., 0., 0., 0., 0., 0., 0., 0., 0., 0., 0., 0.,\n",
       "       0., 0., 0., 0., 0., 0., 0., 0., 0., 0., 0., 1., 0., 0., 0., 1., 0.,\n",
       "       0., 0., 0., 1., 0., 0., 0., 0., 0., 0., 1., 0., 0., 0., 0., 0., 0.,\n",
       "       1., 0., 0., 0., 0., 0., 0., 0., 0., 0., 0., 0., 0., 0., 0., 0., 0.,\n",
       "       0., 0., 0., 0., 0., 0., 0., 0., 0., 1., 0., 0., 0., 0., 0., 0., 0.,\n",
       "       0., 0., 0., 0., 0., 0., 0., 0., 0., 0., 0., 0., 0., 0., 0., 0., 0.,\n",
       "       0., 0., 0., 0., 0., 0., 0., 0., 0., 0., 0., 0., 0.])"
      ]
     },
     "execution_count": 35,
     "metadata": {},
     "output_type": "execute_result"
    }
   ],
   "source": [
    "Xtrain_oh.toarray()[0]"
   ]
  },
  {
   "cell_type": "markdown",
   "metadata": {},
   "source": [
    "We Import and fit a logistic regression model on our the encoded data"
   ]
  },
  {
   "cell_type": "code",
   "execution_count": 36,
   "metadata": {
    "ExecuteTime": {
     "end_time": "2019-01-05T17:30:56.898761Z",
     "start_time": "2019-01-05T17:30:38.252588Z"
    }
   },
   "outputs": [
    {
     "name": "stderr",
     "output_type": "stream",
     "text": [
      "C:\\ProgramData\\Anaconda3\\lib\\site-packages\\sklearn\\linear_model\\logistic.py:433: FutureWarning: Default solver will be changed to 'lbfgs' in 0.22. Specify a solver to silence this warning.\n",
      "  FutureWarning)\n"
     ]
    },
    {
     "data": {
      "text/plain": [
       "LogisticRegression(C=1.0, class_weight=None, dual=False, fit_intercept=True,\n",
       "          intercept_scaling=1, max_iter=100, multi_class='warn',\n",
       "          n_jobs=None, penalty='l2', random_state=100, solver='warn',\n",
       "          tol=0.0001, verbose=0, warm_start=False)"
      ]
     },
     "execution_count": 36,
     "metadata": {},
     "output_type": "execute_result"
    }
   ],
   "source": [
    "from sklearn.linear_model import LogisticRegression\n",
    "lr = LogisticRegression(random_state = SEED)\n",
    "lr.fit(Xtrain_oh,ytrain)"
   ]
  },
  {
   "cell_type": "markdown",
   "metadata": {},
   "source": [
    "We display the hard and soft decision you get on test data"
   ]
  },
  {
   "cell_type": "code",
   "execution_count": 37,
   "metadata": {
    "ExecuteTime": {
     "end_time": "2019-01-05T17:30:56.917393Z",
     "start_time": "2019-01-05T17:30:56.900184Z"
    }
   },
   "outputs": [
    {
     "data": {
      "text/html": [
       "<div>\n",
       "<style scoped>\n",
       "    .dataframe tbody tr th:only-of-type {\n",
       "        vertical-align: middle;\n",
       "    }\n",
       "\n",
       "    .dataframe tbody tr th {\n",
       "        vertical-align: top;\n",
       "    }\n",
       "\n",
       "    .dataframe thead th {\n",
       "        text-align: right;\n",
       "    }\n",
       "</style>\n",
       "<table border=\"1\" class=\"dataframe\">\n",
       "  <thead>\n",
       "    <tr style=\"text-align: right;\">\n",
       "      <th></th>\n",
       "      <th>0</th>\n",
       "      <th>1</th>\n",
       "      <th>2</th>\n",
       "      <th>3</th>\n",
       "      <th>4</th>\n",
       "      <th>5</th>\n",
       "      <th>6</th>\n",
       "      <th>7</th>\n",
       "      <th>8</th>\n",
       "      <th>9</th>\n",
       "      <th>...</th>\n",
       "      <th>99990</th>\n",
       "      <th>99991</th>\n",
       "      <th>99992</th>\n",
       "      <th>99993</th>\n",
       "      <th>99994</th>\n",
       "      <th>99995</th>\n",
       "      <th>99996</th>\n",
       "      <th>99997</th>\n",
       "      <th>99998</th>\n",
       "      <th>99999</th>\n",
       "    </tr>\n",
       "  </thead>\n",
       "  <tbody>\n",
       "    <tr>\n",
       "      <th>0</th>\n",
       "      <td>0</td>\n",
       "      <td>0</td>\n",
       "      <td>0</td>\n",
       "      <td>0</td>\n",
       "      <td>0</td>\n",
       "      <td>0</td>\n",
       "      <td>0</td>\n",
       "      <td>0</td>\n",
       "      <td>0</td>\n",
       "      <td>0</td>\n",
       "      <td>...</td>\n",
       "      <td>0</td>\n",
       "      <td>0</td>\n",
       "      <td>0</td>\n",
       "      <td>0</td>\n",
       "      <td>0</td>\n",
       "      <td>0</td>\n",
       "      <td>0</td>\n",
       "      <td>0</td>\n",
       "      <td>0</td>\n",
       "      <td>0</td>\n",
       "    </tr>\n",
       "  </tbody>\n",
       "</table>\n",
       "<p>1 rows × 100000 columns</p>\n",
       "</div>"
      ],
      "text/plain": [
       "   0      1      2      3      4      5      6      7      8      9      \\\n",
       "0      0      0      0      0      0      0      0      0      0      0   \n",
       "\n",
       "   ...    99990  99991  99992  99993  99994  99995  99996  99997  99998  99999  \n",
       "0  ...        0      0      0      0      0      0      0      0      0      0  \n",
       "\n",
       "[1 rows x 100000 columns]"
      ]
     },
     "execution_count": 37,
     "metadata": {},
     "output_type": "execute_result"
    }
   ],
   "source": [
    "hard = lr.predict(Xtest_oh)\n",
    "pd.DataFrame(hard).T"
   ]
  },
  {
   "cell_type": "code",
   "execution_count": 38,
   "metadata": {
    "ExecuteTime": {
     "end_time": "2019-01-05T17:30:56.947507Z",
     "start_time": "2019-01-05T17:30:56.918774Z"
    }
   },
   "outputs": [
    {
     "data": {
      "text/html": [
       "<div>\n",
       "<style scoped>\n",
       "    .dataframe tbody tr th:only-of-type {\n",
       "        vertical-align: middle;\n",
       "    }\n",
       "\n",
       "    .dataframe tbody tr th {\n",
       "        vertical-align: top;\n",
       "    }\n",
       "\n",
       "    .dataframe thead th {\n",
       "        text-align: right;\n",
       "    }\n",
       "</style>\n",
       "<table border=\"1\" class=\"dataframe\">\n",
       "  <thead>\n",
       "    <tr style=\"text-align: right;\">\n",
       "      <th></th>\n",
       "      <th>0</th>\n",
       "      <th>1</th>\n",
       "      <th>2</th>\n",
       "      <th>3</th>\n",
       "      <th>4</th>\n",
       "      <th>5</th>\n",
       "      <th>6</th>\n",
       "      <th>7</th>\n",
       "      <th>8</th>\n",
       "      <th>9</th>\n",
       "      <th>...</th>\n",
       "      <th>99990</th>\n",
       "      <th>99991</th>\n",
       "      <th>99992</th>\n",
       "      <th>99993</th>\n",
       "      <th>99994</th>\n",
       "      <th>99995</th>\n",
       "      <th>99996</th>\n",
       "      <th>99997</th>\n",
       "      <th>99998</th>\n",
       "      <th>99999</th>\n",
       "    </tr>\n",
       "  </thead>\n",
       "  <tbody>\n",
       "    <tr>\n",
       "      <th>0</th>\n",
       "      <td>0.75809</td>\n",
       "      <td>0.733976</td>\n",
       "      <td>0.796909</td>\n",
       "      <td>0.919778</td>\n",
       "      <td>0.750737</td>\n",
       "      <td>0.867929</td>\n",
       "      <td>0.897854</td>\n",
       "      <td>0.871542</td>\n",
       "      <td>0.874921</td>\n",
       "      <td>0.917218</td>\n",
       "      <td>...</td>\n",
       "      <td>0.790397</td>\n",
       "      <td>0.882462</td>\n",
       "      <td>0.858844</td>\n",
       "      <td>0.974004</td>\n",
       "      <td>0.832537</td>\n",
       "      <td>0.853709</td>\n",
       "      <td>0.902483</td>\n",
       "      <td>0.79254</td>\n",
       "      <td>0.785836</td>\n",
       "      <td>0.878487</td>\n",
       "    </tr>\n",
       "    <tr>\n",
       "      <th>1</th>\n",
       "      <td>0.24191</td>\n",
       "      <td>0.266024</td>\n",
       "      <td>0.203091</td>\n",
       "      <td>0.080222</td>\n",
       "      <td>0.249263</td>\n",
       "      <td>0.132071</td>\n",
       "      <td>0.102146</td>\n",
       "      <td>0.128458</td>\n",
       "      <td>0.125079</td>\n",
       "      <td>0.082782</td>\n",
       "      <td>...</td>\n",
       "      <td>0.209603</td>\n",
       "      <td>0.117538</td>\n",
       "      <td>0.141156</td>\n",
       "      <td>0.025996</td>\n",
       "      <td>0.167463</td>\n",
       "      <td>0.146291</td>\n",
       "      <td>0.097517</td>\n",
       "      <td>0.20746</td>\n",
       "      <td>0.214164</td>\n",
       "      <td>0.121513</td>\n",
       "    </tr>\n",
       "  </tbody>\n",
       "</table>\n",
       "<p>2 rows × 100000 columns</p>\n",
       "</div>"
      ],
      "text/plain": [
       "     0         1         2         3         4         5         6      \\\n",
       "0  0.75809  0.733976  0.796909  0.919778  0.750737  0.867929  0.897854   \n",
       "1  0.24191  0.266024  0.203091  0.080222  0.249263  0.132071  0.102146   \n",
       "\n",
       "      7         8         9        ...        99990     99991     99992  \\\n",
       "0  0.871542  0.874921  0.917218    ...     0.790397  0.882462  0.858844   \n",
       "1  0.128458  0.125079  0.082782    ...     0.209603  0.117538  0.141156   \n",
       "\n",
       "      99993     99994     99995     99996    99997     99998     99999  \n",
       "0  0.974004  0.832537  0.853709  0.902483  0.79254  0.785836  0.878487  \n",
       "1  0.025996  0.167463  0.146291  0.097517  0.20746  0.214164  0.121513  \n",
       "\n",
       "[2 rows x 100000 columns]"
      ]
     },
     "execution_count": 38,
     "metadata": {},
     "output_type": "execute_result"
    }
   ],
   "source": [
    "soft = lr.predict_proba(Xtest_oh)\n",
    "pd.DataFrame(soft).T"
   ]
  },
  {
   "cell_type": "markdown",
   "metadata": {},
   "source": [
    "We Compute the probability of **error** using sklearn.metrics 'accuracy_score' function"
   ]
  },
  {
   "cell_type": "code",
   "execution_count": 39,
   "metadata": {
    "ExecuteTime": {
     "end_time": "2019-01-05T17:30:56.960688Z",
     "start_time": "2019-01-05T17:30:56.949277Z"
    }
   },
   "outputs": [
    {
     "name": "stdout",
     "output_type": "stream",
     "text": [
      "Hard score  0.83043\n"
     ]
    }
   ],
   "source": [
    "from sklearn.metrics import accuracy_score\n",
    "hard_score_selected = accuracy_score(ytest, hard)\n",
    "print(\"Hard score \", hard_score_selected)"
   ]
  },
  {
   "cell_type": "markdown",
   "metadata": {},
   "source": [
    "The score is 83% : it is a pretty bad score considering there is a 17% click rate. As <i>1 - 0.17 = 0.83</i>, it means it's like if our classifier only predicted everytime no click"
   ]
  },
  {
   "cell_type": "markdown",
   "metadata": {},
   "source": [
    "We could for instance use balanced_accuracy_score or any other metric using the same arguments"
   ]
  },
  {
   "cell_type": "markdown",
   "metadata": {},
   "source": [
    "We Plot the ROC curve and compute the log loss and the Area Under the Curve ROC"
   ]
  },
  {
   "cell_type": "code",
   "execution_count": 40,
   "metadata": {
    "ExecuteTime": {
     "end_time": "2019-01-05T17:30:57.134984Z",
     "start_time": "2019-01-05T17:30:56.962484Z"
    }
   },
   "outputs": [
    {
     "data": {
      "image/png": "[encoded data removed]",
      "text/plain": [
       "<Figure size 432x288 with 1 Axes>"
      ]
     },
     "metadata": {
      "needs_background": "light"
     },
     "output_type": "display_data"
    }
   ],
   "source": [
    "from sklearn.metrics import roc_auc_score, roc_curve\n",
    "#roc_curve(ytest,soft[:,1])\n",
    "#plt.plot(roc_curve(ytest,soft[:,1]))\n",
    "\n",
    "#from sklearn.metrics import roc_curve, roc_auc_score\n",
    "fpr, tpr, threshold = roc_curve(ytest,  soft[:,1])\n",
    "plt.plot(fpr,tpr, '-')\n",
    "plt.plot([0,1],[0,1], linestyle='--')\n",
    "plt.show()"
   ]
  },
  {
   "cell_type": "code",
   "execution_count": 41,
   "metadata": {
    "ExecuteTime": {
     "end_time": "2019-01-05T17:30:57.180383Z",
     "start_time": "2019-01-05T17:30:57.136897Z"
    }
   },
   "outputs": [
    {
     "name": "stdout",
     "output_type": "stream",
     "text": [
      "Log loss :  (0.42512223391774184, 0.6762765906600234)\n"
     ]
    }
   ],
   "source": [
    "from sklearn.metrics import log_loss , roc_auc_score \n",
    "log_loss_selected = log_loss(ytest, soft[:,1]), roc_auc_score(ytest, soft[:,1])\n",
    "print(\"Log loss : \", log_loss_selected)"
   ]
  },
  {
   "cell_type": "code",
   "execution_count": 42,
   "metadata": {
    "ExecuteTime": {
     "end_time": "2019-01-05T17:30:57.206672Z",
     "start_time": "2019-01-05T17:30:57.182026Z"
    }
   },
   "outputs": [
    {
     "name": "stdout",
     "output_type": "stream",
     "text": [
      "Area under roc curve :  0.6762765906600234\n"
     ]
    }
   ],
   "source": [
    "roc_feature_selected = roc_auc_score(ytest, soft[:,1])\n",
    "print(\"Area under roc curve : \", roc_feature_selected)"
   ]
  },
  {
   "cell_type": "code",
   "execution_count": 43,
   "metadata": {
    "ExecuteTime": {
     "end_time": "2019-01-05T17:30:57.374558Z",
     "start_time": "2019-01-05T17:30:57.208972Z"
    }
   },
   "outputs": [
    {
     "data": {
      "image/png": "[encoded data removed]",
      "text/plain": [
       "<Figure size 432x288 with 1 Axes>"
      ]
     },
     "metadata": {
      "needs_background": "light"
     },
     "output_type": "display_data"
    }
   ],
   "source": [
    "from utils import plotlift\n",
    "plotlift(ytest, soft[:,1])\n",
    "# The following line just plots a vertical line for you to answer the second part of the question\n",
    "plt.axvline(x= 0.2 , linestyle='--', color='r') # Fill here\n",
    "plt.show()"
   ]
  },
  {
   "cell_type": "markdown",
   "metadata": {},
   "source": [
    "The lift of the fifth of the population is aproximatly 1.8"
   ]
  },
  {
   "cell_type": "markdown",
   "metadata": {},
   "source": [
    "It shows that on the first fifth of the population, the model performs at least 1.8 times better than random guess"
   ]
  },
  {
   "cell_type": "markdown",
   "metadata": {},
   "source": [
    "# Complete model"
   ]
  },
  {
   "cell_type": "markdown",
   "metadata": {},
   "source": [
    "For each modality, we compute the number of occurrences in the dataset and the average of clicks for this modality \n",
    "We represent the set of points (count, mean) for each modality"
   ]
  },
  {
   "cell_type": "code",
   "execution_count": 44,
   "metadata": {
    "ExecuteTime": {
     "end_time": "2019-01-05T17:30:57.377989Z",
     "start_time": "2019-01-05T17:30:57.376265Z"
    }
   },
   "outputs": [],
   "source": [
    "import seaborn as sns"
   ]
  },
  {
   "cell_type": "code",
   "execution_count": 45,
   "metadata": {
    "ExecuteTime": {
     "end_time": "2019-01-05T17:30:58.749474Z",
     "start_time": "2019-01-05T17:30:57.379310Z"
    }
   },
   "outputs": [
    {
     "name": "stderr",
     "output_type": "stream",
     "text": [
      "C:\\ProgramData\\Anaconda3\\lib\\site-packages\\scipy\\stats\\stats.py:1713: FutureWarning: Using a non-tuple sequence for multidimensional indexing is deprecated; use `arr[tuple(seq)]` instead of `arr[seq]`. In the future this will be interpreted as an array index, `arr[np.array(seq)]`, which will result either in an error or a different result.\n",
      "  return np.add.reduce(sorted[indexer] * weights, axis=axis) / sumval\n"
     ]
    },
    {
     "data": {
      "image/png": "[encoded data removed]",
      "text/plain": [
       "<Figure size 432x432 with 3 Axes>"
      ]
     },
     "metadata": {
      "needs_background": "light"
     },
     "output_type": "display_data"
    },
    {
     "data": {
      "image/png": "[encoded data removed]",
      "text/plain": [
       "<Figure size 432x432 with 3 Axes>"
      ]
     },
     "metadata": {
      "needs_background": "light"
     },
     "output_type": "display_data"
    }
   ],
   "source": [
    "col = 'site_id'\n",
    "a = pd.DataFrame([df.groupby(col).mean()['click'], df.groupby(col).count()['click']]).transpose()\n",
    "a.columns = ['mean', 'n_val']\n",
    "sns.jointplot(a['n_val'], a['mean'], alpha=0.25)\n",
    "thres = 10000\n",
    "sns.jointplot(a[a['n_val']<thres]['n_val'], a[a['n_val']<thres]['mean'], alpha=0.25);"
   ]
  },
  {
   "cell_type": "markdown",
   "metadata": {},
   "source": [
    "Alpha is the transparency"
   ]
  },
  {
   "cell_type": "markdown",
   "metadata": {},
   "source": [
    "Several sites with a lot of occurrences in the dataset have a click frequency very different from the mean. It is relevant to keep the column 'site_id' at least for the modalities for which 'count' is very high. We do the same work on the 'device_id' column."
   ]
  },
  {
   "cell_type": "code",
   "execution_count": 46,
   "metadata": {
    "ExecuteTime": {
     "end_time": "2019-01-05T17:31:05.949619Z",
     "start_time": "2019-01-05T17:30:58.750897Z"
    }
   },
   "outputs": [
    {
     "name": "stderr",
     "output_type": "stream",
     "text": [
      "C:\\ProgramData\\Anaconda3\\lib\\site-packages\\scipy\\stats\\stats.py:1713: FutureWarning: Using a non-tuple sequence for multidimensional indexing is deprecated; use `arr[tuple(seq)]` instead of `arr[seq]`. In the future this will be interpreted as an array index, `arr[np.array(seq)]`, which will result either in an error or a different result.\n",
      "  return np.add.reduce(sorted[indexer] * weights, axis=axis) / sumval\n"
     ]
    },
    {
     "data": {
      "image/png": "[encoded data removed]",
      "text/plain": [
       "<Figure size 432x432 with 3 Axes>"
      ]
     },
     "metadata": {
      "needs_background": "light"
     },
     "output_type": "display_data"
    },
    {
     "data": {
      "image/png": "[encoded data removed]",
      "text/plain": [
       "<Figure size 432x432 with 3 Axes>"
      ]
     },
     "metadata": {
      "needs_background": "light"
     },
     "output_type": "display_data"
    }
   ],
   "source": [
    "col = 'device_id'\n",
    "a = pd.DataFrame([df.groupby(col).mean()['click'], df.groupby(col).count()['click']]).transpose()\n",
    "a.columns = ['mean', 'n_val']\n",
    "sns.jointplot(a['n_val'], a['mean'], alpha=0.25);\n",
    "thres = 10000\n",
    "sns.jointplot(a[a['n_val']<thres]['n_val'], a[a['n_val']<thres]['mean'], alpha=0.25);"
   ]
  },
  {
   "cell_type": "markdown",
   "metadata": {},
   "source": [
    "We can see an isolated value on the first plot (X ~ 800000 and Y~ 0.2)"
   ]
  },
  {
   "cell_type": "code",
   "execution_count": 47,
   "metadata": {
    "ExecuteTime": {
     "end_time": "2019-01-05T17:31:05.956903Z",
     "start_time": "2019-01-05T17:31:05.950888Z"
    }
   },
   "outputs": [
    {
     "data": {
      "text/html": [
       "<div>\n",
       "<style scoped>\n",
       "    .dataframe tbody tr th:only-of-type {\n",
       "        vertical-align: middle;\n",
       "    }\n",
       "\n",
       "    .dataframe tbody tr th {\n",
       "        vertical-align: top;\n",
       "    }\n",
       "\n",
       "    .dataframe thead th {\n",
       "        text-align: right;\n",
       "    }\n",
       "</style>\n",
       "<table border=\"1\" class=\"dataframe\">\n",
       "  <thead>\n",
       "    <tr style=\"text-align: right;\">\n",
       "      <th></th>\n",
       "      <th>mean</th>\n",
       "      <th>n_val</th>\n",
       "    </tr>\n",
       "    <tr>\n",
       "      <th>device_id</th>\n",
       "      <th></th>\n",
       "      <th></th>\n",
       "    </tr>\n",
       "  </thead>\n",
       "  <tbody>\n",
       "    <tr>\n",
       "      <th>a99f214a</th>\n",
       "      <td>0.174347</td>\n",
       "      <td>824918.0</td>\n",
       "    </tr>\n",
       "  </tbody>\n",
       "</table>\n",
       "</div>"
      ],
      "text/plain": [
       "               mean     n_val\n",
       "device_id                    \n",
       "a99f214a   0.174347  824918.0"
      ]
     },
     "execution_count": 47,
     "metadata": {},
     "output_type": "execute_result"
    }
   ],
   "source": [
    "a[a['n_val']>1000]"
   ]
  },
  {
   "cell_type": "markdown",
   "metadata": {},
   "source": [
    "This isolated point shows that 82% of device have the same id. We haven't found enough data on what those id represent but it might represent all unknown values"
   ]
  },
  {
   "cell_type": "markdown",
   "metadata": {},
   "source": [
    "We create a new column df['user']\n",
    "$$\n",
    "\\text{user} = \\left\\{\\begin{array}[h]{ll} \\text{device_ip + device_model} & \\text{if device_id = V}\\\\ \\text{device_id} & \\text{else.}\\end{array}\\right.\n",
    "$$"
   ]
  },
  {
   "cell_type": "code",
   "execution_count": 48,
   "metadata": {
    "ExecuteTime": {
     "end_time": "2019-01-05T17:31:06.623313Z",
     "start_time": "2019-01-05T17:31:05.958196Z"
    }
   },
   "outputs": [
    {
     "data": {
      "text/plain": [
       "'a99f214a'"
      ]
     },
     "execution_count": 48,
     "metadata": {},
     "output_type": "execute_result"
    }
   ],
   "source": [
    "V = pd.DataFrame(df.groupby('device_id').count()['click']).sort_values(by='click', ascending=False).reset_index().iloc[0,0]\n",
    "V"
   ]
  },
  {
   "cell_type": "code",
   "execution_count": 49,
   "metadata": {
    "ExecuteTime": {
     "end_time": "2019-01-05T17:31:06.824518Z",
     "start_time": "2019-01-05T17:31:06.624875Z"
    }
   },
   "outputs": [
    {
     "data": {
      "text/plain": [
       "0    fb6566d3be87996b\n",
       "1            9b7af851\n",
       "2    748e298a3c55fad5\n",
       "3    a50da3d4c5cc73c1\n",
       "4    d5f88679a5bce124\n",
       "5    189590f92ea4f8ba\n",
       "6            192d98b0\n",
       "7    342b6e9ea0f5f879\n",
       "8            50dc7a55\n",
       "9            feb99a64\n",
       "Name: user, dtype: object"
      ]
     },
     "execution_count": 49,
     "metadata": {},
     "output_type": "execute_result"
    }
   ],
   "source": [
    "df['user'] = np.where(df['device_id']==V, df['device_ip']+df['device_model'] , df['device_id'])\n",
    "df['user'].head(10)"
   ]
  },
  {
   "cell_type": "markdown",
   "metadata": {},
   "source": [
    "We drop the following columns: 'device_id','device_model','device_ip'"
   ]
  },
  {
   "cell_type": "code",
   "execution_count": 50,
   "metadata": {
    "ExecuteTime": {
     "end_time": "2019-01-05T17:31:07.256552Z",
     "start_time": "2019-01-05T17:31:06.826621Z"
    }
   },
   "outputs": [
    {
     "data": {
      "text/html": [
       "<div>\n",
       "<style scoped>\n",
       "    .dataframe tbody tr th:only-of-type {\n",
       "        vertical-align: middle;\n",
       "    }\n",
       "\n",
       "    .dataframe tbody tr th {\n",
       "        vertical-align: top;\n",
       "    }\n",
       "\n",
       "    .dataframe thead th {\n",
       "        text-align: right;\n",
       "    }\n",
       "</style>\n",
       "<table border=\"1\" class=\"dataframe\">\n",
       "  <thead>\n",
       "    <tr style=\"text-align: right;\">\n",
       "      <th></th>\n",
       "      <th>id</th>\n",
       "      <th>click</th>\n",
       "      <th>hour</th>\n",
       "      <th>C1</th>\n",
       "      <th>banner_pos</th>\n",
       "      <th>site_id</th>\n",
       "      <th>site_domain</th>\n",
       "      <th>site_category</th>\n",
       "      <th>app_id</th>\n",
       "      <th>app_domain</th>\n",
       "      <th>...</th>\n",
       "      <th>C14</th>\n",
       "      <th>C15</th>\n",
       "      <th>C16</th>\n",
       "      <th>C17</th>\n",
       "      <th>C18</th>\n",
       "      <th>C19</th>\n",
       "      <th>C20</th>\n",
       "      <th>C21</th>\n",
       "      <th>weekday</th>\n",
       "      <th>user</th>\n",
       "    </tr>\n",
       "  </thead>\n",
       "  <tbody>\n",
       "    <tr>\n",
       "      <th>0</th>\n",
       "      <td>3.983206e+18</td>\n",
       "      <td>0</td>\n",
       "      <td>15</td>\n",
       "      <td>1005</td>\n",
       "      <td>1</td>\n",
       "      <td>e151e245</td>\n",
       "      <td>7e091613</td>\n",
       "      <td>f028772b</td>\n",
       "      <td>ecad2386</td>\n",
       "      <td>7801e8d9</td>\n",
       "      <td>...</td>\n",
       "      <td>4687</td>\n",
       "      <td>320</td>\n",
       "      <td>50</td>\n",
       "      <td>423</td>\n",
       "      <td>2</td>\n",
       "      <td>39</td>\n",
       "      <td>100148</td>\n",
       "      <td>32</td>\n",
       "      <td>2</td>\n",
       "      <td>fb6566d3be87996b</td>\n",
       "    </tr>\n",
       "    <tr>\n",
       "      <th>1</th>\n",
       "      <td>7.756884e+18</td>\n",
       "      <td>0</td>\n",
       "      <td>7</td>\n",
       "      <td>1002</td>\n",
       "      <td>0</td>\n",
       "      <td>cb809abf</td>\n",
       "      <td>74acf31a</td>\n",
       "      <td>50e219e0</td>\n",
       "      <td>ecad2386</td>\n",
       "      <td>7801e8d9</td>\n",
       "      <td>...</td>\n",
       "      <td>17894</td>\n",
       "      <td>320</td>\n",
       "      <td>50</td>\n",
       "      <td>2039</td>\n",
       "      <td>2</td>\n",
       "      <td>39</td>\n",
       "      <td>100077</td>\n",
       "      <td>32</td>\n",
       "      <td>3</td>\n",
       "      <td>9b7af851</td>\n",
       "    </tr>\n",
       "    <tr>\n",
       "      <th>2</th>\n",
       "      <td>6.941774e+17</td>\n",
       "      <td>0</td>\n",
       "      <td>11</td>\n",
       "      <td>1005</td>\n",
       "      <td>0</td>\n",
       "      <td>85f751fd</td>\n",
       "      <td>c4e18dd6</td>\n",
       "      <td>50e219e0</td>\n",
       "      <td>e9739828</td>\n",
       "      <td>df32afa9</td>\n",
       "      <td>...</td>\n",
       "      <td>22684</td>\n",
       "      <td>320</td>\n",
       "      <td>50</td>\n",
       "      <td>2619</td>\n",
       "      <td>1</td>\n",
       "      <td>163</td>\n",
       "      <td>100055</td>\n",
       "      <td>71</td>\n",
       "      <td>0</td>\n",
       "      <td>748e298a3c55fad5</td>\n",
       "    </tr>\n",
       "    <tr>\n",
       "      <th>3</th>\n",
       "      <td>2.664154e+18</td>\n",
       "      <td>1</td>\n",
       "      <td>3</td>\n",
       "      <td>1005</td>\n",
       "      <td>0</td>\n",
       "      <td>85f751fd</td>\n",
       "      <td>c4e18dd6</td>\n",
       "      <td>50e219e0</td>\n",
       "      <td>a5184c22</td>\n",
       "      <td>b8d325c3</td>\n",
       "      <td>...</td>\n",
       "      <td>23222</td>\n",
       "      <td>320</td>\n",
       "      <td>50</td>\n",
       "      <td>2676</td>\n",
       "      <td>0</td>\n",
       "      <td>35</td>\n",
       "      <td>100176</td>\n",
       "      <td>221</td>\n",
       "      <td>2</td>\n",
       "      <td>a50da3d4c5cc73c1</td>\n",
       "    </tr>\n",
       "    <tr>\n",
       "      <th>4</th>\n",
       "      <td>1.480510e+19</td>\n",
       "      <td>0</td>\n",
       "      <td>2</td>\n",
       "      <td>1005</td>\n",
       "      <td>1</td>\n",
       "      <td>791b5571</td>\n",
       "      <td>fd13bc73</td>\n",
       "      <td>f028772b</td>\n",
       "      <td>ecad2386</td>\n",
       "      <td>7801e8d9</td>\n",
       "      <td>...</td>\n",
       "      <td>8330</td>\n",
       "      <td>320</td>\n",
       "      <td>50</td>\n",
       "      <td>761</td>\n",
       "      <td>3</td>\n",
       "      <td>175</td>\n",
       "      <td>100081</td>\n",
       "      <td>23</td>\n",
       "      <td>2</td>\n",
       "      <td>d5f88679a5bce124</td>\n",
       "    </tr>\n",
       "  </tbody>\n",
       "</table>\n",
       "<p>5 rows × 23 columns</p>\n",
       "</div>"
      ],
      "text/plain": [
       "             id  click  hour    C1  banner_pos   site_id site_domain  \\\n",
       "0  3.983206e+18      0    15  1005           1  e151e245    7e091613   \n",
       "1  7.756884e+18      0     7  1002           0  cb809abf    74acf31a   \n",
       "2  6.941774e+17      0    11  1005           0  85f751fd    c4e18dd6   \n",
       "3  2.664154e+18      1     3  1005           0  85f751fd    c4e18dd6   \n",
       "4  1.480510e+19      0     2  1005           1  791b5571    fd13bc73   \n",
       "\n",
       "  site_category    app_id app_domain        ...           C14  C15  C16   C17  \\\n",
       "0      f028772b  ecad2386   7801e8d9        ...          4687  320   50   423   \n",
       "1      50e219e0  ecad2386   7801e8d9        ...         17894  320   50  2039   \n",
       "2      50e219e0  e9739828   df32afa9        ...         22684  320   50  2619   \n",
       "3      50e219e0  a5184c22   b8d325c3        ...         23222  320   50  2676   \n",
       "4      f028772b  ecad2386   7801e8d9        ...          8330  320   50   761   \n",
       "\n",
       "   C18  C19     C20  C21  weekday              user  \n",
       "0    2   39  100148   32        2  fb6566d3be87996b  \n",
       "1    2   39  100077   32        3          9b7af851  \n",
       "2    1  163  100055   71        0  748e298a3c55fad5  \n",
       "3    0   35  100176  221        2  a50da3d4c5cc73c1  \n",
       "4    3  175  100081   23        2  d5f88679a5bce124  \n",
       "\n",
       "[5 rows x 23 columns]"
      ]
     },
     "execution_count": 50,
     "metadata": {},
     "output_type": "execute_result"
    }
   ],
   "source": [
    "df = df.drop(['device_id','device_model','device_ip'], axis=1)\n",
    "df.head()"
   ]
  },
  {
   "cell_type": "markdown",
   "metadata": {},
   "source": [
    "The similarity between 'site_id' and 'site_domain' is important so we merge those columns into a new 'site' column and delete the old 'site_id' and 'site_domain' columns."
   ]
  },
  {
   "cell_type": "code",
   "execution_count": 51,
   "metadata": {
    "ExecuteTime": {
     "end_time": "2019-01-05T17:31:07.849844Z",
     "start_time": "2019-01-05T17:31:07.258027Z"
    }
   },
   "outputs": [],
   "source": [
    "df['site'] = np.where(df['site_id']==df['site_domain'], df['site_id'] , df['site_id']+df['site_domain'])\n",
    "df = df.drop(['site_id','site_domain'], axis=1)"
   ]
  },
  {
   "cell_type": "code",
   "execution_count": 52,
   "metadata": {
    "ExecuteTime": {
     "end_time": "2019-01-05T17:31:07.857087Z",
     "start_time": "2019-01-05T17:31:07.851880Z"
    }
   },
   "outputs": [
    {
     "data": {
      "text/plain": [
       "0    e151e2457e091613\n",
       "1    cb809abf74acf31a\n",
       "2    85f751fdc4e18dd6\n",
       "3    85f751fdc4e18dd6\n",
       "4    791b5571fd13bc73\n",
       "5    85f751fdc4e18dd6\n",
       "6    85f751fdc4e18dd6\n",
       "7    85f751fdc4e18dd6\n",
       "8    85f751fdc4e18dd6\n",
       "9    85f751fdc4e18dd6\n",
       "Name: site, dtype: object"
      ]
     },
     "execution_count": 52,
     "metadata": {},
     "output_type": "execute_result"
    }
   ],
   "source": [
    "df['site'].head(10)"
   ]
  },
  {
   "cell_type": "markdown",
   "metadata": {},
   "source": [
    "Once again, split the modified DataFrame df into a train (90%) and a test set (10%)\n"
   ]
  },
  {
   "cell_type": "code",
   "execution_count": 53,
   "metadata": {
    "ExecuteTime": {
     "end_time": "2019-01-05T17:31:08.875701Z",
     "start_time": "2019-01-05T17:31:07.859260Z"
    }
   },
   "outputs": [],
   "source": [
    "Xtrain, Xtest, ytrain, ytest = train_test_split(\n",
    "    df.iloc[:,2:], df['click'], test_size=0.1, random_state = SEED)"
   ]
  },
  {
   "cell_type": "markdown",
   "metadata": {},
   "source": [
    "We define a OneHotEncoder and then, 'fit_transform' the train set"
   ]
  },
  {
   "cell_type": "code",
   "execution_count": 54,
   "metadata": {
    "ExecuteTime": {
     "end_time": "2019-01-05T17:31:36.763211Z",
     "start_time": "2019-01-05T17:31:08.878110Z"
    }
   },
   "outputs": [],
   "source": [
    "# First we need to define labelEncoders for encoding categorical columns\n",
    "\n",
    "data = Xtrain.append(Xtest, ignore_index = True, sort = False)\n",
    "\n",
    "site_categ_label = LabelEncoder().fit(data['site_category'])\n",
    "app_categ_label = LabelEncoder().fit(data['app_category'])\n",
    "app_id = LabelEncoder().fit(data['app_id'])\n",
    "app_domain = LabelEncoder().fit(data['app_domain'])\n",
    "user_label = LabelEncoder().fit(data['user'])\n",
    "site_label = LabelEncoder().fit(data['site'])\n",
    "data['site_category'] = site_categ_label.transform(data['site_category'])\n",
    "data['app_category'] = app_categ_label.transform(data['app_category'])\n",
    "data['app_id'] = app_id.transform(data['app_id'])\n",
    "data['app_domain'] = app_domain.transform(data['app_domain'])\n",
    "data['user'] = user_label.transform(data['user'])\n",
    "data['site'] = site_label.transform(data['site'])\n",
    "data['C20'] = data['C20'].abs()\n",
    "\n",
    "Xtrain = data.iloc[:Xtrain.shape[0],:]\n",
    "Xtest = data.iloc[Xtrain.shape[0]:,:]"
   ]
  },
  {
   "cell_type": "code",
   "execution_count": 55,
   "metadata": {
    "ExecuteTime": {
     "end_time": "2019-01-05T17:31:36.768642Z",
     "start_time": "2019-01-05T17:31:36.764761Z"
    }
   },
   "outputs": [
    {
     "data": {
      "text/plain": [
       "(100000, 20)"
      ]
     },
     "execution_count": 55,
     "metadata": {},
     "output_type": "execute_result"
    }
   ],
   "source": [
    "Xtest.shape"
   ]
  },
  {
   "cell_type": "markdown",
   "metadata": {},
   "source": [
    "NOTE : Here we're using Xtrain & Xtest values to fit the labelEncoders as there are some values in Xtest that are not in Xtrain. We could have used df directly to simply the process, but it wouldn't have made sense in a real situation so we preferred to add both sets into a data variable and work on it"
   ]
  },
  {
   "cell_type": "code",
   "execution_count": 56,
   "metadata": {
    "ExecuteTime": {
     "end_time": "2019-01-05T17:31:39.529336Z",
     "start_time": "2019-01-05T17:31:36.775378Z"
    }
   },
   "outputs": [],
   "source": [
    "\n",
    "\n",
    "ohe = OneHotEncoder(handle_unknown=\"ignore\").fit(Xtrain)\n",
    "\n",
    "Xtrain_oh = ohe.transform(Xtrain)\n",
    "\n"
   ]
  },
  {
   "cell_type": "code",
   "execution_count": 57,
   "metadata": {
    "ExecuteTime": {
     "end_time": "2019-01-05T17:31:39.670291Z",
     "start_time": "2019-01-05T17:31:39.530958Z"
    }
   },
   "outputs": [],
   "source": [
    "\n",
    "\n",
    "Xtest_oh = ohe.transform(Xtest)"
   ]
  },
  {
   "cell_type": "markdown",
   "metadata": {},
   "source": [
    "We had to transform / encode a few labels first for the OHE to work"
   ]
  },
  {
   "cell_type": "code",
   "execution_count": 58,
   "metadata": {
    "ExecuteTime": {
     "end_time": "2019-01-05T17:31:39.674715Z",
     "start_time": "2019-01-05T17:31:39.672096Z"
    }
   },
   "outputs": [
    {
     "name": "stdout",
     "output_type": "stream",
     "text": [
      "Number of features : 713334\n"
     ]
    }
   ],
   "source": [
    "print(\"Number of features :\" ,Xtrain_oh.shape[1])"
   ]
  },
  {
   "cell_type": "markdown",
   "metadata": {},
   "source": [
    "As we can see, one hot encoding gave us 713334, but only by seing how full the column are, we can detect the one containing most data (here 2552 in that case)"
   ]
  },
  {
   "cell_type": "markdown",
   "metadata": {},
   "source": [
    "We look at the modalities that have been seen more than a 100 times"
   ]
  },
  {
   "cell_type": "code",
   "execution_count": 59,
   "metadata": {
    "ExecuteTime": {
     "end_time": "2019-01-05T17:31:39.751181Z",
     "start_time": "2019-01-05T17:31:39.676187Z"
    }
   },
   "outputs": [
    {
     "name": "stdout",
     "output_type": "stream",
     "text": [
      "1971  modalities have been seen more than a 100 times \n",
      "\n",
      "Columns' index where the sum of 1 is superior of 100 : \n",
      "[     0      1      2 ... 713301 713307 713321]\n"
     ]
    }
   ],
   "source": [
    "# The following 'n_ones' vector below gives the number of '1' in each column/modality of the Xtrain_oh design matrix.\n",
    "n_ones = np.array(Xtrain_oh.sum(axis=0))\n",
    "df_ones = pd.DataFrame(n_ones).T\n",
    "index_100 = df_ones[df_ones[0]>100].index\n",
    "\n",
    "print(str(len(index_100)), ' modalities have been seen more than a 100 times \\n')\n",
    "\n",
    "print(\"Columns' index where the sum of 1 is superior of 100 : \")\n",
    "print(index_100.values)\n"
   ]
  },
  {
   "cell_type": "markdown",
   "metadata": {},
   "source": [
    "The list 'cols_to_keep' below is used to store the indices of the modalities seen more than a 100 times."
   ]
  },
  {
   "cell_type": "code",
   "execution_count": 60,
   "metadata": {
    "ExecuteTime": {
     "end_time": "2019-01-05T17:31:39.767147Z",
     "start_time": "2019-01-05T17:31:39.761215Z"
    }
   },
   "outputs": [
    {
     "name": "stdout",
     "output_type": "stream",
     "text": [
      "Index of the column where the sum of 1 is superior of 100 [     0      1      2 ... 713301 713307 713321]\n"
     ]
    }
   ],
   "source": [
    "\n",
    "cols_to_keep = np.argwhere(n_ones>100)[:,1]\n",
    "print(\"Index of the column where the sum of 1 is superior of 100\", cols_to_keep)\n"
   ]
  },
  {
   "cell_type": "markdown",
   "metadata": {},
   "source": [
    "As we can see there is only 1971 modalities seen more than 100 times. \n",
    "Thats not a lot regarding with the number of datas"
   ]
  },
  {
   "cell_type": "markdown",
   "metadata": {},
   "source": [
    "Using only our restriction on the 'cols_to_keep' columns, we retrain a logistic regression model and compare its performance in terms of 'log_loss' and 'roc_auc_curve'"
   ]
  },
  {
   "cell_type": "code",
   "execution_count": 61,
   "metadata": {
    "ExecuteTime": {
     "end_time": "2019-01-05T17:31:40.104246Z",
     "start_time": "2019-01-05T17:31:39.769139Z"
    }
   },
   "outputs": [
    {
     "data": {
      "text/plain": [
       "(900000, 713334)"
      ]
     },
     "execution_count": 61,
     "metadata": {},
     "output_type": "execute_result"
    }
   ],
   "source": [
    "Xtrain_oh_filtered = Xtrain_oh[:,cols_to_keep]\n",
    "Xtest_oh_filtered = Xtest_oh[:,cols_to_keep]\n",
    "\n",
    "Xtrain_oh.shape"
   ]
  },
  {
   "cell_type": "code",
   "execution_count": 62,
   "metadata": {
    "ExecuteTime": {
     "end_time": "2019-01-05T17:32:21.342255Z",
     "start_time": "2019-01-05T17:31:40.105541Z"
    }
   },
   "outputs": [
    {
     "name": "stderr",
     "output_type": "stream",
     "text": [
      "C:\\ProgramData\\Anaconda3\\lib\\site-packages\\sklearn\\linear_model\\logistic.py:433: FutureWarning: Default solver will be changed to 'lbfgs' in 0.22. Specify a solver to silence this warning.\n",
      "  FutureWarning)\n"
     ]
    },
    {
     "name": "stdout",
     "output_type": "stream",
     "text": [
      "Hard score  0.83375\n"
     ]
    }
   ],
   "source": [
    "lr = LogisticRegression()\n",
    "lr.fit(Xtrain_oh_filtered,ytrain)\n",
    "hard = lr.predict(Xtest_oh_filtered)\n",
    "soft = lr.predict_proba(Xtest_oh_filtered)\n",
    "\n",
    "from sklearn.metrics import accuracy_score\n",
    "hard_score_feature_engin = accuracy_score(ytest, hard)\n",
    "print(\"Hard score \", hard_score_feature_engin)"
   ]
  },
  {
   "cell_type": "code",
   "execution_count": 63,
   "metadata": {
    "ExecuteTime": {
     "end_time": "2019-01-05T17:32:21.489905Z",
     "start_time": "2019-01-05T17:32:21.344051Z"
    }
   },
   "outputs": [
    {
     "data": {
      "image/png": "[encoded data removed]",
      "text/plain": [
       "<Figure size 432x288 with 1 Axes>"
      ]
     },
     "metadata": {
      "needs_background": "light"
     },
     "output_type": "display_data"
    }
   ],
   "source": [
    "fpr, tpr, threshold = roc_curve(ytest,  soft[:,1])\n",
    "plt.plot(fpr,tpr, '-')\n",
    "plt.plot([0,1],[0,1], linestyle='--')\n",
    "plt.show()"
   ]
  },
  {
   "cell_type": "code",
   "execution_count": 64,
   "metadata": {
    "ExecuteTime": {
     "end_time": "2019-01-05T17:32:21.531492Z",
     "start_time": "2019-01-05T17:32:21.491338Z"
    }
   },
   "outputs": [
    {
     "name": "stdout",
     "output_type": "stream",
     "text": [
      "Log loss :  (0.40115170753842516, 0.7385988630146278)\n"
     ]
    }
   ],
   "source": [
    "log_loss_feature_engin = log_loss(ytest, soft[:,1]), roc_auc_score(ytest, soft[:,1])\n",
    "print(\"Log loss : \", log_loss_feature_engin)"
   ]
  },
  {
   "cell_type": "code",
   "execution_count": 65,
   "metadata": {
    "ExecuteTime": {
     "end_time": "2019-01-05T17:32:21.555753Z",
     "start_time": "2019-01-05T17:32:21.532981Z"
    }
   },
   "outputs": [
    {
     "name": "stdout",
     "output_type": "stream",
     "text": [
      "Area under roc curve :  0.7385988630146278\n"
     ]
    }
   ],
   "source": [
    "roc_feature_engin = roc_auc_score(ytest, soft[:,1])\n",
    "print(\"Area under roc curve : \", roc_feature_engin)"
   ]
  },
  {
   "cell_type": "code",
   "execution_count": 66,
   "metadata": {
    "ExecuteTime": {
     "end_time": "2019-01-05T17:32:21.749304Z",
     "start_time": "2019-01-05T17:32:21.557175Z"
    }
   },
   "outputs": [
    {
     "data": {
      "image/png": "[encoded data removed]",
      "text/plain": [
       "<Figure size 432x288 with 1 Axes>"
      ]
     },
     "metadata": {
      "needs_background": "light"
     },
     "output_type": "display_data"
    }
   ],
   "source": [
    "plotlift(ytest, soft[:,1])\n",
    "plt.axvline(x= 0.2 , linestyle='--', color='r') # Fill here\n",
    "plt.show()"
   ]
  },
  {
   "cell_type": "markdown",
   "metadata": {},
   "source": [
    "**Adding our selected features imrpoved our score from 0.83 to 0.83375 => the score is a little bit better but still it is close to predicting full 0**\n",
    "\n",
    "**The ROC curve is also better, closer to the ideal curve (we can see it because the area under roc curve increased)**\n",
    "\n",
    "**Has we can see, we improved our lift, it went from 1.8 to 2.1 (approimatly).**\n",
    "\n",
    "So we did create a better model, but it clan clearly be improved\n"
   ]
  },
  {
   "cell_type": "markdown",
   "metadata": {},
   "source": [
    "# Gradient Boosting Decision Trees"
   ]
  },
  {
   "cell_type": "markdown",
   "metadata": {},
   "source": [
    "We create a GradientBoostingClassifier using 50 estimators and a learning rate of 0.8. We fit it on the same columns 'cols_to_keep' of Xtrain_oh than for the previous logistic regression. We evaluate the performance"
   ]
  },
  {
   "cell_type": "code",
   "execution_count": 67,
   "metadata": {
    "ExecuteTime": {
     "end_time": "2019-01-05T17:35:10.944184Z",
     "start_time": "2019-01-05T17:32:21.750736Z"
    }
   },
   "outputs": [
    {
     "name": "stdout",
     "output_type": "stream",
     "text": [
      "      Iter       Train Loss   Remaining Time \n",
      "         1           0.8743            6.36m\n",
      "         2           0.8646            5.80m\n",
      "         3           0.8583            5.50m\n",
      "         4           0.8535            5.20m\n",
      "         5           0.8503            5.07m\n",
      "         6           0.8464            4.88m\n",
      "         7           0.8441            4.70m\n",
      "         8           0.8418            4.55m\n",
      "         9           0.8404            4.41m\n",
      "        10           0.8383            4.28m\n",
      "        20           0.8282            3.25m\n",
      "        30           0.8234            2.18m\n",
      "        40           0.8190            1.06m\n",
      "        50           0.8163            0.00s\n",
      "Wall time: 5min 14s\n",
      "Hard score  0.83343\n"
     ]
    }
   ],
   "source": [
    "from sklearn.ensemble import GradientBoostingClassifier\n",
    "gb = GradientBoostingClassifier(verbose=True, learning_rate=0.8, n_estimators=50, random_state = SEED)\n",
    "%time gb.fit(Xtrain_oh_filtered,ytrain)\n",
    "\n",
    "hard = gb.predict(Xtest_oh_filtered)\n",
    "soft = gb.predict_proba(Xtest_oh_filtered)\n",
    "\n",
    "hard_score_gb = accuracy_score(ytest, hard)\n",
    "print(\"Hard score \", hard_score_gb)"
   ]
  },
  {
   "cell_type": "code",
   "execution_count": 68,
   "metadata": {
    "ExecuteTime": {
     "end_time": "2019-01-05T17:35:10.963018Z",
     "start_time": "2019-01-05T17:35:10.945741Z"
    }
   },
   "outputs": [
    {
     "name": "stdout",
     "output_type": "stream",
     "text": [
      "Log loss  0.4091871736006742\n"
     ]
    }
   ],
   "source": [
    "log_loss_gb = log_loss(ytest, soft[:,1])\n",
    "print(\"Log loss \", log_loss_gb)"
   ]
  },
  {
   "cell_type": "code",
   "execution_count": 69,
   "metadata": {
    "ExecuteTime": {
     "end_time": "2019-01-05T17:35:10.985573Z",
     "start_time": "2019-01-05T17:35:10.964519Z"
    }
   },
   "outputs": [
    {
     "name": "stdout",
     "output_type": "stream",
     "text": [
      "Roc area  0.7251893509766301\n"
     ]
    }
   ],
   "source": [
    "roc_gb = roc_auc_score(ytest, soft[:,1])\n",
    "print(\"Roc area \", roc_gb)"
   ]
  },
  {
   "cell_type": "code",
   "execution_count": 70,
   "metadata": {
    "ExecuteTime": {
     "end_time": "2019-01-05T17:35:10.995866Z",
     "start_time": "2019-01-05T17:35:10.987170Z"
    }
   },
   "outputs": [
    {
     "name": "stdout",
     "output_type": "stream",
     "text": [
      "Models :  First colon selected | Feature selection | Gradient Boost\n",
      "Scores :  0.83043 | 0.83375 | 0.83343\n",
      "Log loss :  (0.42512223391774184, 0.6762765906600234) | (0.40115170753842516, 0.7385988630146278) | 0.4091871736006742\n",
      "Roc Area :  0.6762765906600234 | 0.7385988630146278 | 0.7251893509766301\n"
     ]
    }
   ],
   "source": [
    "print(\"Models : \",\"First colon selected |\",\"Feature selection |\", \"Gradient Boost\")\n",
    "print(\"Scores : \",hard_score_selected, \"|\",hard_score_feature_engin, \"|\", hard_score_gb)\n",
    "print(\"Log loss : \",log_loss_selected, \"|\",log_loss_feature_engin, \"|\", log_loss_gb)\n",
    "print(\"Roc Area : \",roc_feature_selected, \"|\",roc_feature_engin, \"|\", roc_gb)"
   ]
  },
  {
   "cell_type": "markdown",
   "metadata": {},
   "source": [
    "The gradiant boost model seems less efficient with those parameters than the logistic regression on the feature selected columns \n",
    "(area thiner, score also)"
   ]
  },
  {
   "cell_type": "code",
   "execution_count": 71,
   "metadata": {
    "ExecuteTime": {
     "end_time": "2019-01-05T17:35:11.018293Z",
     "start_time": "2019-01-05T17:35:10.997337Z"
    }
   },
   "outputs": [
    {
     "data": {
      "text/plain": [
       "array([[DecisionTreeRegressor(criterion='friedman_mse', max_depth=3,\n",
       "           max_features=None, max_leaf_nodes=None,\n",
       "           min_impurity_decrease=0.0, min_impurity_split=None,\n",
       "           min_samples_leaf=1, min_samples_split=2,\n",
       "           min_weight_fraction_leaf=0.0, presort='auto',\n",
       "           random_state=<mtrand.RandomState object at 0x000001CE92FE1090>,\n",
       "           splitter='best')],\n",
       "       [DecisionTreeRegressor(criterion='friedman_mse', max_depth=3,\n",
       "           max_features=None, max_leaf_nodes=None,\n",
       "           min_impurity_decrease=0.0, min_impurity_split=None,\n",
       "           min_samples_leaf=1, min_samples_split=2,\n",
       "           min_weight_fraction_leaf=0.0, presort='auto',\n",
       "           random_state=<mtrand.RandomState object at 0x000001CE92FE1090>,\n",
       "           splitter='best')],\n",
       "       [DecisionTreeRegressor(criterion='friedman_mse', max_depth=3,\n",
       "           max_features=None, max_leaf_nodes=None,\n",
       "           min_impurity_decrease=0.0, min_impurity_split=None,\n",
       "           min_samples_leaf=1, min_samples_split=2,\n",
       "           min_weight_fraction_leaf=0.0, presort='auto',\n",
       "           random_state=<mtrand.RandomState object at 0x000001CE92FE1090>,\n",
       "           splitter='best')],\n",
       "       [DecisionTreeRegressor(criterion='friedman_mse', max_depth=3,\n",
       "           max_features=None, max_leaf_nodes=None,\n",
       "           min_impurity_decrease=0.0, min_impurity_split=None,\n",
       "           min_samples_leaf=1, min_samples_split=2,\n",
       "           min_weight_fraction_leaf=0.0, presort='auto',\n",
       "           random_state=<mtrand.RandomState object at 0x000001CE92FE1090>,\n",
       "           splitter='best')],\n",
       "       [DecisionTreeRegressor(criterion='friedman_mse', max_depth=3,\n",
       "           max_features=None, max_leaf_nodes=None,\n",
       "           min_impurity_decrease=0.0, min_impurity_split=None,\n",
       "           min_samples_leaf=1, min_samples_split=2,\n",
       "           min_weight_fraction_leaf=0.0, presort='auto',\n",
       "           random_state=<mtrand.RandomState object at 0x000001CE92FE1090>,\n",
       "           splitter='best')],\n",
       "       [DecisionTreeRegressor(criterion='friedman_mse', max_depth=3,\n",
       "           max_features=None, max_leaf_nodes=None,\n",
       "           min_impurity_decrease=0.0, min_impurity_split=None,\n",
       "           min_samples_leaf=1, min_samples_split=2,\n",
       "           min_weight_fraction_leaf=0.0, presort='auto',\n",
       "           random_state=<mtrand.RandomState object at 0x000001CE92FE1090>,\n",
       "           splitter='best')],\n",
       "       [DecisionTreeRegressor(criterion='friedman_mse', max_depth=3,\n",
       "           max_features=None, max_leaf_nodes=None,\n",
       "           min_impurity_decrease=0.0, min_impurity_split=None,\n",
       "           min_samples_leaf=1, min_samples_split=2,\n",
       "           min_weight_fraction_leaf=0.0, presort='auto',\n",
       "           random_state=<mtrand.RandomState object at 0x000001CE92FE1090>,\n",
       "           splitter='best')],\n",
       "       [DecisionTreeRegressor(criterion='friedman_mse', max_depth=3,\n",
       "           max_features=None, max_leaf_nodes=None,\n",
       "           min_impurity_decrease=0.0, min_impurity_split=None,\n",
       "           min_samples_leaf=1, min_samples_split=2,\n",
       "           min_weight_fraction_leaf=0.0, presort='auto',\n",
       "           random_state=<mtrand.RandomState object at 0x000001CE92FE1090>,\n",
       "           splitter='best')],\n",
       "       [DecisionTreeRegressor(criterion='friedman_mse', max_depth=3,\n",
       "           max_features=None, max_leaf_nodes=None,\n",
       "           min_impurity_decrease=0.0, min_impurity_split=None,\n",
       "           min_samples_leaf=1, min_samples_split=2,\n",
       "           min_weight_fraction_leaf=0.0, presort='auto',\n",
       "           random_state=<mtrand.RandomState object at 0x000001CE92FE1090>,\n",
       "           splitter='best')],\n",
       "       [DecisionTreeRegressor(criterion='friedman_mse', max_depth=3,\n",
       "           max_features=None, max_leaf_nodes=None,\n",
       "           min_impurity_decrease=0.0, min_impurity_split=None,\n",
       "           min_samples_leaf=1, min_samples_split=2,\n",
       "           min_weight_fraction_leaf=0.0, presort='auto',\n",
       "           random_state=<mtrand.RandomState object at 0x000001CE92FE1090>,\n",
       "           splitter='best')],\n",
       "       [DecisionTreeRegressor(criterion='friedman_mse', max_depth=3,\n",
       "           max_features=None, max_leaf_nodes=None,\n",
       "           min_impurity_decrease=0.0, min_impurity_split=None,\n",
       "           min_samples_leaf=1, min_samples_split=2,\n",
       "           min_weight_fraction_leaf=0.0, presort='auto',\n",
       "           random_state=<mtrand.RandomState object at 0x000001CE92FE1090>,\n",
       "           splitter='best')],\n",
       "       [DecisionTreeRegressor(criterion='friedman_mse', max_depth=3,\n",
       "           max_features=None, max_leaf_nodes=None,\n",
       "           min_impurity_decrease=0.0, min_impurity_split=None,\n",
       "           min_samples_leaf=1, min_samples_split=2,\n",
       "           min_weight_fraction_leaf=0.0, presort='auto',\n",
       "           random_state=<mtrand.RandomState object at 0x000001CE92FE1090>,\n",
       "           splitter='best')],\n",
       "       [DecisionTreeRegressor(criterion='friedman_mse', max_depth=3,\n",
       "           max_features=None, max_leaf_nodes=None,\n",
       "           min_impurity_decrease=0.0, min_impurity_split=None,\n",
       "           min_samples_leaf=1, min_samples_split=2,\n",
       "           min_weight_fraction_leaf=0.0, presort='auto',\n",
       "           random_state=<mtrand.RandomState object at 0x000001CE92FE1090>,\n",
       "           splitter='best')],\n",
       "       [DecisionTreeRegressor(criterion='friedman_mse', max_depth=3,\n",
       "           max_features=None, max_leaf_nodes=None,\n",
       "           min_impurity_decrease=0.0, min_impurity_split=None,\n",
       "           min_samples_leaf=1, min_samples_split=2,\n",
       "           min_weight_fraction_leaf=0.0, presort='auto',\n",
       "           random_state=<mtrand.RandomState object at 0x000001CE92FE1090>,\n",
       "           splitter='best')],\n",
       "       [DecisionTreeRegressor(criterion='friedman_mse', max_depth=3,\n",
       "           max_features=None, max_leaf_nodes=None,\n",
       "           min_impurity_decrease=0.0, min_impurity_split=None,\n",
       "           min_samples_leaf=1, min_samples_split=2,\n",
       "           min_weight_fraction_leaf=0.0, presort='auto',\n",
       "           random_state=<mtrand.RandomState object at 0x000001CE92FE1090>,\n",
       "           splitter='best')],\n",
       "       [DecisionTreeRegressor(criterion='friedman_mse', max_depth=3,\n",
       "           max_features=None, max_leaf_nodes=None,\n",
       "           min_impurity_decrease=0.0, min_impurity_split=None,\n",
       "           min_samples_leaf=1, min_samples_split=2,\n",
       "           min_weight_fraction_leaf=0.0, presort='auto',\n",
       "           random_state=<mtrand.RandomState object at 0x000001CE92FE1090>,\n",
       "           splitter='best')],\n",
       "       [DecisionTreeRegressor(criterion='friedman_mse', max_depth=3,\n",
       "           max_features=None, max_leaf_nodes=None,\n",
       "           min_impurity_decrease=0.0, min_impurity_split=None,\n",
       "           min_samples_leaf=1, min_samples_split=2,\n",
       "           min_weight_fraction_leaf=0.0, presort='auto',\n",
       "           random_state=<mtrand.RandomState object at 0x000001CE92FE1090>,\n",
       "           splitter='best')],\n",
       "       [DecisionTreeRegressor(criterion='friedman_mse', max_depth=3,\n",
       "           max_features=None, max_leaf_nodes=None,\n",
       "           min_impurity_decrease=0.0, min_impurity_split=None,\n",
       "           min_samples_leaf=1, min_samples_split=2,\n",
       "           min_weight_fraction_leaf=0.0, presort='auto',\n",
       "           random_state=<mtrand.RandomState object at 0x000001CE92FE1090>,\n",
       "           splitter='best')],\n",
       "       [DecisionTreeRegressor(criterion='friedman_mse', max_depth=3,\n",
       "           max_features=None, max_leaf_nodes=None,\n",
       "           min_impurity_decrease=0.0, min_impurity_split=None,\n",
       "           min_samples_leaf=1, min_samples_split=2,\n",
       "           min_weight_fraction_leaf=0.0, presort='auto',\n",
       "           random_state=<mtrand.RandomState object at 0x000001CE92FE1090>,\n",
       "           splitter='best')],\n",
       "       [DecisionTreeRegressor(criterion='friedman_mse', max_depth=3,\n",
       "           max_features=None, max_leaf_nodes=None,\n",
       "           min_impurity_decrease=0.0, min_impurity_split=None,\n",
       "           min_samples_leaf=1, min_samples_split=2,\n",
       "           min_weight_fraction_leaf=0.0, presort='auto',\n",
       "           random_state=<mtrand.RandomState object at 0x000001CE92FE1090>,\n",
       "           splitter='best')],\n",
       "       [DecisionTreeRegressor(criterion='friedman_mse', max_depth=3,\n",
       "           max_features=None, max_leaf_nodes=None,\n",
       "           min_impurity_decrease=0.0, min_impurity_split=None,\n",
       "           min_samples_leaf=1, min_samples_split=2,\n",
       "           min_weight_fraction_leaf=0.0, presort='auto',\n",
       "           random_state=<mtrand.RandomState object at 0x000001CE92FE1090>,\n",
       "           splitter='best')],\n",
       "       [DecisionTreeRegressor(criterion='friedman_mse', max_depth=3,\n",
       "           max_features=None, max_leaf_nodes=None,\n",
       "           min_impurity_decrease=0.0, min_impurity_split=None,\n",
       "           min_samples_leaf=1, min_samples_split=2,\n",
       "           min_weight_fraction_leaf=0.0, presort='auto',\n",
       "           random_state=<mtrand.RandomState object at 0x000001CE92FE1090>,\n",
       "           splitter='best')],\n",
       "       [DecisionTreeRegressor(criterion='friedman_mse', max_depth=3,\n",
       "           max_features=None, max_leaf_nodes=None,\n",
       "           min_impurity_decrease=0.0, min_impurity_split=None,\n",
       "           min_samples_leaf=1, min_samples_split=2,\n",
       "           min_weight_fraction_leaf=0.0, presort='auto',\n",
       "           random_state=<mtrand.RandomState object at 0x000001CE92FE1090>,\n",
       "           splitter='best')],\n",
       "       [DecisionTreeRegressor(criterion='friedman_mse', max_depth=3,\n",
       "           max_features=None, max_leaf_nodes=None,\n",
       "           min_impurity_decrease=0.0, min_impurity_split=None,\n",
       "           min_samples_leaf=1, min_samples_split=2,\n",
       "           min_weight_fraction_leaf=0.0, presort='auto',\n",
       "           random_state=<mtrand.RandomState object at 0x000001CE92FE1090>,\n",
       "           splitter='best')],\n",
       "       [DecisionTreeRegressor(criterion='friedman_mse', max_depth=3,\n",
       "           max_features=None, max_leaf_nodes=None,\n",
       "           min_impurity_decrease=0.0, min_impurity_split=None,\n",
       "           min_samples_leaf=1, min_samples_split=2,\n",
       "           min_weight_fraction_leaf=0.0, presort='auto',\n",
       "           random_state=<mtrand.RandomState object at 0x000001CE92FE1090>,\n",
       "           splitter='best')],\n",
       "       [DecisionTreeRegressor(criterion='friedman_mse', max_depth=3,\n",
       "           max_features=None, max_leaf_nodes=None,\n",
       "           min_impurity_decrease=0.0, min_impurity_split=None,\n",
       "           min_samples_leaf=1, min_samples_split=2,\n",
       "           min_weight_fraction_leaf=0.0, presort='auto',\n",
       "           random_state=<mtrand.RandomState object at 0x000001CE92FE1090>,\n",
       "           splitter='best')],\n",
       "       [DecisionTreeRegressor(criterion='friedman_mse', max_depth=3,\n",
       "           max_features=None, max_leaf_nodes=None,\n",
       "           min_impurity_decrease=0.0, min_impurity_split=None,\n",
       "           min_samples_leaf=1, min_samples_split=2,\n",
       "           min_weight_fraction_leaf=0.0, presort='auto',\n",
       "           random_state=<mtrand.RandomState object at 0x000001CE92FE1090>,\n",
       "           splitter='best')],\n",
       "       [DecisionTreeRegressor(criterion='friedman_mse', max_depth=3,\n",
       "           max_features=None, max_leaf_nodes=None,\n",
       "           min_impurity_decrease=0.0, min_impurity_split=None,\n",
       "           min_samples_leaf=1, min_samples_split=2,\n",
       "           min_weight_fraction_leaf=0.0, presort='auto',\n",
       "           random_state=<mtrand.RandomState object at 0x000001CE92FE1090>,\n",
       "           splitter='best')],\n",
       "       [DecisionTreeRegressor(criterion='friedman_mse', max_depth=3,\n",
       "           max_features=None, max_leaf_nodes=None,\n",
       "           min_impurity_decrease=0.0, min_impurity_split=None,\n",
       "           min_samples_leaf=1, min_samples_split=2,\n",
       "           min_weight_fraction_leaf=0.0, presort='auto',\n",
       "           random_state=<mtrand.RandomState object at 0x000001CE92FE1090>,\n",
       "           splitter='best')],\n",
       "       [DecisionTreeRegressor(criterion='friedman_mse', max_depth=3,\n",
       "           max_features=None, max_leaf_nodes=None,\n",
       "           min_impurity_decrease=0.0, min_impurity_split=None,\n",
       "           min_samples_leaf=1, min_samples_split=2,\n",
       "           min_weight_fraction_leaf=0.0, presort='auto',\n",
       "           random_state=<mtrand.RandomState object at 0x000001CE92FE1090>,\n",
       "           splitter='best')],\n",
       "       [DecisionTreeRegressor(criterion='friedman_mse', max_depth=3,\n",
       "           max_features=None, max_leaf_nodes=None,\n",
       "           min_impurity_decrease=0.0, min_impurity_split=None,\n",
       "           min_samples_leaf=1, min_samples_split=2,\n",
       "           min_weight_fraction_leaf=0.0, presort='auto',\n",
       "           random_state=<mtrand.RandomState object at 0x000001CE92FE1090>,\n",
       "           splitter='best')],\n",
       "       [DecisionTreeRegressor(criterion='friedman_mse', max_depth=3,\n",
       "           max_features=None, max_leaf_nodes=None,\n",
       "           min_impurity_decrease=0.0, min_impurity_split=None,\n",
       "           min_samples_leaf=1, min_samples_split=2,\n",
       "           min_weight_fraction_leaf=0.0, presort='auto',\n",
       "           random_state=<mtrand.RandomState object at 0x000001CE92FE1090>,\n",
       "           splitter='best')],\n",
       "       [DecisionTreeRegressor(criterion='friedman_mse', max_depth=3,\n",
       "           max_features=None, max_leaf_nodes=None,\n",
       "           min_impurity_decrease=0.0, min_impurity_split=None,\n",
       "           min_samples_leaf=1, min_samples_split=2,\n",
       "           min_weight_fraction_leaf=0.0, presort='auto',\n",
       "           random_state=<mtrand.RandomState object at 0x000001CE92FE1090>,\n",
       "           splitter='best')],\n",
       "       [DecisionTreeRegressor(criterion='friedman_mse', max_depth=3,\n",
       "           max_features=None, max_leaf_nodes=None,\n",
       "           min_impurity_decrease=0.0, min_impurity_split=None,\n",
       "           min_samples_leaf=1, min_samples_split=2,\n",
       "           min_weight_fraction_leaf=0.0, presort='auto',\n",
       "           random_state=<mtrand.RandomState object at 0x000001CE92FE1090>,\n",
       "           splitter='best')],\n",
       "       [DecisionTreeRegressor(criterion='friedman_mse', max_depth=3,\n",
       "           max_features=None, max_leaf_nodes=None,\n",
       "           min_impurity_decrease=0.0, min_impurity_split=None,\n",
       "           min_samples_leaf=1, min_samples_split=2,\n",
       "           min_weight_fraction_leaf=0.0, presort='auto',\n",
       "           random_state=<mtrand.RandomState object at 0x000001CE92FE1090>,\n",
       "           splitter='best')],\n",
       "       [DecisionTreeRegressor(criterion='friedman_mse', max_depth=3,\n",
       "           max_features=None, max_leaf_nodes=None,\n",
       "           min_impurity_decrease=0.0, min_impurity_split=None,\n",
       "           min_samples_leaf=1, min_samples_split=2,\n",
       "           min_weight_fraction_leaf=0.0, presort='auto',\n",
       "           random_state=<mtrand.RandomState object at 0x000001CE92FE1090>,\n",
       "           splitter='best')],\n",
       "       [DecisionTreeRegressor(criterion='friedman_mse', max_depth=3,\n",
       "           max_features=None, max_leaf_nodes=None,\n",
       "           min_impurity_decrease=0.0, min_impurity_split=None,\n",
       "           min_samples_leaf=1, min_samples_split=2,\n",
       "           min_weight_fraction_leaf=0.0, presort='auto',\n",
       "           random_state=<mtrand.RandomState object at 0x000001CE92FE1090>,\n",
       "           splitter='best')],\n",
       "       [DecisionTreeRegressor(criterion='friedman_mse', max_depth=3,\n",
       "           max_features=None, max_leaf_nodes=None,\n",
       "           min_impurity_decrease=0.0, min_impurity_split=None,\n",
       "           min_samples_leaf=1, min_samples_split=2,\n",
       "           min_weight_fraction_leaf=0.0, presort='auto',\n",
       "           random_state=<mtrand.RandomState object at 0x000001CE92FE1090>,\n",
       "           splitter='best')],\n",
       "       [DecisionTreeRegressor(criterion='friedman_mse', max_depth=3,\n",
       "           max_features=None, max_leaf_nodes=None,\n",
       "           min_impurity_decrease=0.0, min_impurity_split=None,\n",
       "           min_samples_leaf=1, min_samples_split=2,\n",
       "           min_weight_fraction_leaf=0.0, presort='auto',\n",
       "           random_state=<mtrand.RandomState object at 0x000001CE92FE1090>,\n",
       "           splitter='best')],\n",
       "       [DecisionTreeRegressor(criterion='friedman_mse', max_depth=3,\n",
       "           max_features=None, max_leaf_nodes=None,\n",
       "           min_impurity_decrease=0.0, min_impurity_split=None,\n",
       "           min_samples_leaf=1, min_samples_split=2,\n",
       "           min_weight_fraction_leaf=0.0, presort='auto',\n",
       "           random_state=<mtrand.RandomState object at 0x000001CE92FE1090>,\n",
       "           splitter='best')],\n",
       "       [DecisionTreeRegressor(criterion='friedman_mse', max_depth=3,\n",
       "           max_features=None, max_leaf_nodes=None,\n",
       "           min_impurity_decrease=0.0, min_impurity_split=None,\n",
       "           min_samples_leaf=1, min_samples_split=2,\n",
       "           min_weight_fraction_leaf=0.0, presort='auto',\n",
       "           random_state=<mtrand.RandomState object at 0x000001CE92FE1090>,\n",
       "           splitter='best')],\n",
       "       [DecisionTreeRegressor(criterion='friedman_mse', max_depth=3,\n",
       "           max_features=None, max_leaf_nodes=None,\n",
       "           min_impurity_decrease=0.0, min_impurity_split=None,\n",
       "           min_samples_leaf=1, min_samples_split=2,\n",
       "           min_weight_fraction_leaf=0.0, presort='auto',\n",
       "           random_state=<mtrand.RandomState object at 0x000001CE92FE1090>,\n",
       "           splitter='best')],\n",
       "       [DecisionTreeRegressor(criterion='friedman_mse', max_depth=3,\n",
       "           max_features=None, max_leaf_nodes=None,\n",
       "           min_impurity_decrease=0.0, min_impurity_split=None,\n",
       "           min_samples_leaf=1, min_samples_split=2,\n",
       "           min_weight_fraction_leaf=0.0, presort='auto',\n",
       "           random_state=<mtrand.RandomState object at 0x000001CE92FE1090>,\n",
       "           splitter='best')],\n",
       "       [DecisionTreeRegressor(criterion='friedman_mse', max_depth=3,\n",
       "           max_features=None, max_leaf_nodes=None,\n",
       "           min_impurity_decrease=0.0, min_impurity_split=None,\n",
       "           min_samples_leaf=1, min_samples_split=2,\n",
       "           min_weight_fraction_leaf=0.0, presort='auto',\n",
       "           random_state=<mtrand.RandomState object at 0x000001CE92FE1090>,\n",
       "           splitter='best')],\n",
       "       [DecisionTreeRegressor(criterion='friedman_mse', max_depth=3,\n",
       "           max_features=None, max_leaf_nodes=None,\n",
       "           min_impurity_decrease=0.0, min_impurity_split=None,\n",
       "           min_samples_leaf=1, min_samples_split=2,\n",
       "           min_weight_fraction_leaf=0.0, presort='auto',\n",
       "           random_state=<mtrand.RandomState object at 0x000001CE92FE1090>,\n",
       "           splitter='best')],\n",
       "       [DecisionTreeRegressor(criterion='friedman_mse', max_depth=3,\n",
       "           max_features=None, max_leaf_nodes=None,\n",
       "           min_impurity_decrease=0.0, min_impurity_split=None,\n",
       "           min_samples_leaf=1, min_samples_split=2,\n",
       "           min_weight_fraction_leaf=0.0, presort='auto',\n",
       "           random_state=<mtrand.RandomState object at 0x000001CE92FE1090>,\n",
       "           splitter='best')],\n",
       "       [DecisionTreeRegressor(criterion='friedman_mse', max_depth=3,\n",
       "           max_features=None, max_leaf_nodes=None,\n",
       "           min_impurity_decrease=0.0, min_impurity_split=None,\n",
       "           min_samples_leaf=1, min_samples_split=2,\n",
       "           min_weight_fraction_leaf=0.0, presort='auto',\n",
       "           random_state=<mtrand.RandomState object at 0x000001CE92FE1090>,\n",
       "           splitter='best')],\n",
       "       [DecisionTreeRegressor(criterion='friedman_mse', max_depth=3,\n",
       "           max_features=None, max_leaf_nodes=None,\n",
       "           min_impurity_decrease=0.0, min_impurity_split=None,\n",
       "           min_samples_leaf=1, min_samples_split=2,\n",
       "           min_weight_fraction_leaf=0.0, presort='auto',\n",
       "           random_state=<mtrand.RandomState object at 0x000001CE92FE1090>,\n",
       "           splitter='best')],\n",
       "       [DecisionTreeRegressor(criterion='friedman_mse', max_depth=3,\n",
       "           max_features=None, max_leaf_nodes=None,\n",
       "           min_impurity_decrease=0.0, min_impurity_split=None,\n",
       "           min_samples_leaf=1, min_samples_split=2,\n",
       "           min_weight_fraction_leaf=0.0, presort='auto',\n",
       "           random_state=<mtrand.RandomState object at 0x000001CE92FE1090>,\n",
       "           splitter='best')],\n",
       "       [DecisionTreeRegressor(criterion='friedman_mse', max_depth=3,\n",
       "           max_features=None, max_leaf_nodes=None,\n",
       "           min_impurity_decrease=0.0, min_impurity_split=None,\n",
       "           min_samples_leaf=1, min_samples_split=2,\n",
       "           min_weight_fraction_leaf=0.0, presort='auto',\n",
       "           random_state=<mtrand.RandomState object at 0x000001CE92FE1090>,\n",
       "           splitter='best')]], dtype=object)"
      ]
     },
     "execution_count": 71,
     "metadata": {},
     "output_type": "execute_result"
    }
   ],
   "source": [
    "gb.estimators_"
   ]
  },
  {
   "cell_type": "markdown",
   "metadata": {},
   "source": [
    "gb_estimators output the parameters of the different model used (here 50). "
   ]
  },
  {
   "cell_type": "markdown",
   "metadata": {},
   "source": [
    "We now try to use the 'gb' classifier to generate features that will be relevant inputs for the logistic regression.We generate a transformation 'leafs_train' of the training set 'Xtrain_oh[:, cols_to_keep]' for which the nth column corresponds to the number of the leaf returned by the estimator n"
   ]
  },
  {
   "cell_type": "code",
   "execution_count": 72,
   "metadata": {
    "ExecuteTime": {
     "end_time": "2019-01-05T17:35:12.523469Z",
     "start_time": "2019-01-05T17:35:11.023154Z"
    }
   },
   "outputs": [],
   "source": [
    "leafs_train = gb.apply(Xtrain_oh_filtered).reshape(Xtrain_oh_filtered.shape[0], 50)\n",
    "leafs_test = gb.apply(Xtest_oh_filtered).reshape(Xtest_oh_filtered.shape[0], 50)"
   ]
  },
  {
   "cell_type": "markdown",
   "metadata": {},
   "source": [
    "After your applied gb.apply on Xtrain_oh[:, cols_to_keep], remember that use have only one class to predict (click = 0 or 1). "
   ]
  },
  {
   "cell_type": "code",
   "execution_count": 73,
   "metadata": {
    "ExecuteTime": {
     "end_time": "2019-01-05T17:35:12.527977Z",
     "start_time": "2019-01-05T17:35:12.524853Z"
    }
   },
   "outputs": [
    {
     "name": "stdout",
     "output_type": "stream",
     "text": [
      "[[10.  3.  3. ...  3.  3.  3.]\n",
      " [10.  3.  3. ...  3.  3.  3.]\n",
      " [ 3.  3.  3. ...  3.  3.  3.]\n",
      " ...\n",
      " [ 3.  3.  3. ...  3.  3.  3.]\n",
      " [ 3.  3.  3. ...  3.  3.  3.]\n",
      " [ 3.  3.  3. ...  3.  3.  3.]]\n"
     ]
    }
   ],
   "source": [
    "print(leafs_test)"
   ]
  },
  {
   "cell_type": "code",
   "execution_count": 74,
   "metadata": {
    "ExecuteTime": {
     "end_time": "2019-01-05T17:35:12.533004Z",
     "start_time": "2019-01-05T17:35:12.529884Z"
    }
   },
   "outputs": [],
   "source": [
    "leafs_train = pd.DataFrame(leafs_train) # Fill here\n",
    "leafs_test = pd.DataFrame(leafs_test)"
   ]
  },
  {
   "cell_type": "markdown",
   "metadata": {},
   "source": [
    "We encode these new features into dummies"
   ]
  },
  {
   "cell_type": "code",
   "execution_count": 75,
   "metadata": {
    "ExecuteTime": {
     "end_time": "2019-01-05T17:35:16.451887Z",
     "start_time": "2019-01-05T17:35:12.535007Z"
    }
   },
   "outputs": [],
   "source": [
    "ohe = OneHotEncoder(handle_unknown=\"ignore\").fit(leafs_train) # Fill here an argument if needed\n",
    "leafs_train_oh = ohe.transform(leafs_train)\n",
    "leafs_test_oh = ohe.transform(leafs_test)"
   ]
  },
  {
   "cell_type": "markdown",
   "metadata": {},
   "source": [
    "With the \"hstack\" function, we create a new matrix of features by concatenating horizontally our new features \"leafs_train_oh\" and \"leafs_test_oh\", and previous features used for logistic regression (e.g. in \"Xtrain_oh[:, cols_to_keep]\")\n",
    "\n",
    "**Remark**: we use \"hstack\" from scipy.sparse (and not from numpy) because the output of our OneHotEncoder is a sparse array. You can verify it with the command \"type(Xtrain_oh)\"."
   ]
  },
  {
   "cell_type": "code",
   "execution_count": 76,
   "metadata": {
    "ExecuteTime": {
     "end_time": "2019-01-05T17:35:17.494811Z",
     "start_time": "2019-01-05T17:35:16.453075Z"
    }
   },
   "outputs": [],
   "source": [
    "from scipy.sparse import csr_matrix, hstack\n",
    "Xtrain_concat = hstack([ Xtrain_oh_filtered , leafs_train_oh ]) # Fill here\n",
    "Xtest_concat = hstack([ Xtest_oh_filtered , leafs_test_oh ])"
   ]
  },
  {
   "cell_type": "markdown",
   "metadata": {},
   "source": [
    "We run a logistic regression on the new features and evaluate its performance as before"
   ]
  },
  {
   "cell_type": "code",
   "execution_count": 77,
   "metadata": {
    "ExecuteTime": {
     "end_time": "2019-01-05T17:38:03.108801Z",
     "start_time": "2019-01-05T17:35:17.496367Z"
    }
   },
   "outputs": [
    {
     "name": "stderr",
     "output_type": "stream",
     "text": [
      "C:\\ProgramData\\Anaconda3\\lib\\site-packages\\sklearn\\linear_model\\logistic.py:433: FutureWarning: Default solver will be changed to 'lbfgs' in 0.22. Specify a solver to silence this warning.\n",
      "  FutureWarning)\n"
     ]
    }
   ],
   "source": [
    "lr = LogisticRegression(random_state = SEED)\n",
    "lr.fit(Xtrain_concat,ytrain)\n",
    "hard = lr.predict(Xtest_concat)\n",
    "soft = lr.predict_proba(Xtest_concat)"
   ]
  },
  {
   "cell_type": "code",
   "execution_count": 78,
   "metadata": {
    "ExecuteTime": {
     "end_time": "2019-01-05T17:38:03.116882Z",
     "start_time": "2019-01-05T17:38:03.109997Z"
    }
   },
   "outputs": [
    {
     "name": "stdout",
     "output_type": "stream",
     "text": [
      "Hard score  0.83405\n"
     ]
    }
   ],
   "source": [
    "hard_score_gb_leaf = accuracy_score(ytest, hard)\n",
    "print(\"Hard score \", hard_score_gb_leaf)"
   ]
  },
  {
   "cell_type": "code",
   "execution_count": 79,
   "metadata": {
    "ExecuteTime": {
     "end_time": "2019-01-05T17:38:03.291685Z",
     "start_time": "2019-01-05T17:38:03.118292Z"
    }
   },
   "outputs": [
    {
     "data": {
      "image/png": "[encoded data removed]",
      "text/plain": [
       "<Figure size 432x288 with 1 Axes>"
      ]
     },
     "metadata": {
      "needs_background": "light"
     },
     "output_type": "display_data"
    }
   ],
   "source": [
    "fpr, tpr, threshold = roc_curve(ytest,  soft[:,1])\n",
    "plt.plot(fpr,tpr, '-')\n",
    "plt.plot([0,1],[0,1], linestyle='--')\n",
    "plt.show()\n"
   ]
  },
  {
   "cell_type": "code",
   "execution_count": 80,
   "metadata": {
    "ExecuteTime": {
     "end_time": "2019-01-05T17:38:03.344379Z",
     "start_time": "2019-01-05T17:38:03.293974Z"
    }
   },
   "outputs": [
    {
     "name": "stdout",
     "output_type": "stream",
     "text": [
      "Log loss :  (0.3999497071713706, 0.7417438966297424)\n"
     ]
    }
   ],
   "source": [
    "log_loss_gb_leaf = log_loss(ytest, soft[:,1]), roc_auc_score(ytest, soft[:,1])\n",
    "print(\"Log loss : \", log_loss_gb_leaf)"
   ]
  },
  {
   "cell_type": "code",
   "execution_count": 81,
   "metadata": {
    "ExecuteTime": {
     "end_time": "2019-01-05T17:38:31.140599Z",
     "start_time": "2019-01-05T17:38:31.117764Z"
    }
   },
   "outputs": [
    {
     "name": "stdout",
     "output_type": "stream",
     "text": [
      "Area under roc curve :  0.7417438966297424\n"
     ]
    }
   ],
   "source": [
    "roc_gb_leaf = roc_auc_score(ytest, soft[:,1])\n",
    "print(\"Area under roc curve : \", roc_gb_leaf)"
   ]
  },
  {
   "cell_type": "code",
   "execution_count": 82,
   "metadata": {
    "ExecuteTime": {
     "end_time": "2019-01-05T17:38:25.658248Z",
     "start_time": "2019-01-05T17:38:25.475149Z"
    }
   },
   "outputs": [
    {
     "data": {
      "image/png": "[encoded data removed]",
      "text/plain": [
       "<Figure size 432x288 with 1 Axes>"
      ]
     },
     "metadata": {
      "needs_background": "light"
     },
     "output_type": "display_data"
    }
   ],
   "source": [
    "plotlift(ytest, soft[:,1])\n",
    "plt.axvline(x= 0.2 , linestyle='--', color='r')\n",
    "plt.show()"
   ]
  },
  {
   "cell_type": "code",
   "execution_count": 83,
   "metadata": {
    "ExecuteTime": {
     "end_time": "2019-01-05T17:38:03.596015Z",
     "start_time": "2019-01-05T17:38:03.592647Z"
    }
   },
   "outputs": [
    {
     "name": "stdout",
     "output_type": "stream",
     "text": [
      "Models :  First colon selected | Feature selection | Gradient Boost | Gradient Boost leaf|\n",
      "Scores :  0.83043 | 0.83375 | 0.83343 | 0.83405\n",
      "Log loss :  (0.42512223391774184, 0.6762765906600234) | (0.40115170753842516, 0.7385988630146278) | 0.4091871736006742 | (0.3999497071713706, 0.7417438966297424)\n",
      "Roc Area :  0.6762765906600234 | 0.7385988630146278 | 0.7251893509766301 | 0.7417438966297424\n"
     ]
    }
   ],
   "source": [
    "print(\"Models : \",\"First colon selected |\",\"Feature selection |\", \"Gradient Boost |\", \"Gradient Boost leaf|\")\n",
    "print(\"Scores : \",hard_score_selected, \"|\",hard_score_feature_engin, \"|\", hard_score_gb, \"|\", hard_score_gb_leaf)\n",
    "print(\"Log loss : \",log_loss_selected, \"|\",log_loss_feature_engin, \"|\", log_loss_gb, \"|\", log_loss_gb_leaf)\n",
    "print(\"Roc Area : \",roc_feature_selected, \"|\",roc_feature_engin, \"|\", roc_gb, \"|\", roc_gb_leaf)"
   ]
  },
  {
   "cell_type": "markdown",
   "metadata": {},
   "source": [
    "**Adding those features improved our model, we came from a model weeker than GB but now we have a model predicting better  than GB (looking at score or area under ROC curve)**"
   ]
  },
  {
   "cell_type": "markdown",
   "metadata": {},
   "source": [
    "We create an XGBClassifier and initialize it using the same number of estimators and learning rate as before. We fit it on the same columns 'cols_to_keep' of Xtrain_oh than for the previous logistic regression.\n",
    "    <br>\n",
    "    - Evaluate its performance and compare it to the GradientBoosting classifier of scikit learn. How is the error? Does it take more time to run?\n",
    "</font>"
   ]
  },
  {
   "cell_type": "code",
   "execution_count": 84,
   "metadata": {
    "ExecuteTime": {
     "end_time": "2019-01-05T17:50:13.208849Z",
     "start_time": "2019-01-05T17:49:39.535515Z"
    }
   },
   "outputs": [
    {
     "name": "stdout",
     "output_type": "stream",
     "text": [
      "Wall time: 1min 34s\n",
      "Hard score  0.83348\n"
     ]
    }
   ],
   "source": [
    "from xgboost import XGBClassifier\n",
    "xgb = XGBClassifier(verbose=True, learning_rate=0.8, n_estimators=50, random_state = SEED, n_jobs=-1)\n",
    "%time xgb.fit(Xtrain_concat,ytrain)\n",
    "\n",
    "hard = xgb.predict(Xtest_concat)\n",
    "soft = xgb.predict_proba(Xtest_concat)\n",
    "\n",
    "hard_score_xgb = accuracy_score(ytest, hard)\n",
    "print(\"Hard score \", hard_score_xgb)\n"
   ]
  },
  {
   "cell_type": "code",
   "execution_count": 85,
   "metadata": {
    "ExecuteTime": {
     "end_time": "2019-01-05T17:50:19.762990Z",
     "start_time": "2019-01-05T17:50:19.739994Z"
    }
   },
   "outputs": [
    {
     "name": "stdout",
     "output_type": "stream",
     "text": [
      "Log loss  0.4062316573063936\n"
     ]
    }
   ],
   "source": [
    "log_loss_xgb = log_loss(ytest, soft[:,1])\n",
    "print(\"Log loss \", log_loss_xgb)"
   ]
  },
  {
   "cell_type": "code",
   "execution_count": 86,
   "metadata": {
    "ExecuteTime": {
     "end_time": "2019-01-05T17:50:26.043936Z",
     "start_time": "2019-01-05T17:50:26.019162Z"
    }
   },
   "outputs": [
    {
     "name": "stdout",
     "output_type": "stream",
     "text": [
      "Roc area  0.7290316623949777\n"
     ]
    }
   ],
   "source": [
    "roc_xgb = roc_auc_score(ytest, soft[:,1])\n",
    "print(\"Roc area \", roc_xgb)\n"
   ]
  },
  {
   "cell_type": "code",
   "execution_count": 87,
   "metadata": {
    "ExecuteTime": {
     "end_time": "2019-01-05T17:50:32.464510Z",
     "start_time": "2019-01-05T17:50:32.455086Z"
    }
   },
   "outputs": [
    {
     "name": "stdout",
     "output_type": "stream",
     "text": [
      "Models :  First colon selected | Feature selection | Gradient Boost | Gradient Boost leaf| XGB\n",
      "Scores :  0.83043 | 0.83375 | 0.83343 | 0.83405 | 0.83348\n",
      "Log loss :  (0.42512223391774184, 0.6762765906600234) | (0.40115170753842516, 0.7385988630146278) | 0.4091871736006742 | (0.3999497071713706, 0.7417438966297424) | 0.4062316573063936\n",
      "Roc Area :  0.6762765906600234 | 0.7385988630146278 | 0.7251893509766301 | 0.7417438966297424 | 0.7290316623949777\n"
     ]
    }
   ],
   "source": [
    "print(\"Models : \",\"First colon selected |\",\"Feature selection |\", \"Gradient Boost |\", \"Gradient Boost leaf|\",\"XGB\")\n",
    "print(\"Scores : \",hard_score_selected, \"|\",hard_score_feature_engin, \"|\", hard_score_gb, \"|\", hard_score_gb_leaf,\"|\", hard_score_xgb)\n",
    "print(\"Log loss : \",log_loss_selected, \"|\",log_loss_feature_engin, \"|\", log_loss_gb, \"|\", log_loss_gb_leaf,\"|\", log_loss_xgb)\n",
    "print(\"Roc Area : \",roc_feature_selected, \"|\",roc_feature_engin, \"|\", roc_gb, \"|\", roc_gb_leaf,\"|\", roc_xgb)"
   ]
  },
  {
   "cell_type": "markdown",
   "metadata": {},
   "source": [
    "**We chose n_jobs = -1 to parallelize our computation, it means use all available ressources (cores) => It gives us a model faster to fit and predict.**\n",
    "\n",
    "**This new model is a little bit weaker than the gradiant boost associated with the logistic regression but better than the Gb alone (thin difference) regarding to ROC and score**\n"
   ]
  },
  {
   "cell_type": "markdown",
   "metadata": {},
   "source": [
    "We increase the number of estimators and visualize the impact on performance"
   ]
  },
  {
   "cell_type": "code",
   "execution_count": 88,
   "metadata": {
    "ExecuteTime": {
     "end_time": "2019-01-05T17:58:45.815574Z",
     "start_time": "2019-01-05T17:50:42.461880Z"
    }
   },
   "outputs": [
    {
     "name": "stdout",
     "output_type": "stream",
     "text": [
      "Wall time: 28min 22s\n",
      "Hard score  0.83288\n"
     ]
    }
   ],
   "source": [
    "from xgboost import XGBClassifier\n",
    "xgb2 = XGBClassifier(verbose=True, learning_rate=1, n_estimators=1024, random_state = SEED, n_jobs=-1)\n",
    "%time xgb2.fit(Xtrain_concat,ytrain)\n",
    "\n",
    "hard = xgb2.predict(Xtest_concat)\n",
    "soft = xgb2.predict_proba(Xtest_concat)\n",
    "\n",
    "hard_score_xgb2 = accuracy_score(ytest, hard)\n",
    "print(\"Hard score \", hard_score_xgb2)"
   ]
  },
  {
   "cell_type": "code",
   "execution_count": 89,
   "metadata": {
    "ExecuteTime": {
     "end_time": "2019-01-05T18:31:14.321654Z",
     "start_time": "2019-01-05T18:31:14.300307Z"
    }
   },
   "outputs": [
    {
     "name": "stdout",
     "output_type": "stream",
     "text": [
      "Log loss  0.40079399106913244\n"
     ]
    }
   ],
   "source": [
    "log_loss_xgb2 = log_loss(ytest, soft[:,1])\n",
    "print(\"Log loss \", log_loss_xgb2)"
   ]
  },
  {
   "cell_type": "code",
   "execution_count": 90,
   "metadata": {
    "ExecuteTime": {
     "end_time": "2019-01-05T18:31:20.300884Z",
     "start_time": "2019-01-05T18:31:20.281499Z"
    }
   },
   "outputs": [
    {
     "name": "stdout",
     "output_type": "stream",
     "text": [
      "Roc area  0.7421910171049341\n"
     ]
    }
   ],
   "source": [
    "roc_xgb2 = roc_auc_score(ytest, soft[:,1])\n",
    "print(\"Roc area \", roc_xgb2)"
   ]
  },
  {
   "cell_type": "code",
   "execution_count": 91,
   "metadata": {
    "ExecuteTime": {
     "end_time": "2019-01-05T18:31:25.946446Z",
     "start_time": "2019-01-05T18:31:25.943055Z"
    }
   },
   "outputs": [
    {
     "name": "stdout",
     "output_type": "stream",
     "text": [
      "Models :  First colon selected | Feature selection | Gradient Boost | Gradient Boost leaf| XGB XGB 1024\n",
      "Scores :  0.83043 | 0.83375 | 0.83343 | 0.83405 | 0.83348 | 0.83288\n",
      "Log loss :  (0.42512223391774184, 0.6762765906600234) | (0.40115170753842516, 0.7385988630146278) | 0.4091871736006742 | (0.3999497071713706, 0.7417438966297424) | 0.4062316573063936 | 0.40079399106913244\n",
      "Roc Area :  0.6762765906600234 | 0.7385988630146278 | 0.7251893509766301 | 0.7417438966297424 | 0.7290316623949777 | 0.7421910171049341\n"
     ]
    }
   ],
   "source": [
    "print(\"Models : \",\"First colon selected |\",\"Feature selection |\", \"Gradient Boost |\", \"Gradient Boost leaf|\",\"XGB\",\"XGB 1024\")\n",
    "print(\"Scores : \",hard_score_selected, \"|\",hard_score_feature_engin, \"|\", hard_score_gb, \"|\", hard_score_gb_leaf,\"|\", hard_score_xgb,\"|\", hard_score_xgb2)\n",
    "print(\"Log loss : \",log_loss_selected, \"|\",log_loss_feature_engin, \"|\", log_loss_gb, \"|\", log_loss_gb_leaf,\"|\", log_loss_xgb,\"|\", log_loss_xgb2)\n",
    "print(\"Roc Area : \",roc_feature_selected, \"|\",roc_feature_engin, \"|\", roc_gb, \"|\", roc_gb_leaf,\"|\", roc_xgb,\"|\", roc_xgb2)"
   ]
  },
  {
   "cell_type": "markdown",
   "metadata": {},
   "source": [
    "**The ROC curve is the best of all the models, but the score is the worst. Maybe the way of scoring is not the most apropriate.**\n",
    "\n",
    "**The time taken by the model is aproximatly 16m which is a lot more than the others**"
   ]
  },
  {
   "cell_type": "markdown",
   "metadata": {},
   "source": [
    "# Features hashing and random forest"
   ]
  },
  {
   "cell_type": "markdown",
   "metadata": {},
   "source": [
    "We restart with raw features before dummy encoding: Xtrain, Xtest.\n",
    "<font color=\"red\">**Question 43**:\n",
    "    Display again the number of modalities per feature in Xtrain.\n",
    "</font>"
   ]
  },
  {
   "cell_type": "code",
   "execution_count": 92,
   "metadata": {
    "ExecuteTime": {
     "end_time": "2019-01-05T18:42:00.438006Z",
     "start_time": "2019-01-05T18:41:59.546549Z"
    }
   },
   "outputs": [],
   "source": [
    "Xtrain, Xtest, ytrain, ytest = train_test_split(\n",
    "    df.iloc[:,2:], df['click'], test_size=0.1, random_state = SEED)"
   ]
  },
  {
   "cell_type": "code",
   "execution_count": 93,
   "metadata": {
    "ExecuteTime": {
     "end_time": "2019-01-05T18:42:08.767664Z",
     "start_time": "2019-01-05T18:42:06.336438Z"
    }
   },
   "outputs": [
    {
     "name": "stdout",
     "output_type": "stream",
     "text": [
      "Number of different element for each feature in Xtrain : \n",
      " hour                    24\n",
      "C1                       7\n",
      "banner_pos               7\n",
      "site_category           22\n",
      "app_id                3054\n",
      "app_domain             196\n",
      "app_category            26\n",
      "device_type              5\n",
      "device_conn_type         4\n",
      "C14                   2225\n",
      "C15                      8\n",
      "C16                      9\n",
      "C17                    420\n",
      "C18                      4\n",
      "C19                     66\n",
      "C20                    163\n",
      "C21                     60\n",
      "weekday                  7\n",
      "user                701585\n",
      "site                  5442\n",
      "dtype: int64\n"
     ]
    }
   ],
   "source": [
    "print(\"Number of different element for each feature in Xtrain : \\n\", Xtrain.nunique())"
   ]
  },
  {
   "cell_type": "code",
   "execution_count": 94,
   "metadata": {
    "ExecuteTime": {
     "end_time": "2019-01-05T18:42:14.885494Z",
     "start_time": "2019-01-05T18:42:14.635203Z"
    }
   },
   "outputs": [
    {
     "name": "stdout",
     "output_type": "stream",
     "text": [
      "Number of different element for each feature in Xtest : \n",
      " hour                   24\n",
      "C1                      7\n",
      "banner_pos              7\n",
      "site_category          19\n",
      "app_id               1308\n",
      "app_domain             91\n",
      "app_category           19\n",
      "device_type             4\n",
      "device_conn_type        4\n",
      "C14                  1733\n",
      "C15                     8\n",
      "C16                     9\n",
      "C17                   400\n",
      "C18                     4\n",
      "C19                    64\n",
      "C20                   157\n",
      "C21                    60\n",
      "weekday                 7\n",
      "user                91546\n",
      "site                 2199\n",
      "dtype: int64\n"
     ]
    }
   ],
   "source": [
    "print(\"Number of different element for each feature in Xtest : \\n\", Xtest.nunique())"
   ]
  },
  {
   "cell_type": "markdown",
   "metadata": {},
   "source": [
    "We want to define a transformation which regroups the least frequent modalities into a label 'isRare'. In order to do so, we decide to define our own Transformer.\n"
   ]
  },
  {
   "cell_type": "code",
   "execution_count": 95,
   "metadata": {
    "ExecuteTime": {
     "end_time": "2019-01-05T18:42:32.862937Z",
     "start_time": "2019-01-05T18:42:32.856617Z"
    }
   },
   "outputs": [],
   "source": [
    "from sklearn.base import BaseEstimator, TransformerMixin\n",
    "\n",
    "class MergeRareTransformer(BaseEstimator, TransformerMixin):\n",
    "    \n",
    "    def __init__(self, col_names, threshold):\n",
    "        self.col_names = col_names\n",
    "        self.threshold = threshold\n",
    "\n",
    "    def fit(self, X, y=None):\n",
    "\n",
    "        X = pd.DataFrame(X)\n",
    "        counts_dict_list = []\n",
    "        ################## READ THIS #########################\n",
    "        for i in range(len(self.col_names)):\n",
    "            \n",
    "            serie = X[self.col_names[i]].value_counts()  # Série des counts de chaque modalité\n",
    "            rare_indexes = serie[serie<self.threshold[i]].index  # A quoi correspondent ces indices ?\n",
    "            frequent_indexes = serie[serie>=self.threshold[i]].index  # A quoi correspondent ces indices ?\n",
    "            dico = {x:'isRare' for x in rare_indexes}\n",
    "            dico.update({x: str(x) for x in frequent_indexes})\n",
    "            counts_dict_list.append(dico)   # Quel est le dictionnaire obtenu ?\n",
    "            \n",
    "        ######################################################\n",
    "            \n",
    "        self.counts_dict_list_ = counts_dict_list\n",
    "        return self\n",
    "\n",
    "    def transform(self, X):\n",
    "\n",
    "        Xt = pd.DataFrame()\n",
    "        ################## READ THIS #########################\n",
    "        for col, count_dict in zip(self.col_names, self.counts_dict_list_):\n",
    "            Xt[col] = X[col].apply(lambda x:count_dict[x] if x in count_dict else 'isRare')\n",
    "            # A quoi sert le \"else 'isRare'\" dans la transformation de la colonne ?\n",
    "        ######################################################\n",
    "\n",
    "        return Xt\n"
   ]
  },
  {
   "cell_type": "markdown",
   "metadata": {},
   "source": [
    "**Fit**\n",
    "\n",
    "rare_indexes : Contains the index of the count of values inferior to the thresold \n",
    "\n",
    "frequent_indexes : Contains the index of the count of values superior to the thresold\n",
    "\n",
    "counts_dict_list : The dictionary will contain either (key:value):\n",
    "\n",
    "    *index : 'isRare' if the value was selected as rare (value count < threshold)\n",
    "    \n",
    "    *index : 'index' (string version of index) if the value was selected as frequent (value count >= threshold)\n",
    "    \n",
    "    => So the dict has index : str(index) for the frequent values and index:'isRare' for the rare\n",
    "\n",
    "**Transform**\n",
    "\n",
    "The else case is here in the case the value is not in the dictionary (which has been fited before), so it means it's a rare value\n",
    "    \n",
    "\n"
   ]
  },
  {
   "cell_type": "markdown",
   "metadata": {},
   "source": [
    "We fit and transform the training set. To do so, we merge all mmodalities occuring at least 20 times in each column"
   ]
  },
  {
   "cell_type": "code",
   "execution_count": 96,
   "metadata": {
    "ExecuteTime": {
     "end_time": "2019-01-05T18:43:00.730331Z",
     "start_time": "2019-01-05T18:42:54.541481Z"
    }
   },
   "outputs": [],
   "source": [
    "mg = MergeRareTransformer(col_names=Xtrain.columns, threshold=[20]*len(Xtrain.columns))\n",
    "Xtrain_mg = mg.fit_transform(Xtrain) # Fill here with fit_transform or fit then transform.\n",
    "Xtest_mg = mg.transform(Xtest)"
   ]
  },
  {
   "cell_type": "code",
   "execution_count": 97,
   "metadata": {
    "ExecuteTime": {
     "end_time": "2019-01-05T18:43:07.196245Z",
     "start_time": "2019-01-05T18:43:06.723828Z"
    }
   },
   "outputs": [
    {
     "name": "stdout",
     "output_type": "stream",
     "text": [
      "Number of lines labelled as rare in the app domain column  513\n"
     ]
    }
   ],
   "source": [
    "nb_rare_app_domain = Xtrain_mg[Xtrain_mg['app_domain'] == 'isRare'].shape[0]\n",
    "print(\"Number of lines labelled as rare in the app domain column \",nb_rare_app_domain)"
   ]
  },
  {
   "cell_type": "markdown",
   "metadata": {},
   "source": [
    "**There is 513 out of 100000 values which occurs less than 400 times (20*20)**"
   ]
  },
  {
   "cell_type": "code",
   "execution_count": 98,
   "metadata": {
    "ExecuteTime": {
     "end_time": "2019-01-05T18:43:13.594200Z",
     "start_time": "2019-01-05T18:43:13.185061Z"
    }
   },
   "outputs": [
    {
     "name": "stdout",
     "output_type": "stream",
     "text": [
      "The number of different modalities per features is (minus one because of the rare values) : \n",
      " hour                  24\n",
      "C1                     7\n",
      "banner_pos             7\n",
      "site_category         18\n",
      "app_id               613\n",
      "app_domain            53\n",
      "app_category          19\n",
      "device_type            5\n",
      "device_conn_type       4\n",
      "C14                 1339\n",
      "C15                    8\n",
      "C16                    9\n",
      "C17                  381\n",
      "C18                    4\n",
      "C19                   63\n",
      "C20                  148\n",
      "C21                   60\n",
      "weekday                7\n",
      "user                 901\n",
      "site                 889\n",
      "dtype: int64\n"
     ]
    }
   ],
   "source": [
    "nb_modalities_features = Xtrain_mg.nunique()\n",
    "print(\"The number of different modalities per features is (minus one because of the rare values) : \\n\", nb_modalities_features)"
   ]
  },
  {
   "cell_type": "markdown",
   "metadata": {},
   "source": [
    "Modalities are arbitrary object, such as '234', 'isRare', etc. We will now transorm them into integers with the hashing trick."
   ]
  },
  {
   "cell_type": "code",
   "execution_count": 99,
   "metadata": {
    "ExecuteTime": {
     "end_time": "2019-01-05T18:43:19.640551Z",
     "start_time": "2019-01-05T18:43:19.637594Z"
    }
   },
   "outputs": [
    {
     "data": {
      "text/plain": [
       "-1225165818692003710"
      ]
     },
     "execution_count": 99,
     "metadata": {},
     "output_type": "execute_result"
    }
   ],
   "source": [
    "import hashlib\n",
    "hash(\"TEST\") # Fill here"
   ]
  },
  {
   "cell_type": "markdown",
   "metadata": {},
   "source": [
    "**A Hashing function use most of the time an injective function (we cannot come back from the hashed value to the original one) generating a value of always the same size. It is often used in security (store password on a server from instance where you compare the value hash of the pass entered by the user to the hash stored in database). Here the hash seem to generate an int value**"
   ]
  },
  {
   "cell_type": "markdown",
   "metadata": {},
   "source": [
    "We create two new datasets 'Xtrain_ha' and 'Xtest_ha' containing the output of the hashing process. We use the '.apply' method to transform iteratively the columns by mapping to each value its remainder in the euclidean division of the hash by 1000000. \n",
    "   Example:\n",
    "</font>\n",
    "</font>\n",
    "<p>\n",
    "<center>\n",
    "2060777048690<font color=\"red\">918393</font>  -->  918393\n",
    "</center>\n"
   ]
  },
  {
   "cell_type": "code",
   "execution_count": 100,
   "metadata": {
    "ExecuteTime": {
     "end_time": "2019-01-05T18:43:41.451876Z",
     "start_time": "2019-01-05T18:43:34.369299Z"
    }
   },
   "outputs": [],
   "source": [
    "Xtrain_ha = pd.DataFrame()\n",
    "Xtest_ha = pd.DataFrame()\n",
    "for col in Xtrain_mg.columns:\n",
    "    Xtrain_ha[col] = Xtrain_mg[col].apply(lambda x : hash(x)%1000000) # Fill here defining a lambda function\n",
    "    Xtest_ha[col] = Xtest_mg[col].apply(lambda x : hash(x)%1000000)"
   ]
  },
  {
   "cell_type": "code",
   "execution_count": 101,
   "metadata": {
    "ExecuteTime": {
     "end_time": "2019-01-05T18:43:48.612097Z",
     "start_time": "2019-01-05T18:43:48.570598Z"
    }
   },
   "outputs": [
    {
     "data": {
      "text/html": [
       "<div>\n",
       "<style scoped>\n",
       "    .dataframe tbody tr th:only-of-type {\n",
       "        vertical-align: middle;\n",
       "    }\n",
       "\n",
       "    .dataframe tbody tr th {\n",
       "        vertical-align: top;\n",
       "    }\n",
       "\n",
       "    .dataframe thead th {\n",
       "        text-align: right;\n",
       "    }\n",
       "</style>\n",
       "<table border=\"1\" class=\"dataframe\">\n",
       "  <thead>\n",
       "    <tr style=\"text-align: right;\">\n",
       "      <th></th>\n",
       "      <th>hour</th>\n",
       "      <th>C1</th>\n",
       "      <th>banner_pos</th>\n",
       "      <th>site_category</th>\n",
       "      <th>app_id</th>\n",
       "      <th>app_domain</th>\n",
       "      <th>app_category</th>\n",
       "      <th>device_type</th>\n",
       "      <th>device_conn_type</th>\n",
       "      <th>C14</th>\n",
       "      <th>C15</th>\n",
       "      <th>C16</th>\n",
       "      <th>C17</th>\n",
       "      <th>C18</th>\n",
       "      <th>C19</th>\n",
       "      <th>C20</th>\n",
       "      <th>C21</th>\n",
       "      <th>weekday</th>\n",
       "      <th>user</th>\n",
       "      <th>site</th>\n",
       "    </tr>\n",
       "  </thead>\n",
       "  <tbody>\n",
       "    <tr>\n",
       "      <th>92438</th>\n",
       "      <td>44288</td>\n",
       "      <td>645197</td>\n",
       "      <td>941907</td>\n",
       "      <td>190736</td>\n",
       "      <td>837441</td>\n",
       "      <td>598121</td>\n",
       "      <td>928731</td>\n",
       "      <td>133772</td>\n",
       "      <td>261207</td>\n",
       "      <td>68320</td>\n",
       "      <td>584181</td>\n",
       "      <td>378279</td>\n",
       "      <td>389313</td>\n",
       "      <td>903891</td>\n",
       "      <td>668266</td>\n",
       "      <td>932701</td>\n",
       "      <td>414379</td>\n",
       "      <td>903891</td>\n",
       "      <td>719606</td>\n",
       "      <td>199424</td>\n",
       "    </tr>\n",
       "    <tr>\n",
       "      <th>60898</th>\n",
       "      <td>327813</td>\n",
       "      <td>469083</td>\n",
       "      <td>903891</td>\n",
       "      <td>190736</td>\n",
       "      <td>76917</td>\n",
       "      <td>32478</td>\n",
       "      <td>518219</td>\n",
       "      <td>941907</td>\n",
       "      <td>134812</td>\n",
       "      <td>68320</td>\n",
       "      <td>584181</td>\n",
       "      <td>378279</td>\n",
       "      <td>389313</td>\n",
       "      <td>903891</td>\n",
       "      <td>668266</td>\n",
       "      <td>932701</td>\n",
       "      <td>414379</td>\n",
       "      <td>941907</td>\n",
       "      <td>719606</td>\n",
       "      <td>199424</td>\n",
       "    </tr>\n",
       "    <tr>\n",
       "      <th>556199</th>\n",
       "      <td>133772</td>\n",
       "      <td>469083</td>\n",
       "      <td>903891</td>\n",
       "      <td>157555</td>\n",
       "      <td>773403</td>\n",
       "      <td>598121</td>\n",
       "      <td>540635</td>\n",
       "      <td>941907</td>\n",
       "      <td>134812</td>\n",
       "      <td>923418</td>\n",
       "      <td>584181</td>\n",
       "      <td>378279</td>\n",
       "      <td>446638</td>\n",
       "      <td>903891</td>\n",
       "      <td>259803</td>\n",
       "      <td>932701</td>\n",
       "      <td>665514</td>\n",
       "      <td>903891</td>\n",
       "      <td>719606</td>\n",
       "      <td>234351</td>\n",
       "    </tr>\n",
       "    <tr>\n",
       "      <th>193129</th>\n",
       "      <td>158456</td>\n",
       "      <td>469083</td>\n",
       "      <td>941907</td>\n",
       "      <td>157555</td>\n",
       "      <td>773403</td>\n",
       "      <td>598121</td>\n",
       "      <td>540635</td>\n",
       "      <td>941907</td>\n",
       "      <td>903891</td>\n",
       "      <td>968396</td>\n",
       "      <td>584181</td>\n",
       "      <td>378279</td>\n",
       "      <td>211159</td>\n",
       "      <td>903891</td>\n",
       "      <td>244406</td>\n",
       "      <td>392640</td>\n",
       "      <td>839870</td>\n",
       "      <td>941907</td>\n",
       "      <td>719606</td>\n",
       "      <td>837701</td>\n",
       "    </tr>\n",
       "    <tr>\n",
       "      <th>231985</th>\n",
       "      <td>568286</td>\n",
       "      <td>469083</td>\n",
       "      <td>903891</td>\n",
       "      <td>604470</td>\n",
       "      <td>773403</td>\n",
       "      <td>598121</td>\n",
       "      <td>540635</td>\n",
       "      <td>941907</td>\n",
       "      <td>903891</td>\n",
       "      <td>649118</td>\n",
       "      <td>584181</td>\n",
       "      <td>378279</td>\n",
       "      <td>389313</td>\n",
       "      <td>903891</td>\n",
       "      <td>668266</td>\n",
       "      <td>652113</td>\n",
       "      <td>414379</td>\n",
       "      <td>714156</td>\n",
       "      <td>719606</td>\n",
       "      <td>867922</td>\n",
       "    </tr>\n",
       "    <tr>\n",
       "      <th>235945</th>\n",
       "      <td>261207</td>\n",
       "      <td>469083</td>\n",
       "      <td>941907</td>\n",
       "      <td>157555</td>\n",
       "      <td>773403</td>\n",
       "      <td>598121</td>\n",
       "      <td>540635</td>\n",
       "      <td>941907</td>\n",
       "      <td>903891</td>\n",
       "      <td>509437</td>\n",
       "      <td>584181</td>\n",
       "      <td>378279</td>\n",
       "      <td>929015</td>\n",
       "      <td>134812</td>\n",
       "      <td>186166</td>\n",
       "      <td>932701</td>\n",
       "      <td>957634</td>\n",
       "      <td>133772</td>\n",
       "      <td>719606</td>\n",
       "      <td>380097</td>\n",
       "    </tr>\n",
       "    <tr>\n",
       "      <th>622676</th>\n",
       "      <td>609601</td>\n",
       "      <td>469083</td>\n",
       "      <td>903891</td>\n",
       "      <td>604470</td>\n",
       "      <td>773403</td>\n",
       "      <td>598121</td>\n",
       "      <td>540635</td>\n",
       "      <td>941907</td>\n",
       "      <td>903891</td>\n",
       "      <td>674754</td>\n",
       "      <td>584181</td>\n",
       "      <td>378279</td>\n",
       "      <td>389313</td>\n",
       "      <td>903891</td>\n",
       "      <td>668266</td>\n",
       "      <td>652113</td>\n",
       "      <td>414379</td>\n",
       "      <td>134812</td>\n",
       "      <td>719606</td>\n",
       "      <td>867922</td>\n",
       "    </tr>\n",
       "    <tr>\n",
       "      <th>426950</th>\n",
       "      <td>987327</td>\n",
       "      <td>469083</td>\n",
       "      <td>903891</td>\n",
       "      <td>348539</td>\n",
       "      <td>773403</td>\n",
       "      <td>598121</td>\n",
       "      <td>540635</td>\n",
       "      <td>941907</td>\n",
       "      <td>903891</td>\n",
       "      <td>124517</td>\n",
       "      <td>584181</td>\n",
       "      <td>378279</td>\n",
       "      <td>177171</td>\n",
       "      <td>261207</td>\n",
       "      <td>905902</td>\n",
       "      <td>392640</td>\n",
       "      <td>757043</td>\n",
       "      <td>136140</td>\n",
       "      <td>719606</td>\n",
       "      <td>134838</td>\n",
       "    </tr>\n",
       "    <tr>\n",
       "      <th>115855</th>\n",
       "      <td>941907</td>\n",
       "      <td>469083</td>\n",
       "      <td>941907</td>\n",
       "      <td>157555</td>\n",
       "      <td>773403</td>\n",
       "      <td>598121</td>\n",
       "      <td>540635</td>\n",
       "      <td>941907</td>\n",
       "      <td>903891</td>\n",
       "      <td>989866</td>\n",
       "      <td>584181</td>\n",
       "      <td>378279</td>\n",
       "      <td>422928</td>\n",
       "      <td>903891</td>\n",
       "      <td>578261</td>\n",
       "      <td>932701</td>\n",
       "      <td>405133</td>\n",
       "      <td>134812</td>\n",
       "      <td>719606</td>\n",
       "      <td>234182</td>\n",
       "    </tr>\n",
       "    <tr>\n",
       "      <th>594467</th>\n",
       "      <td>977862</td>\n",
       "      <td>469083</td>\n",
       "      <td>903891</td>\n",
       "      <td>604470</td>\n",
       "      <td>773403</td>\n",
       "      <td>598121</td>\n",
       "      <td>540635</td>\n",
       "      <td>941907</td>\n",
       "      <td>903891</td>\n",
       "      <td>649118</td>\n",
       "      <td>584181</td>\n",
       "      <td>378279</td>\n",
       "      <td>389313</td>\n",
       "      <td>903891</td>\n",
       "      <td>668266</td>\n",
       "      <td>652113</td>\n",
       "      <td>414379</td>\n",
       "      <td>903891</td>\n",
       "      <td>719606</td>\n",
       "      <td>867922</td>\n",
       "    </tr>\n",
       "    <tr>\n",
       "      <th>588842</th>\n",
       "      <td>240777</td>\n",
       "      <td>469083</td>\n",
       "      <td>903891</td>\n",
       "      <td>190736</td>\n",
       "      <td>585270</td>\n",
       "      <td>32478</td>\n",
       "      <td>322250</td>\n",
       "      <td>941907</td>\n",
       "      <td>903891</td>\n",
       "      <td>957941</td>\n",
       "      <td>584181</td>\n",
       "      <td>378279</td>\n",
       "      <td>860102</td>\n",
       "      <td>261207</td>\n",
       "      <td>58110</td>\n",
       "      <td>248124</td>\n",
       "      <td>47107</td>\n",
       "      <td>903891</td>\n",
       "      <td>719606</td>\n",
       "      <td>199424</td>\n",
       "    </tr>\n",
       "    <tr>\n",
       "      <th>418668</th>\n",
       "      <td>327813</td>\n",
       "      <td>469083</td>\n",
       "      <td>903891</td>\n",
       "      <td>190736</td>\n",
       "      <td>275444</td>\n",
       "      <td>457793</td>\n",
       "      <td>928731</td>\n",
       "      <td>941907</td>\n",
       "      <td>261207</td>\n",
       "      <td>632934</td>\n",
       "      <td>584181</td>\n",
       "      <td>378279</td>\n",
       "      <td>515608</td>\n",
       "      <td>941907</td>\n",
       "      <td>318310</td>\n",
       "      <td>875956</td>\n",
       "      <td>268688</td>\n",
       "      <td>941907</td>\n",
       "      <td>719606</td>\n",
       "      <td>199424</td>\n",
       "    </tr>\n",
       "    <tr>\n",
       "      <th>235283</th>\n",
       "      <td>133772</td>\n",
       "      <td>469083</td>\n",
       "      <td>903891</td>\n",
       "      <td>190736</td>\n",
       "      <td>339190</td>\n",
       "      <td>32478</td>\n",
       "      <td>322250</td>\n",
       "      <td>941907</td>\n",
       "      <td>903891</td>\n",
       "      <td>503244</td>\n",
       "      <td>584181</td>\n",
       "      <td>378279</td>\n",
       "      <td>864537</td>\n",
       "      <td>941907</td>\n",
       "      <td>309682</td>\n",
       "      <td>932701</td>\n",
       "      <td>376205</td>\n",
       "      <td>941907</td>\n",
       "      <td>719606</td>\n",
       "      <td>199424</td>\n",
       "    </tr>\n",
       "    <tr>\n",
       "      <th>664370</th>\n",
       "      <td>987327</td>\n",
       "      <td>469083</td>\n",
       "      <td>941907</td>\n",
       "      <td>157555</td>\n",
       "      <td>773403</td>\n",
       "      <td>598121</td>\n",
       "      <td>540635</td>\n",
       "      <td>941907</td>\n",
       "      <td>903891</td>\n",
       "      <td>333512</td>\n",
       "      <td>584181</td>\n",
       "      <td>378279</td>\n",
       "      <td>40450</td>\n",
       "      <td>134812</td>\n",
       "      <td>578261</td>\n",
       "      <td>932701</td>\n",
       "      <td>518078</td>\n",
       "      <td>136140</td>\n",
       "      <td>719606</td>\n",
       "      <td>967825</td>\n",
       "    </tr>\n",
       "    <tr>\n",
       "      <th>379858</th>\n",
       "      <td>136140</td>\n",
       "      <td>469083</td>\n",
       "      <td>903891</td>\n",
       "      <td>157555</td>\n",
       "      <td>773403</td>\n",
       "      <td>598121</td>\n",
       "      <td>540635</td>\n",
       "      <td>941907</td>\n",
       "      <td>903891</td>\n",
       "      <td>267313</td>\n",
       "      <td>584181</td>\n",
       "      <td>378279</td>\n",
       "      <td>256317</td>\n",
       "      <td>261207</td>\n",
       "      <td>843136</td>\n",
       "      <td>98502</td>\n",
       "      <td>915455</td>\n",
       "      <td>261207</td>\n",
       "      <td>173969</td>\n",
       "      <td>894576</td>\n",
       "    </tr>\n",
       "    <tr>\n",
       "      <th>943479</th>\n",
       "      <td>802369</td>\n",
       "      <td>469083</td>\n",
       "      <td>903891</td>\n",
       "      <td>604470</td>\n",
       "      <td>773403</td>\n",
       "      <td>598121</td>\n",
       "      <td>540635</td>\n",
       "      <td>941907</td>\n",
       "      <td>903891</td>\n",
       "      <td>800633</td>\n",
       "      <td>584181</td>\n",
       "      <td>378279</td>\n",
       "      <td>151710</td>\n",
       "      <td>134812</td>\n",
       "      <td>668266</td>\n",
       "      <td>932701</td>\n",
       "      <td>518078</td>\n",
       "      <td>261207</td>\n",
       "      <td>719606</td>\n",
       "      <td>867922</td>\n",
       "    </tr>\n",
       "    <tr>\n",
       "      <th>357318</th>\n",
       "      <td>158456</td>\n",
       "      <td>469083</td>\n",
       "      <td>903891</td>\n",
       "      <td>190736</td>\n",
       "      <td>758913</td>\n",
       "      <td>990569</td>\n",
       "      <td>941370</td>\n",
       "      <td>941907</td>\n",
       "      <td>903891</td>\n",
       "      <td>270132</td>\n",
       "      <td>584181</td>\n",
       "      <td>378279</td>\n",
       "      <td>273744</td>\n",
       "      <td>261207</td>\n",
       "      <td>590954</td>\n",
       "      <td>98502</td>\n",
       "      <td>915455</td>\n",
       "      <td>133772</td>\n",
       "      <td>690107</td>\n",
       "      <td>199424</td>\n",
       "    </tr>\n",
       "    <tr>\n",
       "      <th>618206</th>\n",
       "      <td>977862</td>\n",
       "      <td>469083</td>\n",
       "      <td>941907</td>\n",
       "      <td>157555</td>\n",
       "      <td>773403</td>\n",
       "      <td>598121</td>\n",
       "      <td>540635</td>\n",
       "      <td>941907</td>\n",
       "      <td>903891</td>\n",
       "      <td>319836</td>\n",
       "      <td>584181</td>\n",
       "      <td>378279</td>\n",
       "      <td>100588</td>\n",
       "      <td>261207</td>\n",
       "      <td>578261</td>\n",
       "      <td>932701</td>\n",
       "      <td>757043</td>\n",
       "      <td>941907</td>\n",
       "      <td>719606</td>\n",
       "      <td>967825</td>\n",
       "    </tr>\n",
       "    <tr>\n",
       "      <th>218154</th>\n",
       "      <td>977862</td>\n",
       "      <td>469083</td>\n",
       "      <td>903891</td>\n",
       "      <td>604470</td>\n",
       "      <td>773403</td>\n",
       "      <td>598121</td>\n",
       "      <td>540635</td>\n",
       "      <td>941907</td>\n",
       "      <td>903891</td>\n",
       "      <td>592278</td>\n",
       "      <td>584181</td>\n",
       "      <td>378279</td>\n",
       "      <td>3230</td>\n",
       "      <td>134812</td>\n",
       "      <td>928070</td>\n",
       "      <td>932701</td>\n",
       "      <td>89115</td>\n",
       "      <td>941907</td>\n",
       "      <td>719606</td>\n",
       "      <td>867922</td>\n",
       "    </tr>\n",
       "    <tr>\n",
       "      <th>383144</th>\n",
       "      <td>539499</td>\n",
       "      <td>469083</td>\n",
       "      <td>941907</td>\n",
       "      <td>157555</td>\n",
       "      <td>773403</td>\n",
       "      <td>598121</td>\n",
       "      <td>540635</td>\n",
       "      <td>941907</td>\n",
       "      <td>903891</td>\n",
       "      <td>797690</td>\n",
       "      <td>584181</td>\n",
       "      <td>378279</td>\n",
       "      <td>522943</td>\n",
       "      <td>261207</td>\n",
       "      <td>578261</td>\n",
       "      <td>932701</td>\n",
       "      <td>757043</td>\n",
       "      <td>941907</td>\n",
       "      <td>719606</td>\n",
       "      <td>259641</td>\n",
       "    </tr>\n",
       "    <tr>\n",
       "      <th>589729</th>\n",
       "      <td>158456</td>\n",
       "      <td>469083</td>\n",
       "      <td>903891</td>\n",
       "      <td>190736</td>\n",
       "      <td>174628</td>\n",
       "      <td>960589</td>\n",
       "      <td>928731</td>\n",
       "      <td>941907</td>\n",
       "      <td>903891</td>\n",
       "      <td>263982</td>\n",
       "      <td>584181</td>\n",
       "      <td>378279</td>\n",
       "      <td>644433</td>\n",
       "      <td>903891</td>\n",
       "      <td>957634</td>\n",
       "      <td>932701</td>\n",
       "      <td>946240</td>\n",
       "      <td>261207</td>\n",
       "      <td>386612</td>\n",
       "      <td>199424</td>\n",
       "    </tr>\n",
       "    <tr>\n",
       "      <th>1867</th>\n",
       "      <td>568286</td>\n",
       "      <td>469083</td>\n",
       "      <td>903891</td>\n",
       "      <td>190736</td>\n",
       "      <td>141908</td>\n",
       "      <td>724173</td>\n",
       "      <td>213626</td>\n",
       "      <td>941907</td>\n",
       "      <td>903891</td>\n",
       "      <td>750053</td>\n",
       "      <td>584181</td>\n",
       "      <td>378279</td>\n",
       "      <td>652935</td>\n",
       "      <td>903891</td>\n",
       "      <td>668266</td>\n",
       "      <td>932701</td>\n",
       "      <td>313311</td>\n",
       "      <td>134812</td>\n",
       "      <td>719606</td>\n",
       "      <td>199424</td>\n",
       "    </tr>\n",
       "    <tr>\n",
       "      <th>223984</th>\n",
       "      <td>261207</td>\n",
       "      <td>469083</td>\n",
       "      <td>903891</td>\n",
       "      <td>604470</td>\n",
       "      <td>773403</td>\n",
       "      <td>598121</td>\n",
       "      <td>540635</td>\n",
       "      <td>941907</td>\n",
       "      <td>903891</td>\n",
       "      <td>592278</td>\n",
       "      <td>584181</td>\n",
       "      <td>378279</td>\n",
       "      <td>3230</td>\n",
       "      <td>134812</td>\n",
       "      <td>604003</td>\n",
       "      <td>983966</td>\n",
       "      <td>89115</td>\n",
       "      <td>133772</td>\n",
       "      <td>719606</td>\n",
       "      <td>867922</td>\n",
       "    </tr>\n",
       "    <tr>\n",
       "      <th>297246</th>\n",
       "      <td>568286</td>\n",
       "      <td>469083</td>\n",
       "      <td>903891</td>\n",
       "      <td>157555</td>\n",
       "      <td>773403</td>\n",
       "      <td>598121</td>\n",
       "      <td>540635</td>\n",
       "      <td>941907</td>\n",
       "      <td>903891</td>\n",
       "      <td>348659</td>\n",
       "      <td>584181</td>\n",
       "      <td>378279</td>\n",
       "      <td>867688</td>\n",
       "      <td>261207</td>\n",
       "      <td>578261</td>\n",
       "      <td>932701</td>\n",
       "      <td>757043</td>\n",
       "      <td>714156</td>\n",
       "      <td>719606</td>\n",
       "      <td>380097</td>\n",
       "    </tr>\n",
       "    <tr>\n",
       "      <th>726814</th>\n",
       "      <td>987327</td>\n",
       "      <td>469083</td>\n",
       "      <td>941907</td>\n",
       "      <td>157555</td>\n",
       "      <td>773403</td>\n",
       "      <td>598121</td>\n",
       "      <td>540635</td>\n",
       "      <td>941907</td>\n",
       "      <td>903891</td>\n",
       "      <td>155297</td>\n",
       "      <td>584181</td>\n",
       "      <td>378279</td>\n",
       "      <td>371962</td>\n",
       "      <td>261207</td>\n",
       "      <td>578261</td>\n",
       "      <td>932701</td>\n",
       "      <td>757043</td>\n",
       "      <td>261207</td>\n",
       "      <td>719606</td>\n",
       "      <td>716074</td>\n",
       "    </tr>\n",
       "    <tr>\n",
       "      <th>640745</th>\n",
       "      <td>240777</td>\n",
       "      <td>469083</td>\n",
       "      <td>941907</td>\n",
       "      <td>157555</td>\n",
       "      <td>773403</td>\n",
       "      <td>598121</td>\n",
       "      <td>540635</td>\n",
       "      <td>941907</td>\n",
       "      <td>903891</td>\n",
       "      <td>820679</td>\n",
       "      <td>584181</td>\n",
       "      <td>378279</td>\n",
       "      <td>422928</td>\n",
       "      <td>903891</td>\n",
       "      <td>578261</td>\n",
       "      <td>791064</td>\n",
       "      <td>405133</td>\n",
       "      <td>941907</td>\n",
       "      <td>719606</td>\n",
       "      <td>837701</td>\n",
       "    </tr>\n",
       "    <tr>\n",
       "      <th>819085</th>\n",
       "      <td>802369</td>\n",
       "      <td>469083</td>\n",
       "      <td>903891</td>\n",
       "      <td>190736</td>\n",
       "      <td>275444</td>\n",
       "      <td>457793</td>\n",
       "      <td>928731</td>\n",
       "      <td>941907</td>\n",
       "      <td>261207</td>\n",
       "      <td>158542</td>\n",
       "      <td>584181</td>\n",
       "      <td>378279</td>\n",
       "      <td>515608</td>\n",
       "      <td>941907</td>\n",
       "      <td>318310</td>\n",
       "      <td>875956</td>\n",
       "      <td>268688</td>\n",
       "      <td>133772</td>\n",
       "      <td>719606</td>\n",
       "      <td>199424</td>\n",
       "    </tr>\n",
       "    <tr>\n",
       "      <th>18831</th>\n",
       "      <td>133772</td>\n",
       "      <td>469083</td>\n",
       "      <td>903891</td>\n",
       "      <td>190736</td>\n",
       "      <td>278762</td>\n",
       "      <td>143545</td>\n",
       "      <td>928731</td>\n",
       "      <td>941907</td>\n",
       "      <td>903891</td>\n",
       "      <td>269471</td>\n",
       "      <td>584181</td>\n",
       "      <td>378279</td>\n",
       "      <td>842645</td>\n",
       "      <td>261207</td>\n",
       "      <td>724151</td>\n",
       "      <td>454657</td>\n",
       "      <td>996529</td>\n",
       "      <td>261207</td>\n",
       "      <td>719606</td>\n",
       "      <td>199424</td>\n",
       "    </tr>\n",
       "    <tr>\n",
       "      <th>920255</th>\n",
       "      <td>568286</td>\n",
       "      <td>469083</td>\n",
       "      <td>941907</td>\n",
       "      <td>157555</td>\n",
       "      <td>773403</td>\n",
       "      <td>598121</td>\n",
       "      <td>540635</td>\n",
       "      <td>941907</td>\n",
       "      <td>903891</td>\n",
       "      <td>331630</td>\n",
       "      <td>584181</td>\n",
       "      <td>378279</td>\n",
       "      <td>183697</td>\n",
       "      <td>134812</td>\n",
       "      <td>578261</td>\n",
       "      <td>276629</td>\n",
       "      <td>757043</td>\n",
       "      <td>261207</td>\n",
       "      <td>719606</td>\n",
       "      <td>967825</td>\n",
       "    </tr>\n",
       "    <tr>\n",
       "      <th>564162</th>\n",
       "      <td>609601</td>\n",
       "      <td>469083</td>\n",
       "      <td>941907</td>\n",
       "      <td>157555</td>\n",
       "      <td>773403</td>\n",
       "      <td>598121</td>\n",
       "      <td>540635</td>\n",
       "      <td>941907</td>\n",
       "      <td>134812</td>\n",
       "      <td>495374</td>\n",
       "      <td>584181</td>\n",
       "      <td>378279</td>\n",
       "      <td>929015</td>\n",
       "      <td>134812</td>\n",
       "      <td>186166</td>\n",
       "      <td>652113</td>\n",
       "      <td>957634</td>\n",
       "      <td>941907</td>\n",
       "      <td>719606</td>\n",
       "      <td>380097</td>\n",
       "    </tr>\n",
       "    <tr>\n",
       "      <th>...</th>\n",
       "      <td>...</td>\n",
       "      <td>...</td>\n",
       "      <td>...</td>\n",
       "      <td>...</td>\n",
       "      <td>...</td>\n",
       "      <td>...</td>\n",
       "      <td>...</td>\n",
       "      <td>...</td>\n",
       "      <td>...</td>\n",
       "      <td>...</td>\n",
       "      <td>...</td>\n",
       "      <td>...</td>\n",
       "      <td>...</td>\n",
       "      <td>...</td>\n",
       "      <td>...</td>\n",
       "      <td>...</td>\n",
       "      <td>...</td>\n",
       "      <td>...</td>\n",
       "      <td>...</td>\n",
       "      <td>...</td>\n",
       "    </tr>\n",
       "    <tr>\n",
       "      <th>215426</th>\n",
       "      <td>987327</td>\n",
       "      <td>469083</td>\n",
       "      <td>903891</td>\n",
       "      <td>190736</td>\n",
       "      <td>275444</td>\n",
       "      <td>457793</td>\n",
       "      <td>928731</td>\n",
       "      <td>941907</td>\n",
       "      <td>261207</td>\n",
       "      <td>632934</td>\n",
       "      <td>584181</td>\n",
       "      <td>378279</td>\n",
       "      <td>515608</td>\n",
       "      <td>941907</td>\n",
       "      <td>318310</td>\n",
       "      <td>648849</td>\n",
       "      <td>268688</td>\n",
       "      <td>941907</td>\n",
       "      <td>719606</td>\n",
       "      <td>199424</td>\n",
       "    </tr>\n",
       "    <tr>\n",
       "      <th>923734</th>\n",
       "      <td>240777</td>\n",
       "      <td>469083</td>\n",
       "      <td>903891</td>\n",
       "      <td>190736</td>\n",
       "      <td>244332</td>\n",
       "      <td>960589</td>\n",
       "      <td>928731</td>\n",
       "      <td>941907</td>\n",
       "      <td>903891</td>\n",
       "      <td>514278</td>\n",
       "      <td>584181</td>\n",
       "      <td>378279</td>\n",
       "      <td>318977</td>\n",
       "      <td>903891</td>\n",
       "      <td>283074</td>\n",
       "      <td>252307</td>\n",
       "      <td>569620</td>\n",
       "      <td>903891</td>\n",
       "      <td>719606</td>\n",
       "      <td>199424</td>\n",
       "    </tr>\n",
       "    <tr>\n",
       "      <th>867421</th>\n",
       "      <td>517150</td>\n",
       "      <td>469083</td>\n",
       "      <td>903891</td>\n",
       "      <td>157555</td>\n",
       "      <td>773403</td>\n",
       "      <td>598121</td>\n",
       "      <td>540635</td>\n",
       "      <td>941907</td>\n",
       "      <td>134812</td>\n",
       "      <td>863300</td>\n",
       "      <td>584181</td>\n",
       "      <td>378279</td>\n",
       "      <td>338298</td>\n",
       "      <td>903891</td>\n",
       "      <td>668266</td>\n",
       "      <td>153648</td>\n",
       "      <td>414379</td>\n",
       "      <td>261207</td>\n",
       "      <td>719606</td>\n",
       "      <td>282616</td>\n",
       "    </tr>\n",
       "    <tr>\n",
       "      <th>956041</th>\n",
       "      <td>133772</td>\n",
       "      <td>89850</td>\n",
       "      <td>903891</td>\n",
       "      <td>190736</td>\n",
       "      <td>636928</td>\n",
       "      <td>120308</td>\n",
       "      <td>928731</td>\n",
       "      <td>941907</td>\n",
       "      <td>134812</td>\n",
       "      <td>317613</td>\n",
       "      <td>584181</td>\n",
       "      <td>378279</td>\n",
       "      <td>337839</td>\n",
       "      <td>261207</td>\n",
       "      <td>58110</td>\n",
       "      <td>469271</td>\n",
       "      <td>47107</td>\n",
       "      <td>134812</td>\n",
       "      <td>719606</td>\n",
       "      <td>199424</td>\n",
       "    </tr>\n",
       "    <tr>\n",
       "      <th>173563</th>\n",
       "      <td>757043</td>\n",
       "      <td>469083</td>\n",
       "      <td>903891</td>\n",
       "      <td>190736</td>\n",
       "      <td>585270</td>\n",
       "      <td>32478</td>\n",
       "      <td>322250</td>\n",
       "      <td>941907</td>\n",
       "      <td>134812</td>\n",
       "      <td>332656</td>\n",
       "      <td>584181</td>\n",
       "      <td>378279</td>\n",
       "      <td>703839</td>\n",
       "      <td>903891</td>\n",
       "      <td>668266</td>\n",
       "      <td>663671</td>\n",
       "      <td>405133</td>\n",
       "      <td>941907</td>\n",
       "      <td>719606</td>\n",
       "      <td>199424</td>\n",
       "    </tr>\n",
       "    <tr>\n",
       "      <th>109456</th>\n",
       "      <td>941907</td>\n",
       "      <td>469083</td>\n",
       "      <td>903891</td>\n",
       "      <td>604470</td>\n",
       "      <td>773403</td>\n",
       "      <td>598121</td>\n",
       "      <td>540635</td>\n",
       "      <td>941907</td>\n",
       "      <td>903891</td>\n",
       "      <td>407587</td>\n",
       "      <td>584181</td>\n",
       "      <td>378279</td>\n",
       "      <td>896448</td>\n",
       "      <td>903891</td>\n",
       "      <td>668266</td>\n",
       "      <td>932701</td>\n",
       "      <td>405133</td>\n",
       "      <td>134812</td>\n",
       "      <td>700926</td>\n",
       "      <td>867922</td>\n",
       "    </tr>\n",
       "    <tr>\n",
       "      <th>663098</th>\n",
       "      <td>134812</td>\n",
       "      <td>469083</td>\n",
       "      <td>903891</td>\n",
       "      <td>190736</td>\n",
       "      <td>314685</td>\n",
       "      <td>32478</td>\n",
       "      <td>928731</td>\n",
       "      <td>941907</td>\n",
       "      <td>903891</td>\n",
       "      <td>722618</td>\n",
       "      <td>584181</td>\n",
       "      <td>378279</td>\n",
       "      <td>389313</td>\n",
       "      <td>903891</td>\n",
       "      <td>668266</td>\n",
       "      <td>932701</td>\n",
       "      <td>414379</td>\n",
       "      <td>941907</td>\n",
       "      <td>719606</td>\n",
       "      <td>199424</td>\n",
       "    </tr>\n",
       "    <tr>\n",
       "      <th>935228</th>\n",
       "      <td>802369</td>\n",
       "      <td>469083</td>\n",
       "      <td>903891</td>\n",
       "      <td>604470</td>\n",
       "      <td>773403</td>\n",
       "      <td>598121</td>\n",
       "      <td>540635</td>\n",
       "      <td>941907</td>\n",
       "      <td>903891</td>\n",
       "      <td>29429</td>\n",
       "      <td>584181</td>\n",
       "      <td>378279</td>\n",
       "      <td>389313</td>\n",
       "      <td>903891</td>\n",
       "      <td>668266</td>\n",
       "      <td>932701</td>\n",
       "      <td>414379</td>\n",
       "      <td>261207</td>\n",
       "      <td>623225</td>\n",
       "      <td>867922</td>\n",
       "    </tr>\n",
       "    <tr>\n",
       "      <th>190315</th>\n",
       "      <td>368639</td>\n",
       "      <td>469083</td>\n",
       "      <td>903891</td>\n",
       "      <td>604470</td>\n",
       "      <td>773403</td>\n",
       "      <td>598121</td>\n",
       "      <td>540635</td>\n",
       "      <td>941907</td>\n",
       "      <td>134812</td>\n",
       "      <td>722618</td>\n",
       "      <td>584181</td>\n",
       "      <td>378279</td>\n",
       "      <td>389313</td>\n",
       "      <td>903891</td>\n",
       "      <td>668266</td>\n",
       "      <td>932701</td>\n",
       "      <td>414379</td>\n",
       "      <td>261207</td>\n",
       "      <td>719606</td>\n",
       "      <td>867922</td>\n",
       "    </tr>\n",
       "    <tr>\n",
       "      <th>896228</th>\n",
       "      <td>196454</td>\n",
       "      <td>469083</td>\n",
       "      <td>903891</td>\n",
       "      <td>190736</td>\n",
       "      <td>724388</td>\n",
       "      <td>32478</td>\n",
       "      <td>928731</td>\n",
       "      <td>941907</td>\n",
       "      <td>903891</td>\n",
       "      <td>213423</td>\n",
       "      <td>584181</td>\n",
       "      <td>378279</td>\n",
       "      <td>106538</td>\n",
       "      <td>261207</td>\n",
       "      <td>604003</td>\n",
       "      <td>932701</td>\n",
       "      <td>196454</td>\n",
       "      <td>136140</td>\n",
       "      <td>719606</td>\n",
       "      <td>199424</td>\n",
       "    </tr>\n",
       "    <tr>\n",
       "      <th>878223</th>\n",
       "      <td>941907</td>\n",
       "      <td>469083</td>\n",
       "      <td>903891</td>\n",
       "      <td>348539</td>\n",
       "      <td>773403</td>\n",
       "      <td>598121</td>\n",
       "      <td>540635</td>\n",
       "      <td>941907</td>\n",
       "      <td>903891</td>\n",
       "      <td>48056</td>\n",
       "      <td>78774</td>\n",
       "      <td>455620</td>\n",
       "      <td>251613</td>\n",
       "      <td>134812</td>\n",
       "      <td>578261</td>\n",
       "      <td>932701</td>\n",
       "      <td>957634</td>\n",
       "      <td>714156</td>\n",
       "      <td>719606</td>\n",
       "      <td>214713</td>\n",
       "    </tr>\n",
       "    <tr>\n",
       "      <th>610584</th>\n",
       "      <td>261207</td>\n",
       "      <td>469083</td>\n",
       "      <td>903891</td>\n",
       "      <td>190736</td>\n",
       "      <td>153981</td>\n",
       "      <td>645505</td>\n",
       "      <td>928731</td>\n",
       "      <td>941907</td>\n",
       "      <td>903891</td>\n",
       "      <td>994386</td>\n",
       "      <td>584181</td>\n",
       "      <td>378279</td>\n",
       "      <td>524637</td>\n",
       "      <td>903891</td>\n",
       "      <td>668266</td>\n",
       "      <td>615857</td>\n",
       "      <td>405133</td>\n",
       "      <td>134812</td>\n",
       "      <td>719606</td>\n",
       "      <td>199424</td>\n",
       "    </tr>\n",
       "    <tr>\n",
       "      <th>109296</th>\n",
       "      <td>568286</td>\n",
       "      <td>309554</td>\n",
       "      <td>903891</td>\n",
       "      <td>190736</td>\n",
       "      <td>773403</td>\n",
       "      <td>598121</td>\n",
       "      <td>540635</td>\n",
       "      <td>903891</td>\n",
       "      <td>903891</td>\n",
       "      <td>290198</td>\n",
       "      <td>584181</td>\n",
       "      <td>378279</td>\n",
       "      <td>405173</td>\n",
       "      <td>261207</td>\n",
       "      <td>590954</td>\n",
       "      <td>75146</td>\n",
       "      <td>296701</td>\n",
       "      <td>941907</td>\n",
       "      <td>719606</td>\n",
       "      <td>133288</td>\n",
       "    </tr>\n",
       "    <tr>\n",
       "      <th>996337</th>\n",
       "      <td>196454</td>\n",
       "      <td>469083</td>\n",
       "      <td>941907</td>\n",
       "      <td>157555</td>\n",
       "      <td>773403</td>\n",
       "      <td>598121</td>\n",
       "      <td>540635</td>\n",
       "      <td>941907</td>\n",
       "      <td>903891</td>\n",
       "      <td>124517</td>\n",
       "      <td>584181</td>\n",
       "      <td>378279</td>\n",
       "      <td>177171</td>\n",
       "      <td>261207</td>\n",
       "      <td>905902</td>\n",
       "      <td>43400</td>\n",
       "      <td>757043</td>\n",
       "      <td>714156</td>\n",
       "      <td>719606</td>\n",
       "      <td>573274</td>\n",
       "    </tr>\n",
       "    <tr>\n",
       "      <th>443170</th>\n",
       "      <td>368639</td>\n",
       "      <td>469083</td>\n",
       "      <td>903891</td>\n",
       "      <td>190736</td>\n",
       "      <td>737340</td>\n",
       "      <td>930864</td>\n",
       "      <td>213626</td>\n",
       "      <td>941907</td>\n",
       "      <td>903891</td>\n",
       "      <td>890960</td>\n",
       "      <td>584181</td>\n",
       "      <td>378279</td>\n",
       "      <td>790657</td>\n",
       "      <td>261207</td>\n",
       "      <td>928070</td>\n",
       "      <td>276629</td>\n",
       "      <td>196454</td>\n",
       "      <td>261207</td>\n",
       "      <td>719606</td>\n",
       "      <td>199424</td>\n",
       "    </tr>\n",
       "    <tr>\n",
       "      <th>726542</th>\n",
       "      <td>757043</td>\n",
       "      <td>645197</td>\n",
       "      <td>941907</td>\n",
       "      <td>190736</td>\n",
       "      <td>356040</td>\n",
       "      <td>598121</td>\n",
       "      <td>928731</td>\n",
       "      <td>133772</td>\n",
       "      <td>903891</td>\n",
       "      <td>34222</td>\n",
       "      <td>584181</td>\n",
       "      <td>378279</td>\n",
       "      <td>19011</td>\n",
       "      <td>903891</td>\n",
       "      <td>575880</td>\n",
       "      <td>932701</td>\n",
       "      <td>915455</td>\n",
       "      <td>134812</td>\n",
       "      <td>719606</td>\n",
       "      <td>199424</td>\n",
       "    </tr>\n",
       "    <tr>\n",
       "      <th>630498</th>\n",
       "      <td>44288</td>\n",
       "      <td>469083</td>\n",
       "      <td>941907</td>\n",
       "      <td>157555</td>\n",
       "      <td>773403</td>\n",
       "      <td>598121</td>\n",
       "      <td>540635</td>\n",
       "      <td>941907</td>\n",
       "      <td>903891</td>\n",
       "      <td>703424</td>\n",
       "      <td>584181</td>\n",
       "      <td>378279</td>\n",
       "      <td>422928</td>\n",
       "      <td>903891</td>\n",
       "      <td>578261</td>\n",
       "      <td>910181</td>\n",
       "      <td>405133</td>\n",
       "      <td>941907</td>\n",
       "      <td>719606</td>\n",
       "      <td>837701</td>\n",
       "    </tr>\n",
       "    <tr>\n",
       "      <th>407106</th>\n",
       "      <td>609601</td>\n",
       "      <td>469083</td>\n",
       "      <td>903891</td>\n",
       "      <td>190736</td>\n",
       "      <td>737340</td>\n",
       "      <td>930864</td>\n",
       "      <td>213626</td>\n",
       "      <td>941907</td>\n",
       "      <td>903891</td>\n",
       "      <td>767226</td>\n",
       "      <td>584181</td>\n",
       "      <td>378279</td>\n",
       "      <td>426217</td>\n",
       "      <td>261207</td>\n",
       "      <td>905902</td>\n",
       "      <td>932701</td>\n",
       "      <td>757043</td>\n",
       "      <td>133772</td>\n",
       "      <td>719606</td>\n",
       "      <td>199424</td>\n",
       "    </tr>\n",
       "    <tr>\n",
       "      <th>806965</th>\n",
       "      <td>609601</td>\n",
       "      <td>469083</td>\n",
       "      <td>903891</td>\n",
       "      <td>369697</td>\n",
       "      <td>773403</td>\n",
       "      <td>598121</td>\n",
       "      <td>540635</td>\n",
       "      <td>941907</td>\n",
       "      <td>903891</td>\n",
       "      <td>799641</td>\n",
       "      <td>584181</td>\n",
       "      <td>378279</td>\n",
       "      <td>362994</td>\n",
       "      <td>261207</td>\n",
       "      <td>578261</td>\n",
       "      <td>932701</td>\n",
       "      <td>757043</td>\n",
       "      <td>133772</td>\n",
       "      <td>719606</td>\n",
       "      <td>960501</td>\n",
       "    </tr>\n",
       "    <tr>\n",
       "      <th>993122</th>\n",
       "      <td>977862</td>\n",
       "      <td>469083</td>\n",
       "      <td>903891</td>\n",
       "      <td>190736</td>\n",
       "      <td>275444</td>\n",
       "      <td>457793</td>\n",
       "      <td>928731</td>\n",
       "      <td>941907</td>\n",
       "      <td>261207</td>\n",
       "      <td>632934</td>\n",
       "      <td>584181</td>\n",
       "      <td>378279</td>\n",
       "      <td>515608</td>\n",
       "      <td>941907</td>\n",
       "      <td>318310</td>\n",
       "      <td>648849</td>\n",
       "      <td>268688</td>\n",
       "      <td>903891</td>\n",
       "      <td>719606</td>\n",
       "      <td>199424</td>\n",
       "    </tr>\n",
       "    <tr>\n",
       "      <th>931764</th>\n",
       "      <td>136140</td>\n",
       "      <td>469083</td>\n",
       "      <td>941907</td>\n",
       "      <td>157555</td>\n",
       "      <td>773403</td>\n",
       "      <td>598121</td>\n",
       "      <td>540635</td>\n",
       "      <td>941907</td>\n",
       "      <td>134812</td>\n",
       "      <td>333512</td>\n",
       "      <td>584181</td>\n",
       "      <td>378279</td>\n",
       "      <td>40450</td>\n",
       "      <td>134812</td>\n",
       "      <td>578261</td>\n",
       "      <td>276629</td>\n",
       "      <td>518078</td>\n",
       "      <td>903891</td>\n",
       "      <td>719606</td>\n",
       "      <td>967825</td>\n",
       "    </tr>\n",
       "    <tr>\n",
       "      <th>344414</th>\n",
       "      <td>134812</td>\n",
       "      <td>469083</td>\n",
       "      <td>903891</td>\n",
       "      <td>348539</td>\n",
       "      <td>773403</td>\n",
       "      <td>598121</td>\n",
       "      <td>540635</td>\n",
       "      <td>941907</td>\n",
       "      <td>903891</td>\n",
       "      <td>461101</td>\n",
       "      <td>78774</td>\n",
       "      <td>455620</td>\n",
       "      <td>456932</td>\n",
       "      <td>261207</td>\n",
       "      <td>578261</td>\n",
       "      <td>910181</td>\n",
       "      <td>757043</td>\n",
       "      <td>134812</td>\n",
       "      <td>719606</td>\n",
       "      <td>262181</td>\n",
       "    </tr>\n",
       "    <tr>\n",
       "      <th>718730</th>\n",
       "      <td>240777</td>\n",
       "      <td>645197</td>\n",
       "      <td>941907</td>\n",
       "      <td>190736</td>\n",
       "      <td>992567</td>\n",
       "      <td>598121</td>\n",
       "      <td>928731</td>\n",
       "      <td>136140</td>\n",
       "      <td>903891</td>\n",
       "      <td>34222</td>\n",
       "      <td>584181</td>\n",
       "      <td>378279</td>\n",
       "      <td>19011</td>\n",
       "      <td>903891</td>\n",
       "      <td>575880</td>\n",
       "      <td>21569</td>\n",
       "      <td>915455</td>\n",
       "      <td>134812</td>\n",
       "      <td>719606</td>\n",
       "      <td>199424</td>\n",
       "    </tr>\n",
       "    <tr>\n",
       "      <th>212912</th>\n",
       "      <td>327813</td>\n",
       "      <td>469083</td>\n",
       "      <td>903891</td>\n",
       "      <td>190736</td>\n",
       "      <td>24373</td>\n",
       "      <td>457793</td>\n",
       "      <td>213626</td>\n",
       "      <td>941907</td>\n",
       "      <td>903891</td>\n",
       "      <td>263982</td>\n",
       "      <td>584181</td>\n",
       "      <td>378279</td>\n",
       "      <td>644433</td>\n",
       "      <td>903891</td>\n",
       "      <td>957634</td>\n",
       "      <td>587089</td>\n",
       "      <td>946240</td>\n",
       "      <td>261207</td>\n",
       "      <td>719606</td>\n",
       "      <td>199424</td>\n",
       "    </tr>\n",
       "    <tr>\n",
       "      <th>65615</th>\n",
       "      <td>714156</td>\n",
       "      <td>469083</td>\n",
       "      <td>941907</td>\n",
       "      <td>157555</td>\n",
       "      <td>773403</td>\n",
       "      <td>598121</td>\n",
       "      <td>540635</td>\n",
       "      <td>941907</td>\n",
       "      <td>903891</td>\n",
       "      <td>832703</td>\n",
       "      <td>584181</td>\n",
       "      <td>378279</td>\n",
       "      <td>584311</td>\n",
       "      <td>903891</td>\n",
       "      <td>933942</td>\n",
       "      <td>932701</td>\n",
       "      <td>839870</td>\n",
       "      <td>133772</td>\n",
       "      <td>719606</td>\n",
       "      <td>259641</td>\n",
       "    </tr>\n",
       "    <tr>\n",
       "      <th>864087</th>\n",
       "      <td>240777</td>\n",
       "      <td>469083</td>\n",
       "      <td>941907</td>\n",
       "      <td>604470</td>\n",
       "      <td>773403</td>\n",
       "      <td>598121</td>\n",
       "      <td>540635</td>\n",
       "      <td>941907</td>\n",
       "      <td>903891</td>\n",
       "      <td>722618</td>\n",
       "      <td>584181</td>\n",
       "      <td>378279</td>\n",
       "      <td>389313</td>\n",
       "      <td>903891</td>\n",
       "      <td>668266</td>\n",
       "      <td>932701</td>\n",
       "      <td>414379</td>\n",
       "      <td>261207</td>\n",
       "      <td>719606</td>\n",
       "      <td>939751</td>\n",
       "    </tr>\n",
       "    <tr>\n",
       "      <th>778087</th>\n",
       "      <td>158456</td>\n",
       "      <td>469083</td>\n",
       "      <td>903891</td>\n",
       "      <td>190736</td>\n",
       "      <td>955885</td>\n",
       "      <td>32478</td>\n",
       "      <td>928731</td>\n",
       "      <td>941907</td>\n",
       "      <td>903891</td>\n",
       "      <td>403745</td>\n",
       "      <td>584181</td>\n",
       "      <td>378279</td>\n",
       "      <td>524637</td>\n",
       "      <td>903891</td>\n",
       "      <td>668266</td>\n",
       "      <td>104393</td>\n",
       "      <td>405133</td>\n",
       "      <td>941907</td>\n",
       "      <td>719606</td>\n",
       "      <td>199424</td>\n",
       "    </tr>\n",
       "    <tr>\n",
       "      <th>210755</th>\n",
       "      <td>977862</td>\n",
       "      <td>469083</td>\n",
       "      <td>903891</td>\n",
       "      <td>157555</td>\n",
       "      <td>773403</td>\n",
       "      <td>598121</td>\n",
       "      <td>540635</td>\n",
       "      <td>941907</td>\n",
       "      <td>903891</td>\n",
       "      <td>376767</td>\n",
       "      <td>584181</td>\n",
       "      <td>378279</td>\n",
       "      <td>771913</td>\n",
       "      <td>903891</td>\n",
       "      <td>578261</td>\n",
       "      <td>932701</td>\n",
       "      <td>313311</td>\n",
       "      <td>134812</td>\n",
       "      <td>719606</td>\n",
       "      <td>267008</td>\n",
       "    </tr>\n",
       "    <tr>\n",
       "      <th>56088</th>\n",
       "      <td>517150</td>\n",
       "      <td>469083</td>\n",
       "      <td>941907</td>\n",
       "      <td>348539</td>\n",
       "      <td>773403</td>\n",
       "      <td>598121</td>\n",
       "      <td>540635</td>\n",
       "      <td>941907</td>\n",
       "      <td>903891</td>\n",
       "      <td>98505</td>\n",
       "      <td>584181</td>\n",
       "      <td>378279</td>\n",
       "      <td>912866</td>\n",
       "      <td>903891</td>\n",
       "      <td>668266</td>\n",
       "      <td>392640</td>\n",
       "      <td>405133</td>\n",
       "      <td>134812</td>\n",
       "      <td>719606</td>\n",
       "      <td>311392</td>\n",
       "    </tr>\n",
       "    <tr>\n",
       "      <th>824840</th>\n",
       "      <td>714156</td>\n",
       "      <td>469083</td>\n",
       "      <td>903891</td>\n",
       "      <td>604470</td>\n",
       "      <td>773403</td>\n",
       "      <td>598121</td>\n",
       "      <td>540635</td>\n",
       "      <td>941907</td>\n",
       "      <td>903891</td>\n",
       "      <td>68320</td>\n",
       "      <td>584181</td>\n",
       "      <td>378279</td>\n",
       "      <td>389313</td>\n",
       "      <td>903891</td>\n",
       "      <td>668266</td>\n",
       "      <td>652113</td>\n",
       "      <td>414379</td>\n",
       "      <td>941907</td>\n",
       "      <td>719606</td>\n",
       "      <td>867922</td>\n",
       "    </tr>\n",
       "  </tbody>\n",
       "</table>\n",
       "<p>900000 rows × 20 columns</p>\n",
       "</div>"
      ],
      "text/plain": [
       "          hour      C1  banner_pos  site_category  app_id  app_domain  \\\n",
       "92438    44288  645197      941907         190736  837441      598121   \n",
       "60898   327813  469083      903891         190736   76917       32478   \n",
       "556199  133772  469083      903891         157555  773403      598121   \n",
       "193129  158456  469083      941907         157555  773403      598121   \n",
       "231985  568286  469083      903891         604470  773403      598121   \n",
       "235945  261207  469083      941907         157555  773403      598121   \n",
       "622676  609601  469083      903891         604470  773403      598121   \n",
       "426950  987327  469083      903891         348539  773403      598121   \n",
       "115855  941907  469083      941907         157555  773403      598121   \n",
       "594467  977862  469083      903891         604470  773403      598121   \n",
       "588842  240777  469083      903891         190736  585270       32478   \n",
       "418668  327813  469083      903891         190736  275444      457793   \n",
       "235283  133772  469083      903891         190736  339190       32478   \n",
       "664370  987327  469083      941907         157555  773403      598121   \n",
       "379858  136140  469083      903891         157555  773403      598121   \n",
       "943479  802369  469083      903891         604470  773403      598121   \n",
       "357318  158456  469083      903891         190736  758913      990569   \n",
       "618206  977862  469083      941907         157555  773403      598121   \n",
       "218154  977862  469083      903891         604470  773403      598121   \n",
       "383144  539499  469083      941907         157555  773403      598121   \n",
       "589729  158456  469083      903891         190736  174628      960589   \n",
       "1867    568286  469083      903891         190736  141908      724173   \n",
       "223984  261207  469083      903891         604470  773403      598121   \n",
       "297246  568286  469083      903891         157555  773403      598121   \n",
       "726814  987327  469083      941907         157555  773403      598121   \n",
       "640745  240777  469083      941907         157555  773403      598121   \n",
       "819085  802369  469083      903891         190736  275444      457793   \n",
       "18831   133772  469083      903891         190736  278762      143545   \n",
       "920255  568286  469083      941907         157555  773403      598121   \n",
       "564162  609601  469083      941907         157555  773403      598121   \n",
       "...        ...     ...         ...            ...     ...         ...   \n",
       "215426  987327  469083      903891         190736  275444      457793   \n",
       "923734  240777  469083      903891         190736  244332      960589   \n",
       "867421  517150  469083      903891         157555  773403      598121   \n",
       "956041  133772   89850      903891         190736  636928      120308   \n",
       "173563  757043  469083      903891         190736  585270       32478   \n",
       "109456  941907  469083      903891         604470  773403      598121   \n",
       "663098  134812  469083      903891         190736  314685       32478   \n",
       "935228  802369  469083      903891         604470  773403      598121   \n",
       "190315  368639  469083      903891         604470  773403      598121   \n",
       "896228  196454  469083      903891         190736  724388       32478   \n",
       "878223  941907  469083      903891         348539  773403      598121   \n",
       "610584  261207  469083      903891         190736  153981      645505   \n",
       "109296  568286  309554      903891         190736  773403      598121   \n",
       "996337  196454  469083      941907         157555  773403      598121   \n",
       "443170  368639  469083      903891         190736  737340      930864   \n",
       "726542  757043  645197      941907         190736  356040      598121   \n",
       "630498   44288  469083      941907         157555  773403      598121   \n",
       "407106  609601  469083      903891         190736  737340      930864   \n",
       "806965  609601  469083      903891         369697  773403      598121   \n",
       "993122  977862  469083      903891         190736  275444      457793   \n",
       "931764  136140  469083      941907         157555  773403      598121   \n",
       "344414  134812  469083      903891         348539  773403      598121   \n",
       "718730  240777  645197      941907         190736  992567      598121   \n",
       "212912  327813  469083      903891         190736   24373      457793   \n",
       "65615   714156  469083      941907         157555  773403      598121   \n",
       "864087  240777  469083      941907         604470  773403      598121   \n",
       "778087  158456  469083      903891         190736  955885       32478   \n",
       "210755  977862  469083      903891         157555  773403      598121   \n",
       "56088   517150  469083      941907         348539  773403      598121   \n",
       "824840  714156  469083      903891         604470  773403      598121   \n",
       "\n",
       "        app_category  device_type  device_conn_type     C14     C15     C16  \\\n",
       "92438         928731       133772            261207   68320  584181  378279   \n",
       "60898         518219       941907            134812   68320  584181  378279   \n",
       "556199        540635       941907            134812  923418  584181  378279   \n",
       "193129        540635       941907            903891  968396  584181  378279   \n",
       "231985        540635       941907            903891  649118  584181  378279   \n",
       "235945        540635       941907            903891  509437  584181  378279   \n",
       "622676        540635       941907            903891  674754  584181  378279   \n",
       "426950        540635       941907            903891  124517  584181  378279   \n",
       "115855        540635       941907            903891  989866  584181  378279   \n",
       "594467        540635       941907            903891  649118  584181  378279   \n",
       "588842        322250       941907            903891  957941  584181  378279   \n",
       "418668        928731       941907            261207  632934  584181  378279   \n",
       "235283        322250       941907            903891  503244  584181  378279   \n",
       "664370        540635       941907            903891  333512  584181  378279   \n",
       "379858        540635       941907            903891  267313  584181  378279   \n",
       "943479        540635       941907            903891  800633  584181  378279   \n",
       "357318        941370       941907            903891  270132  584181  378279   \n",
       "618206        540635       941907            903891  319836  584181  378279   \n",
       "218154        540635       941907            903891  592278  584181  378279   \n",
       "383144        540635       941907            903891  797690  584181  378279   \n",
       "589729        928731       941907            903891  263982  584181  378279   \n",
       "1867          213626       941907            903891  750053  584181  378279   \n",
       "223984        540635       941907            903891  592278  584181  378279   \n",
       "297246        540635       941907            903891  348659  584181  378279   \n",
       "726814        540635       941907            903891  155297  584181  378279   \n",
       "640745        540635       941907            903891  820679  584181  378279   \n",
       "819085        928731       941907            261207  158542  584181  378279   \n",
       "18831         928731       941907            903891  269471  584181  378279   \n",
       "920255        540635       941907            903891  331630  584181  378279   \n",
       "564162        540635       941907            134812  495374  584181  378279   \n",
       "...              ...          ...               ...     ...     ...     ...   \n",
       "215426        928731       941907            261207  632934  584181  378279   \n",
       "923734        928731       941907            903891  514278  584181  378279   \n",
       "867421        540635       941907            134812  863300  584181  378279   \n",
       "956041        928731       941907            134812  317613  584181  378279   \n",
       "173563        322250       941907            134812  332656  584181  378279   \n",
       "109456        540635       941907            903891  407587  584181  378279   \n",
       "663098        928731       941907            903891  722618  584181  378279   \n",
       "935228        540635       941907            903891   29429  584181  378279   \n",
       "190315        540635       941907            134812  722618  584181  378279   \n",
       "896228        928731       941907            903891  213423  584181  378279   \n",
       "878223        540635       941907            903891   48056   78774  455620   \n",
       "610584        928731       941907            903891  994386  584181  378279   \n",
       "109296        540635       903891            903891  290198  584181  378279   \n",
       "996337        540635       941907            903891  124517  584181  378279   \n",
       "443170        213626       941907            903891  890960  584181  378279   \n",
       "726542        928731       133772            903891   34222  584181  378279   \n",
       "630498        540635       941907            903891  703424  584181  378279   \n",
       "407106        213626       941907            903891  767226  584181  378279   \n",
       "806965        540635       941907            903891  799641  584181  378279   \n",
       "993122        928731       941907            261207  632934  584181  378279   \n",
       "931764        540635       941907            134812  333512  584181  378279   \n",
       "344414        540635       941907            903891  461101   78774  455620   \n",
       "718730        928731       136140            903891   34222  584181  378279   \n",
       "212912        213626       941907            903891  263982  584181  378279   \n",
       "65615         540635       941907            903891  832703  584181  378279   \n",
       "864087        540635       941907            903891  722618  584181  378279   \n",
       "778087        928731       941907            903891  403745  584181  378279   \n",
       "210755        540635       941907            903891  376767  584181  378279   \n",
       "56088         540635       941907            903891   98505  584181  378279   \n",
       "824840        540635       941907            903891   68320  584181  378279   \n",
       "\n",
       "           C17     C18     C19     C20     C21  weekday    user    site  \n",
       "92438   389313  903891  668266  932701  414379   903891  719606  199424  \n",
       "60898   389313  903891  668266  932701  414379   941907  719606  199424  \n",
       "556199  446638  903891  259803  932701  665514   903891  719606  234351  \n",
       "193129  211159  903891  244406  392640  839870   941907  719606  837701  \n",
       "231985  389313  903891  668266  652113  414379   714156  719606  867922  \n",
       "235945  929015  134812  186166  932701  957634   133772  719606  380097  \n",
       "622676  389313  903891  668266  652113  414379   134812  719606  867922  \n",
       "426950  177171  261207  905902  392640  757043   136140  719606  134838  \n",
       "115855  422928  903891  578261  932701  405133   134812  719606  234182  \n",
       "594467  389313  903891  668266  652113  414379   903891  719606  867922  \n",
       "588842  860102  261207   58110  248124   47107   903891  719606  199424  \n",
       "418668  515608  941907  318310  875956  268688   941907  719606  199424  \n",
       "235283  864537  941907  309682  932701  376205   941907  719606  199424  \n",
       "664370   40450  134812  578261  932701  518078   136140  719606  967825  \n",
       "379858  256317  261207  843136   98502  915455   261207  173969  894576  \n",
       "943479  151710  134812  668266  932701  518078   261207  719606  867922  \n",
       "357318  273744  261207  590954   98502  915455   133772  690107  199424  \n",
       "618206  100588  261207  578261  932701  757043   941907  719606  967825  \n",
       "218154    3230  134812  928070  932701   89115   941907  719606  867922  \n",
       "383144  522943  261207  578261  932701  757043   941907  719606  259641  \n",
       "589729  644433  903891  957634  932701  946240   261207  386612  199424  \n",
       "1867    652935  903891  668266  932701  313311   134812  719606  199424  \n",
       "223984    3230  134812  604003  983966   89115   133772  719606  867922  \n",
       "297246  867688  261207  578261  932701  757043   714156  719606  380097  \n",
       "726814  371962  261207  578261  932701  757043   261207  719606  716074  \n",
       "640745  422928  903891  578261  791064  405133   941907  719606  837701  \n",
       "819085  515608  941907  318310  875956  268688   133772  719606  199424  \n",
       "18831   842645  261207  724151  454657  996529   261207  719606  199424  \n",
       "920255  183697  134812  578261  276629  757043   261207  719606  967825  \n",
       "564162  929015  134812  186166  652113  957634   941907  719606  380097  \n",
       "...        ...     ...     ...     ...     ...      ...     ...     ...  \n",
       "215426  515608  941907  318310  648849  268688   941907  719606  199424  \n",
       "923734  318977  903891  283074  252307  569620   903891  719606  199424  \n",
       "867421  338298  903891  668266  153648  414379   261207  719606  282616  \n",
       "956041  337839  261207   58110  469271   47107   134812  719606  199424  \n",
       "173563  703839  903891  668266  663671  405133   941907  719606  199424  \n",
       "109456  896448  903891  668266  932701  405133   134812  700926  867922  \n",
       "663098  389313  903891  668266  932701  414379   941907  719606  199424  \n",
       "935228  389313  903891  668266  932701  414379   261207  623225  867922  \n",
       "190315  389313  903891  668266  932701  414379   261207  719606  867922  \n",
       "896228  106538  261207  604003  932701  196454   136140  719606  199424  \n",
       "878223  251613  134812  578261  932701  957634   714156  719606  214713  \n",
       "610584  524637  903891  668266  615857  405133   134812  719606  199424  \n",
       "109296  405173  261207  590954   75146  296701   941907  719606  133288  \n",
       "996337  177171  261207  905902   43400  757043   714156  719606  573274  \n",
       "443170  790657  261207  928070  276629  196454   261207  719606  199424  \n",
       "726542   19011  903891  575880  932701  915455   134812  719606  199424  \n",
       "630498  422928  903891  578261  910181  405133   941907  719606  837701  \n",
       "407106  426217  261207  905902  932701  757043   133772  719606  199424  \n",
       "806965  362994  261207  578261  932701  757043   133772  719606  960501  \n",
       "993122  515608  941907  318310  648849  268688   903891  719606  199424  \n",
       "931764   40450  134812  578261  276629  518078   903891  719606  967825  \n",
       "344414  456932  261207  578261  910181  757043   134812  719606  262181  \n",
       "718730   19011  903891  575880   21569  915455   134812  719606  199424  \n",
       "212912  644433  903891  957634  587089  946240   261207  719606  199424  \n",
       "65615   584311  903891  933942  932701  839870   133772  719606  259641  \n",
       "864087  389313  903891  668266  932701  414379   261207  719606  939751  \n",
       "778087  524637  903891  668266  104393  405133   941907  719606  199424  \n",
       "210755  771913  903891  578261  932701  313311   134812  719606  267008  \n",
       "56088   912866  903891  668266  392640  405133   134812  719606  311392  \n",
       "824840  389313  903891  668266  652113  414379   941907  719606  867922  \n",
       "\n",
       "[900000 rows x 20 columns]"
      ]
     },
     "execution_count": 101,
     "metadata": {},
     "output_type": "execute_result"
    }
   ],
   "source": [
    "Xtrain_ha"
   ]
  },
  {
   "cell_type": "code",
   "execution_count": 102,
   "metadata": {
    "ExecuteTime": {
     "end_time": "2019-01-05T18:43:56.152628Z",
     "start_time": "2019-01-05T18:43:56.091401Z"
    }
   },
   "outputs": [
    {
     "data": {
      "text/html": [
       "<div>\n",
       "<style scoped>\n",
       "    .dataframe tbody tr th:only-of-type {\n",
       "        vertical-align: middle;\n",
       "    }\n",
       "\n",
       "    .dataframe tbody tr th {\n",
       "        vertical-align: top;\n",
       "    }\n",
       "\n",
       "    .dataframe thead th {\n",
       "        text-align: right;\n",
       "    }\n",
       "</style>\n",
       "<table border=\"1\" class=\"dataframe\">\n",
       "  <thead>\n",
       "    <tr style=\"text-align: right;\">\n",
       "      <th></th>\n",
       "      <th>hour</th>\n",
       "      <th>C1</th>\n",
       "      <th>banner_pos</th>\n",
       "      <th>site_category</th>\n",
       "      <th>app_id</th>\n",
       "      <th>app_domain</th>\n",
       "      <th>app_category</th>\n",
       "      <th>device_type</th>\n",
       "      <th>device_conn_type</th>\n",
       "      <th>C14</th>\n",
       "      <th>C15</th>\n",
       "      <th>C16</th>\n",
       "      <th>C17</th>\n",
       "      <th>C18</th>\n",
       "      <th>C19</th>\n",
       "      <th>C20</th>\n",
       "      <th>C21</th>\n",
       "      <th>weekday</th>\n",
       "      <th>user</th>\n",
       "      <th>site</th>\n",
       "    </tr>\n",
       "  </thead>\n",
       "  <tbody>\n",
       "    <tr>\n",
       "      <th>617759</th>\n",
       "      <td>714156</td>\n",
       "      <td>469083</td>\n",
       "      <td>941907</td>\n",
       "      <td>157555</td>\n",
       "      <td>773403</td>\n",
       "      <td>598121</td>\n",
       "      <td>540635</td>\n",
       "      <td>941907</td>\n",
       "      <td>903891</td>\n",
       "      <td>333512</td>\n",
       "      <td>584181</td>\n",
       "      <td>378279</td>\n",
       "      <td>40450</td>\n",
       "      <td>134812</td>\n",
       "      <td>578261</td>\n",
       "      <td>932701</td>\n",
       "      <td>518078</td>\n",
       "      <td>261207</td>\n",
       "      <td>719606</td>\n",
       "      <td>967825</td>\n",
       "    </tr>\n",
       "    <tr>\n",
       "      <th>693227</th>\n",
       "      <td>44288</td>\n",
       "      <td>469083</td>\n",
       "      <td>903891</td>\n",
       "      <td>604470</td>\n",
       "      <td>773403</td>\n",
       "      <td>598121</td>\n",
       "      <td>540635</td>\n",
       "      <td>941907</td>\n",
       "      <td>903891</td>\n",
       "      <td>607000</td>\n",
       "      <td>584181</td>\n",
       "      <td>378279</td>\n",
       "      <td>303126</td>\n",
       "      <td>134812</td>\n",
       "      <td>726020</td>\n",
       "      <td>989498</td>\n",
       "      <td>89115</td>\n",
       "      <td>134812</td>\n",
       "      <td>719606</td>\n",
       "      <td>34346</td>\n",
       "    </tr>\n",
       "    <tr>\n",
       "      <th>906065</th>\n",
       "      <td>609601</td>\n",
       "      <td>469083</td>\n",
       "      <td>941907</td>\n",
       "      <td>157555</td>\n",
       "      <td>773403</td>\n",
       "      <td>598121</td>\n",
       "      <td>540635</td>\n",
       "      <td>941907</td>\n",
       "      <td>903891</td>\n",
       "      <td>947691</td>\n",
       "      <td>584181</td>\n",
       "      <td>378279</td>\n",
       "      <td>60423</td>\n",
       "      <td>261207</td>\n",
       "      <td>668266</td>\n",
       "      <td>98502</td>\n",
       "      <td>568286</td>\n",
       "      <td>136140</td>\n",
       "      <td>719606</td>\n",
       "      <td>837701</td>\n",
       "    </tr>\n",
       "    <tr>\n",
       "      <th>828507</th>\n",
       "      <td>714156</td>\n",
       "      <td>469083</td>\n",
       "      <td>903891</td>\n",
       "      <td>190736</td>\n",
       "      <td>685072</td>\n",
       "      <td>32478</td>\n",
       "      <td>928731</td>\n",
       "      <td>941907</td>\n",
       "      <td>903891</td>\n",
       "      <td>269471</td>\n",
       "      <td>584181</td>\n",
       "      <td>378279</td>\n",
       "      <td>842645</td>\n",
       "      <td>261207</td>\n",
       "      <td>724151</td>\n",
       "      <td>311712</td>\n",
       "      <td>996529</td>\n",
       "      <td>261207</td>\n",
       "      <td>719606</td>\n",
       "      <td>199424</td>\n",
       "    </tr>\n",
       "    <tr>\n",
       "      <th>869730</th>\n",
       "      <td>44288</td>\n",
       "      <td>309554</td>\n",
       "      <td>903891</td>\n",
       "      <td>190736</td>\n",
       "      <td>773403</td>\n",
       "      <td>598121</td>\n",
       "      <td>540635</td>\n",
       "      <td>903891</td>\n",
       "      <td>903891</td>\n",
       "      <td>978560</td>\n",
       "      <td>584181</td>\n",
       "      <td>378279</td>\n",
       "      <td>741870</td>\n",
       "      <td>134812</td>\n",
       "      <td>578261</td>\n",
       "      <td>932701</td>\n",
       "      <td>518078</td>\n",
       "      <td>134812</td>\n",
       "      <td>719606</td>\n",
       "      <td>421699</td>\n",
       "    </tr>\n",
       "    <tr>\n",
       "      <th>147081</th>\n",
       "      <td>609601</td>\n",
       "      <td>469083</td>\n",
       "      <td>941907</td>\n",
       "      <td>157555</td>\n",
       "      <td>773403</td>\n",
       "      <td>598121</td>\n",
       "      <td>540635</td>\n",
       "      <td>941907</td>\n",
       "      <td>903891</td>\n",
       "      <td>731118</td>\n",
       "      <td>584181</td>\n",
       "      <td>378279</td>\n",
       "      <td>707477</td>\n",
       "      <td>261207</td>\n",
       "      <td>842317</td>\n",
       "      <td>921308</td>\n",
       "      <td>12011</td>\n",
       "      <td>714156</td>\n",
       "      <td>719606</td>\n",
       "      <td>459000</td>\n",
       "    </tr>\n",
       "    <tr>\n",
       "      <th>779428</th>\n",
       "      <td>987327</td>\n",
       "      <td>469083</td>\n",
       "      <td>903891</td>\n",
       "      <td>190736</td>\n",
       "      <td>153981</td>\n",
       "      <td>645505</td>\n",
       "      <td>928731</td>\n",
       "      <td>941907</td>\n",
       "      <td>134812</td>\n",
       "      <td>750053</td>\n",
       "      <td>584181</td>\n",
       "      <td>378279</td>\n",
       "      <td>652935</td>\n",
       "      <td>903891</td>\n",
       "      <td>668266</td>\n",
       "      <td>932701</td>\n",
       "      <td>313311</td>\n",
       "      <td>134812</td>\n",
       "      <td>719606</td>\n",
       "      <td>199424</td>\n",
       "    </tr>\n",
       "    <tr>\n",
       "      <th>485973</th>\n",
       "      <td>136140</td>\n",
       "      <td>469083</td>\n",
       "      <td>903891</td>\n",
       "      <td>157555</td>\n",
       "      <td>773403</td>\n",
       "      <td>598121</td>\n",
       "      <td>540635</td>\n",
       "      <td>941907</td>\n",
       "      <td>903891</td>\n",
       "      <td>477462</td>\n",
       "      <td>584181</td>\n",
       "      <td>378279</td>\n",
       "      <td>703839</td>\n",
       "      <td>903891</td>\n",
       "      <td>668266</td>\n",
       "      <td>6427</td>\n",
       "      <td>405133</td>\n",
       "      <td>134812</td>\n",
       "      <td>719606</td>\n",
       "      <td>894576</td>\n",
       "    </tr>\n",
       "    <tr>\n",
       "      <th>30697</th>\n",
       "      <td>731720</td>\n",
       "      <td>469083</td>\n",
       "      <td>941907</td>\n",
       "      <td>157555</td>\n",
       "      <td>773403</td>\n",
       "      <td>598121</td>\n",
       "      <td>540635</td>\n",
       "      <td>941907</td>\n",
       "      <td>903891</td>\n",
       "      <td>172967</td>\n",
       "      <td>584181</td>\n",
       "      <td>378279</td>\n",
       "      <td>707477</td>\n",
       "      <td>261207</td>\n",
       "      <td>842317</td>\n",
       "      <td>921308</td>\n",
       "      <td>12011</td>\n",
       "      <td>714156</td>\n",
       "      <td>719606</td>\n",
       "      <td>967825</td>\n",
       "    </tr>\n",
       "    <tr>\n",
       "      <th>306669</th>\n",
       "      <td>44288</td>\n",
       "      <td>469083</td>\n",
       "      <td>903891</td>\n",
       "      <td>190736</td>\n",
       "      <td>918674</td>\n",
       "      <td>32478</td>\n",
       "      <td>213626</td>\n",
       "      <td>941907</td>\n",
       "      <td>134812</td>\n",
       "      <td>445294</td>\n",
       "      <td>584181</td>\n",
       "      <td>378279</td>\n",
       "      <td>100045</td>\n",
       "      <td>903891</td>\n",
       "      <td>933942</td>\n",
       "      <td>706920</td>\n",
       "      <td>839870</td>\n",
       "      <td>261207</td>\n",
       "      <td>719606</td>\n",
       "      <td>199424</td>\n",
       "    </tr>\n",
       "    <tr>\n",
       "      <th>800205</th>\n",
       "      <td>517150</td>\n",
       "      <td>469083</td>\n",
       "      <td>903891</td>\n",
       "      <td>190736</td>\n",
       "      <td>314685</td>\n",
       "      <td>32478</td>\n",
       "      <td>928731</td>\n",
       "      <td>941907</td>\n",
       "      <td>903891</td>\n",
       "      <td>250906</td>\n",
       "      <td>584181</td>\n",
       "      <td>378279</td>\n",
       "      <td>389313</td>\n",
       "      <td>903891</td>\n",
       "      <td>668266</td>\n",
       "      <td>652113</td>\n",
       "      <td>414379</td>\n",
       "      <td>261207</td>\n",
       "      <td>719606</td>\n",
       "      <td>199424</td>\n",
       "    </tr>\n",
       "    <tr>\n",
       "      <th>654773</th>\n",
       "      <td>609601</td>\n",
       "      <td>469083</td>\n",
       "      <td>903891</td>\n",
       "      <td>190736</td>\n",
       "      <td>315439</td>\n",
       "      <td>32478</td>\n",
       "      <td>312612</td>\n",
       "      <td>941907</td>\n",
       "      <td>134812</td>\n",
       "      <td>545535</td>\n",
       "      <td>584181</td>\n",
       "      <td>378279</td>\n",
       "      <td>497264</td>\n",
       "      <td>903891</td>\n",
       "      <td>362221</td>\n",
       "      <td>932701</td>\n",
       "      <td>405133</td>\n",
       "      <td>261207</td>\n",
       "      <td>719606</td>\n",
       "      <td>199424</td>\n",
       "    </tr>\n",
       "    <tr>\n",
       "      <th>251217</th>\n",
       "      <td>539499</td>\n",
       "      <td>469083</td>\n",
       "      <td>903891</td>\n",
       "      <td>604470</td>\n",
       "      <td>773403</td>\n",
       "      <td>598121</td>\n",
       "      <td>540635</td>\n",
       "      <td>941907</td>\n",
       "      <td>903891</td>\n",
       "      <td>141145</td>\n",
       "      <td>584181</td>\n",
       "      <td>378279</td>\n",
       "      <td>706789</td>\n",
       "      <td>903891</td>\n",
       "      <td>905902</td>\n",
       "      <td>652113</td>\n",
       "      <td>405133</td>\n",
       "      <td>941907</td>\n",
       "      <td>719606</td>\n",
       "      <td>867922</td>\n",
       "    </tr>\n",
       "    <tr>\n",
       "      <th>576951</th>\n",
       "      <td>757043</td>\n",
       "      <td>469083</td>\n",
       "      <td>903891</td>\n",
       "      <td>604470</td>\n",
       "      <td>773403</td>\n",
       "      <td>598121</td>\n",
       "      <td>540635</td>\n",
       "      <td>941907</td>\n",
       "      <td>903891</td>\n",
       "      <td>850103</td>\n",
       "      <td>78774</td>\n",
       "      <td>455620</td>\n",
       "      <td>522943</td>\n",
       "      <td>261207</td>\n",
       "      <td>578261</td>\n",
       "      <td>311712</td>\n",
       "      <td>757043</td>\n",
       "      <td>941907</td>\n",
       "      <td>719606</td>\n",
       "      <td>813381</td>\n",
       "    </tr>\n",
       "    <tr>\n",
       "      <th>104218</th>\n",
       "      <td>802369</td>\n",
       "      <td>469083</td>\n",
       "      <td>941907</td>\n",
       "      <td>157555</td>\n",
       "      <td>773403</td>\n",
       "      <td>598121</td>\n",
       "      <td>540635</td>\n",
       "      <td>941907</td>\n",
       "      <td>903891</td>\n",
       "      <td>165610</td>\n",
       "      <td>584181</td>\n",
       "      <td>378279</td>\n",
       "      <td>458838</td>\n",
       "      <td>134812</td>\n",
       "      <td>578261</td>\n",
       "      <td>60159</td>\n",
       "      <td>568286</td>\n",
       "      <td>136140</td>\n",
       "      <td>719606</td>\n",
       "      <td>695776</td>\n",
       "    </tr>\n",
       "    <tr>\n",
       "      <th>509042</th>\n",
       "      <td>240777</td>\n",
       "      <td>469083</td>\n",
       "      <td>941907</td>\n",
       "      <td>157555</td>\n",
       "      <td>773403</td>\n",
       "      <td>598121</td>\n",
       "      <td>540635</td>\n",
       "      <td>941907</td>\n",
       "      <td>903891</td>\n",
       "      <td>933744</td>\n",
       "      <td>584181</td>\n",
       "      <td>378279</td>\n",
       "      <td>390711</td>\n",
       "      <td>261207</td>\n",
       "      <td>49548</td>\n",
       "      <td>98502</td>\n",
       "      <td>47107</td>\n",
       "      <td>134812</td>\n",
       "      <td>280156</td>\n",
       "      <td>459000</td>\n",
       "    </tr>\n",
       "    <tr>\n",
       "      <th>65650</th>\n",
       "      <td>44288</td>\n",
       "      <td>469083</td>\n",
       "      <td>903891</td>\n",
       "      <td>604470</td>\n",
       "      <td>773403</td>\n",
       "      <td>598121</td>\n",
       "      <td>540635</td>\n",
       "      <td>941907</td>\n",
       "      <td>134812</td>\n",
       "      <td>474022</td>\n",
       "      <td>584181</td>\n",
       "      <td>378279</td>\n",
       "      <td>706789</td>\n",
       "      <td>903891</td>\n",
       "      <td>290861</td>\n",
       "      <td>652113</td>\n",
       "      <td>405133</td>\n",
       "      <td>261207</td>\n",
       "      <td>719606</td>\n",
       "      <td>867922</td>\n",
       "    </tr>\n",
       "    <tr>\n",
       "      <th>306958</th>\n",
       "      <td>59473</td>\n",
       "      <td>469083</td>\n",
       "      <td>903891</td>\n",
       "      <td>190736</td>\n",
       "      <td>115404</td>\n",
       "      <td>32478</td>\n",
       "      <td>928731</td>\n",
       "      <td>941907</td>\n",
       "      <td>903891</td>\n",
       "      <td>49330</td>\n",
       "      <td>78774</td>\n",
       "      <td>455620</td>\n",
       "      <td>592332</td>\n",
       "      <td>134812</td>\n",
       "      <td>578261</td>\n",
       "      <td>932701</td>\n",
       "      <td>757043</td>\n",
       "      <td>714156</td>\n",
       "      <td>719606</td>\n",
       "      <td>199424</td>\n",
       "    </tr>\n",
       "    <tr>\n",
       "      <th>951890</th>\n",
       "      <td>44288</td>\n",
       "      <td>469083</td>\n",
       "      <td>903891</td>\n",
       "      <td>190736</td>\n",
       "      <td>314685</td>\n",
       "      <td>32478</td>\n",
       "      <td>928731</td>\n",
       "      <td>941907</td>\n",
       "      <td>903891</td>\n",
       "      <td>250906</td>\n",
       "      <td>584181</td>\n",
       "      <td>378279</td>\n",
       "      <td>389313</td>\n",
       "      <td>903891</td>\n",
       "      <td>668266</td>\n",
       "      <td>932701</td>\n",
       "      <td>414379</td>\n",
       "      <td>134812</td>\n",
       "      <td>719606</td>\n",
       "      <td>199424</td>\n",
       "    </tr>\n",
       "    <tr>\n",
       "      <th>334987</th>\n",
       "      <td>517150</td>\n",
       "      <td>469083</td>\n",
       "      <td>941907</td>\n",
       "      <td>157555</td>\n",
       "      <td>773403</td>\n",
       "      <td>598121</td>\n",
       "      <td>540635</td>\n",
       "      <td>941907</td>\n",
       "      <td>903891</td>\n",
       "      <td>810760</td>\n",
       "      <td>584181</td>\n",
       "      <td>378279</td>\n",
       "      <td>309682</td>\n",
       "      <td>261207</td>\n",
       "      <td>362221</td>\n",
       "      <td>932701</td>\n",
       "      <td>757043</td>\n",
       "      <td>136140</td>\n",
       "      <td>719606</td>\n",
       "      <td>380097</td>\n",
       "    </tr>\n",
       "    <tr>\n",
       "      <th>349588</th>\n",
       "      <td>609601</td>\n",
       "      <td>469083</td>\n",
       "      <td>903891</td>\n",
       "      <td>190736</td>\n",
       "      <td>94454</td>\n",
       "      <td>960589</td>\n",
       "      <td>928731</td>\n",
       "      <td>941907</td>\n",
       "      <td>903891</td>\n",
       "      <td>246099</td>\n",
       "      <td>584181</td>\n",
       "      <td>378279</td>\n",
       "      <td>268618</td>\n",
       "      <td>261207</td>\n",
       "      <td>259803</td>\n",
       "      <td>932701</td>\n",
       "      <td>47107</td>\n",
       "      <td>261207</td>\n",
       "      <td>719606</td>\n",
       "      <td>199424</td>\n",
       "    </tr>\n",
       "    <tr>\n",
       "      <th>269161</th>\n",
       "      <td>368639</td>\n",
       "      <td>469083</td>\n",
       "      <td>903891</td>\n",
       "      <td>190736</td>\n",
       "      <td>275444</td>\n",
       "      <td>457793</td>\n",
       "      <td>928731</td>\n",
       "      <td>941907</td>\n",
       "      <td>261207</td>\n",
       "      <td>158542</td>\n",
       "      <td>584181</td>\n",
       "      <td>378279</td>\n",
       "      <td>515608</td>\n",
       "      <td>941907</td>\n",
       "      <td>318310</td>\n",
       "      <td>875956</td>\n",
       "      <td>268688</td>\n",
       "      <td>133772</td>\n",
       "      <td>719606</td>\n",
       "      <td>199424</td>\n",
       "    </tr>\n",
       "    <tr>\n",
       "      <th>523513</th>\n",
       "      <td>158456</td>\n",
       "      <td>469083</td>\n",
       "      <td>903891</td>\n",
       "      <td>157555</td>\n",
       "      <td>773403</td>\n",
       "      <td>598121</td>\n",
       "      <td>540635</td>\n",
       "      <td>941907</td>\n",
       "      <td>903891</td>\n",
       "      <td>897357</td>\n",
       "      <td>584181</td>\n",
       "      <td>378279</td>\n",
       "      <td>581838</td>\n",
       "      <td>903891</td>\n",
       "      <td>668266</td>\n",
       "      <td>910181</td>\n",
       "      <td>629532</td>\n",
       "      <td>261207</td>\n",
       "      <td>719606</td>\n",
       "      <td>297581</td>\n",
       "    </tr>\n",
       "    <tr>\n",
       "      <th>885497</th>\n",
       "      <td>517150</td>\n",
       "      <td>469083</td>\n",
       "      <td>941907</td>\n",
       "      <td>604470</td>\n",
       "      <td>773403</td>\n",
       "      <td>598121</td>\n",
       "      <td>540635</td>\n",
       "      <td>941907</td>\n",
       "      <td>903891</td>\n",
       "      <td>332656</td>\n",
       "      <td>584181</td>\n",
       "      <td>378279</td>\n",
       "      <td>703839</td>\n",
       "      <td>903891</td>\n",
       "      <td>668266</td>\n",
       "      <td>104393</td>\n",
       "      <td>405133</td>\n",
       "      <td>941907</td>\n",
       "      <td>719606</td>\n",
       "      <td>294759</td>\n",
       "    </tr>\n",
       "    <tr>\n",
       "      <th>915319</th>\n",
       "      <td>714156</td>\n",
       "      <td>469083</td>\n",
       "      <td>941907</td>\n",
       "      <td>348539</td>\n",
       "      <td>773403</td>\n",
       "      <td>598121</td>\n",
       "      <td>540635</td>\n",
       "      <td>941907</td>\n",
       "      <td>903891</td>\n",
       "      <td>544445</td>\n",
       "      <td>584181</td>\n",
       "      <td>378279</td>\n",
       "      <td>211159</td>\n",
       "      <td>903891</td>\n",
       "      <td>471892</td>\n",
       "      <td>791064</td>\n",
       "      <td>839870</td>\n",
       "      <td>261207</td>\n",
       "      <td>719606</td>\n",
       "      <td>610349</td>\n",
       "    </tr>\n",
       "    <tr>\n",
       "      <th>129799</th>\n",
       "      <td>158456</td>\n",
       "      <td>469083</td>\n",
       "      <td>903891</td>\n",
       "      <td>190736</td>\n",
       "      <td>275444</td>\n",
       "      <td>457793</td>\n",
       "      <td>928731</td>\n",
       "      <td>941907</td>\n",
       "      <td>261207</td>\n",
       "      <td>632934</td>\n",
       "      <td>584181</td>\n",
       "      <td>378279</td>\n",
       "      <td>515608</td>\n",
       "      <td>941907</td>\n",
       "      <td>318310</td>\n",
       "      <td>648849</td>\n",
       "      <td>268688</td>\n",
       "      <td>714156</td>\n",
       "      <td>719606</td>\n",
       "      <td>199424</td>\n",
       "    </tr>\n",
       "    <tr>\n",
       "      <th>735567</th>\n",
       "      <td>568286</td>\n",
       "      <td>469083</td>\n",
       "      <td>903891</td>\n",
       "      <td>604470</td>\n",
       "      <td>773403</td>\n",
       "      <td>598121</td>\n",
       "      <td>540635</td>\n",
       "      <td>941907</td>\n",
       "      <td>903891</td>\n",
       "      <td>76541</td>\n",
       "      <td>584181</td>\n",
       "      <td>378279</td>\n",
       "      <td>389313</td>\n",
       "      <td>903891</td>\n",
       "      <td>668266</td>\n",
       "      <td>932701</td>\n",
       "      <td>414379</td>\n",
       "      <td>136140</td>\n",
       "      <td>719606</td>\n",
       "      <td>867922</td>\n",
       "    </tr>\n",
       "    <tr>\n",
       "      <th>143005</th>\n",
       "      <td>568286</td>\n",
       "      <td>469083</td>\n",
       "      <td>941907</td>\n",
       "      <td>157555</td>\n",
       "      <td>773403</td>\n",
       "      <td>598121</td>\n",
       "      <td>540635</td>\n",
       "      <td>941907</td>\n",
       "      <td>903891</td>\n",
       "      <td>72100</td>\n",
       "      <td>584181</td>\n",
       "      <td>378279</td>\n",
       "      <td>422928</td>\n",
       "      <td>903891</td>\n",
       "      <td>578261</td>\n",
       "      <td>932701</td>\n",
       "      <td>405133</td>\n",
       "      <td>941907</td>\n",
       "      <td>719606</td>\n",
       "      <td>837701</td>\n",
       "    </tr>\n",
       "    <tr>\n",
       "      <th>649413</th>\n",
       "      <td>802369</td>\n",
       "      <td>469083</td>\n",
       "      <td>941907</td>\n",
       "      <td>157555</td>\n",
       "      <td>773403</td>\n",
       "      <td>598121</td>\n",
       "      <td>540635</td>\n",
       "      <td>941907</td>\n",
       "      <td>903891</td>\n",
       "      <td>417746</td>\n",
       "      <td>584181</td>\n",
       "      <td>378279</td>\n",
       "      <td>81567</td>\n",
       "      <td>261207</td>\n",
       "      <td>876864</td>\n",
       "      <td>778521</td>\n",
       "      <td>757043</td>\n",
       "      <td>261207</td>\n",
       "      <td>719606</td>\n",
       "      <td>716074</td>\n",
       "    </tr>\n",
       "    <tr>\n",
       "      <th>447212</th>\n",
       "      <td>860050</td>\n",
       "      <td>469083</td>\n",
       "      <td>903891</td>\n",
       "      <td>190736</td>\n",
       "      <td>589142</td>\n",
       "      <td>32478</td>\n",
       "      <td>928731</td>\n",
       "      <td>941907</td>\n",
       "      <td>903891</td>\n",
       "      <td>719606</td>\n",
       "      <td>78774</td>\n",
       "      <td>455620</td>\n",
       "      <td>896448</td>\n",
       "      <td>903891</td>\n",
       "      <td>668266</td>\n",
       "      <td>932701</td>\n",
       "      <td>405133</td>\n",
       "      <td>134812</td>\n",
       "      <td>719606</td>\n",
       "      <td>199424</td>\n",
       "    </tr>\n",
       "    <tr>\n",
       "      <th>...</th>\n",
       "      <td>...</td>\n",
       "      <td>...</td>\n",
       "      <td>...</td>\n",
       "      <td>...</td>\n",
       "      <td>...</td>\n",
       "      <td>...</td>\n",
       "      <td>...</td>\n",
       "      <td>...</td>\n",
       "      <td>...</td>\n",
       "      <td>...</td>\n",
       "      <td>...</td>\n",
       "      <td>...</td>\n",
       "      <td>...</td>\n",
       "      <td>...</td>\n",
       "      <td>...</td>\n",
       "      <td>...</td>\n",
       "      <td>...</td>\n",
       "      <td>...</td>\n",
       "      <td>...</td>\n",
       "      <td>...</td>\n",
       "    </tr>\n",
       "    <tr>\n",
       "      <th>722132</th>\n",
       "      <td>133772</td>\n",
       "      <td>469083</td>\n",
       "      <td>903891</td>\n",
       "      <td>190736</td>\n",
       "      <td>648564</td>\n",
       "      <td>32478</td>\n",
       "      <td>322250</td>\n",
       "      <td>941907</td>\n",
       "      <td>134812</td>\n",
       "      <td>403745</td>\n",
       "      <td>584181</td>\n",
       "      <td>378279</td>\n",
       "      <td>524637</td>\n",
       "      <td>903891</td>\n",
       "      <td>668266</td>\n",
       "      <td>104393</td>\n",
       "      <td>405133</td>\n",
       "      <td>134812</td>\n",
       "      <td>719606</td>\n",
       "      <td>199424</td>\n",
       "    </tr>\n",
       "    <tr>\n",
       "      <th>322885</th>\n",
       "      <td>240777</td>\n",
       "      <td>469083</td>\n",
       "      <td>941907</td>\n",
       "      <td>157555</td>\n",
       "      <td>773403</td>\n",
       "      <td>598121</td>\n",
       "      <td>540635</td>\n",
       "      <td>941907</td>\n",
       "      <td>903891</td>\n",
       "      <td>155297</td>\n",
       "      <td>584181</td>\n",
       "      <td>378279</td>\n",
       "      <td>371962</td>\n",
       "      <td>261207</td>\n",
       "      <td>578261</td>\n",
       "      <td>932701</td>\n",
       "      <td>757043</td>\n",
       "      <td>136140</td>\n",
       "      <td>719606</td>\n",
       "      <td>716074</td>\n",
       "    </tr>\n",
       "    <tr>\n",
       "      <th>335080</th>\n",
       "      <td>134812</td>\n",
       "      <td>469083</td>\n",
       "      <td>941907</td>\n",
       "      <td>379923</td>\n",
       "      <td>773403</td>\n",
       "      <td>598121</td>\n",
       "      <td>540635</td>\n",
       "      <td>941907</td>\n",
       "      <td>903891</td>\n",
       "      <td>474582</td>\n",
       "      <td>584181</td>\n",
       "      <td>378279</td>\n",
       "      <td>389313</td>\n",
       "      <td>903891</td>\n",
       "      <td>668266</td>\n",
       "      <td>932701</td>\n",
       "      <td>414379</td>\n",
       "      <td>134812</td>\n",
       "      <td>323788</td>\n",
       "      <td>470765</td>\n",
       "    </tr>\n",
       "    <tr>\n",
       "      <th>850546</th>\n",
       "      <td>261207</td>\n",
       "      <td>321773</td>\n",
       "      <td>903891</td>\n",
       "      <td>190736</td>\n",
       "      <td>110419</td>\n",
       "      <td>598121</td>\n",
       "      <td>540635</td>\n",
       "      <td>941907</td>\n",
       "      <td>903891</td>\n",
       "      <td>439400</td>\n",
       "      <td>584181</td>\n",
       "      <td>378279</td>\n",
       "      <td>893533</td>\n",
       "      <td>261207</td>\n",
       "      <td>517333</td>\n",
       "      <td>921308</td>\n",
       "      <td>47107</td>\n",
       "      <td>941907</td>\n",
       "      <td>719606</td>\n",
       "      <td>199424</td>\n",
       "    </tr>\n",
       "    <tr>\n",
       "      <th>826648</th>\n",
       "      <td>368639</td>\n",
       "      <td>469083</td>\n",
       "      <td>903891</td>\n",
       "      <td>157555</td>\n",
       "      <td>773403</td>\n",
       "      <td>598121</td>\n",
       "      <td>540635</td>\n",
       "      <td>941907</td>\n",
       "      <td>903891</td>\n",
       "      <td>32491</td>\n",
       "      <td>584181</td>\n",
       "      <td>378279</td>\n",
       "      <td>843855</td>\n",
       "      <td>134812</td>\n",
       "      <td>578261</td>\n",
       "      <td>932701</td>\n",
       "      <td>518078</td>\n",
       "      <td>134812</td>\n",
       "      <td>719606</td>\n",
       "      <td>562223</td>\n",
       "    </tr>\n",
       "    <tr>\n",
       "      <th>914489</th>\n",
       "      <td>941907</td>\n",
       "      <td>469083</td>\n",
       "      <td>903891</td>\n",
       "      <td>348539</td>\n",
       "      <td>773403</td>\n",
       "      <td>598121</td>\n",
       "      <td>540635</td>\n",
       "      <td>941907</td>\n",
       "      <td>903891</td>\n",
       "      <td>703026</td>\n",
       "      <td>78774</td>\n",
       "      <td>455620</td>\n",
       "      <td>851862</td>\n",
       "      <td>903891</td>\n",
       "      <td>668266</td>\n",
       "      <td>932701</td>\n",
       "      <td>405133</td>\n",
       "      <td>261207</td>\n",
       "      <td>719606</td>\n",
       "      <td>214713</td>\n",
       "    </tr>\n",
       "    <tr>\n",
       "      <th>471626</th>\n",
       "      <td>261207</td>\n",
       "      <td>469083</td>\n",
       "      <td>941907</td>\n",
       "      <td>157555</td>\n",
       "      <td>773403</td>\n",
       "      <td>598121</td>\n",
       "      <td>540635</td>\n",
       "      <td>941907</td>\n",
       "      <td>903891</td>\n",
       "      <td>495374</td>\n",
       "      <td>584181</td>\n",
       "      <td>378279</td>\n",
       "      <td>929015</td>\n",
       "      <td>134812</td>\n",
       "      <td>186166</td>\n",
       "      <td>932701</td>\n",
       "      <td>957634</td>\n",
       "      <td>714156</td>\n",
       "      <td>826929</td>\n",
       "      <td>380097</td>\n",
       "    </tr>\n",
       "    <tr>\n",
       "      <th>234535</th>\n",
       "      <td>133772</td>\n",
       "      <td>469083</td>\n",
       "      <td>903891</td>\n",
       "      <td>190736</td>\n",
       "      <td>674533</td>\n",
       "      <td>482170</td>\n",
       "      <td>928731</td>\n",
       "      <td>941907</td>\n",
       "      <td>134812</td>\n",
       "      <td>269471</td>\n",
       "      <td>584181</td>\n",
       "      <td>378279</td>\n",
       "      <td>842645</td>\n",
       "      <td>261207</td>\n",
       "      <td>724151</td>\n",
       "      <td>932701</td>\n",
       "      <td>996529</td>\n",
       "      <td>261207</td>\n",
       "      <td>719606</td>\n",
       "      <td>199424</td>\n",
       "    </tr>\n",
       "    <tr>\n",
       "      <th>538527</th>\n",
       "      <td>133772</td>\n",
       "      <td>469083</td>\n",
       "      <td>903891</td>\n",
       "      <td>190736</td>\n",
       "      <td>763943</td>\n",
       "      <td>697339</td>\n",
       "      <td>928731</td>\n",
       "      <td>941907</td>\n",
       "      <td>903891</td>\n",
       "      <td>439400</td>\n",
       "      <td>584181</td>\n",
       "      <td>378279</td>\n",
       "      <td>893533</td>\n",
       "      <td>261207</td>\n",
       "      <td>882198</td>\n",
       "      <td>921308</td>\n",
       "      <td>47107</td>\n",
       "      <td>714156</td>\n",
       "      <td>719606</td>\n",
       "      <td>199424</td>\n",
       "    </tr>\n",
       "    <tr>\n",
       "      <th>739962</th>\n",
       "      <td>327813</td>\n",
       "      <td>469083</td>\n",
       "      <td>903891</td>\n",
       "      <td>190736</td>\n",
       "      <td>763943</td>\n",
       "      <td>697339</td>\n",
       "      <td>928731</td>\n",
       "      <td>941907</td>\n",
       "      <td>903891</td>\n",
       "      <td>439400</td>\n",
       "      <td>584181</td>\n",
       "      <td>378279</td>\n",
       "      <td>893533</td>\n",
       "      <td>261207</td>\n",
       "      <td>882198</td>\n",
       "      <td>921308</td>\n",
       "      <td>47107</td>\n",
       "      <td>261207</td>\n",
       "      <td>719606</td>\n",
       "      <td>199424</td>\n",
       "    </tr>\n",
       "    <tr>\n",
       "      <th>64203</th>\n",
       "      <td>568286</td>\n",
       "      <td>469083</td>\n",
       "      <td>903891</td>\n",
       "      <td>157555</td>\n",
       "      <td>773403</td>\n",
       "      <td>598121</td>\n",
       "      <td>540635</td>\n",
       "      <td>941907</td>\n",
       "      <td>903891</td>\n",
       "      <td>598395</td>\n",
       "      <td>78774</td>\n",
       "      <td>455620</td>\n",
       "      <td>592332</td>\n",
       "      <td>134812</td>\n",
       "      <td>578261</td>\n",
       "      <td>932701</td>\n",
       "      <td>757043</td>\n",
       "      <td>133772</td>\n",
       "      <td>719606</td>\n",
       "      <td>178114</td>\n",
       "    </tr>\n",
       "    <tr>\n",
       "      <th>317167</th>\n",
       "      <td>44288</td>\n",
       "      <td>469083</td>\n",
       "      <td>903891</td>\n",
       "      <td>190736</td>\n",
       "      <td>269935</td>\n",
       "      <td>990569</td>\n",
       "      <td>928731</td>\n",
       "      <td>941907</td>\n",
       "      <td>903891</td>\n",
       "      <td>768245</td>\n",
       "      <td>584181</td>\n",
       "      <td>378279</td>\n",
       "      <td>835956</td>\n",
       "      <td>261207</td>\n",
       "      <td>620249</td>\n",
       "      <td>98502</td>\n",
       "      <td>47107</td>\n",
       "      <td>941907</td>\n",
       "      <td>21638</td>\n",
       "      <td>199424</td>\n",
       "    </tr>\n",
       "    <tr>\n",
       "      <th>709232</th>\n",
       "      <td>368639</td>\n",
       "      <td>469083</td>\n",
       "      <td>941907</td>\n",
       "      <td>604470</td>\n",
       "      <td>773403</td>\n",
       "      <td>598121</td>\n",
       "      <td>540635</td>\n",
       "      <td>941907</td>\n",
       "      <td>903891</td>\n",
       "      <td>200421</td>\n",
       "      <td>584181</td>\n",
       "      <td>378279</td>\n",
       "      <td>190084</td>\n",
       "      <td>261207</td>\n",
       "      <td>668266</td>\n",
       "      <td>587603</td>\n",
       "      <td>990659</td>\n",
       "      <td>941907</td>\n",
       "      <td>719606</td>\n",
       "      <td>307141</td>\n",
       "    </tr>\n",
       "    <tr>\n",
       "      <th>211150</th>\n",
       "      <td>368639</td>\n",
       "      <td>469083</td>\n",
       "      <td>903891</td>\n",
       "      <td>190736</td>\n",
       "      <td>275444</td>\n",
       "      <td>457793</td>\n",
       "      <td>928731</td>\n",
       "      <td>941907</td>\n",
       "      <td>261207</td>\n",
       "      <td>158542</td>\n",
       "      <td>584181</td>\n",
       "      <td>378279</td>\n",
       "      <td>515608</td>\n",
       "      <td>941907</td>\n",
       "      <td>318310</td>\n",
       "      <td>840509</td>\n",
       "      <td>268688</td>\n",
       "      <td>133772</td>\n",
       "      <td>719606</td>\n",
       "      <td>199424</td>\n",
       "    </tr>\n",
       "    <tr>\n",
       "      <th>254715</th>\n",
       "      <td>860050</td>\n",
       "      <td>469083</td>\n",
       "      <td>941907</td>\n",
       "      <td>157555</td>\n",
       "      <td>773403</td>\n",
       "      <td>598121</td>\n",
       "      <td>540635</td>\n",
       "      <td>941907</td>\n",
       "      <td>903891</td>\n",
       "      <td>251932</td>\n",
       "      <td>584181</td>\n",
       "      <td>378279</td>\n",
       "      <td>53107</td>\n",
       "      <td>134812</td>\n",
       "      <td>905902</td>\n",
       "      <td>932701</td>\n",
       "      <td>757043</td>\n",
       "      <td>136140</td>\n",
       "      <td>719606</td>\n",
       "      <td>967825</td>\n",
       "    </tr>\n",
       "    <tr>\n",
       "      <th>225023</th>\n",
       "      <td>136140</td>\n",
       "      <td>469083</td>\n",
       "      <td>941907</td>\n",
       "      <td>157555</td>\n",
       "      <td>773403</td>\n",
       "      <td>598121</td>\n",
       "      <td>540635</td>\n",
       "      <td>941907</td>\n",
       "      <td>903891</td>\n",
       "      <td>544445</td>\n",
       "      <td>584181</td>\n",
       "      <td>378279</td>\n",
       "      <td>211159</td>\n",
       "      <td>903891</td>\n",
       "      <td>471892</td>\n",
       "      <td>392640</td>\n",
       "      <td>839870</td>\n",
       "      <td>133772</td>\n",
       "      <td>719606</td>\n",
       "      <td>234182</td>\n",
       "    </tr>\n",
       "    <tr>\n",
       "      <th>493181</th>\n",
       "      <td>860050</td>\n",
       "      <td>469083</td>\n",
       "      <td>941907</td>\n",
       "      <td>157555</td>\n",
       "      <td>773403</td>\n",
       "      <td>598121</td>\n",
       "      <td>540635</td>\n",
       "      <td>941907</td>\n",
       "      <td>903891</td>\n",
       "      <td>124517</td>\n",
       "      <td>584181</td>\n",
       "      <td>378279</td>\n",
       "      <td>177171</td>\n",
       "      <td>261207</td>\n",
       "      <td>905902</td>\n",
       "      <td>791064</td>\n",
       "      <td>757043</td>\n",
       "      <td>136140</td>\n",
       "      <td>719606</td>\n",
       "      <td>259641</td>\n",
       "    </tr>\n",
       "    <tr>\n",
       "      <th>671272</th>\n",
       "      <td>517150</td>\n",
       "      <td>469083</td>\n",
       "      <td>903891</td>\n",
       "      <td>190736</td>\n",
       "      <td>132397</td>\n",
       "      <td>32478</td>\n",
       "      <td>928731</td>\n",
       "      <td>941907</td>\n",
       "      <td>903891</td>\n",
       "      <td>631120</td>\n",
       "      <td>584181</td>\n",
       "      <td>378279</td>\n",
       "      <td>652935</td>\n",
       "      <td>903891</td>\n",
       "      <td>668266</td>\n",
       "      <td>932701</td>\n",
       "      <td>313311</td>\n",
       "      <td>134812</td>\n",
       "      <td>719606</td>\n",
       "      <td>199424</td>\n",
       "    </tr>\n",
       "    <tr>\n",
       "      <th>903253</th>\n",
       "      <td>196454</td>\n",
       "      <td>469083</td>\n",
       "      <td>941907</td>\n",
       "      <td>157555</td>\n",
       "      <td>773403</td>\n",
       "      <td>598121</td>\n",
       "      <td>540635</td>\n",
       "      <td>941907</td>\n",
       "      <td>903891</td>\n",
       "      <td>962328</td>\n",
       "      <td>584181</td>\n",
       "      <td>378279</td>\n",
       "      <td>100588</td>\n",
       "      <td>261207</td>\n",
       "      <td>578261</td>\n",
       "      <td>932701</td>\n",
       "      <td>757043</td>\n",
       "      <td>714156</td>\n",
       "      <td>719606</td>\n",
       "      <td>967825</td>\n",
       "    </tr>\n",
       "    <tr>\n",
       "      <th>739655</th>\n",
       "      <td>757043</td>\n",
       "      <td>469083</td>\n",
       "      <td>903891</td>\n",
       "      <td>157555</td>\n",
       "      <td>773403</td>\n",
       "      <td>598121</td>\n",
       "      <td>540635</td>\n",
       "      <td>941907</td>\n",
       "      <td>903891</td>\n",
       "      <td>632064</td>\n",
       "      <td>78774</td>\n",
       "      <td>455620</td>\n",
       "      <td>597509</td>\n",
       "      <td>941907</td>\n",
       "      <td>905902</td>\n",
       "      <td>469271</td>\n",
       "      <td>268688</td>\n",
       "      <td>714156</td>\n",
       "      <td>719606</td>\n",
       "      <td>93833</td>\n",
       "    </tr>\n",
       "    <tr>\n",
       "      <th>598607</th>\n",
       "      <td>368639</td>\n",
       "      <td>309554</td>\n",
       "      <td>903891</td>\n",
       "      <td>190736</td>\n",
       "      <td>773403</td>\n",
       "      <td>598121</td>\n",
       "      <td>540635</td>\n",
       "      <td>903891</td>\n",
       "      <td>903891</td>\n",
       "      <td>237077</td>\n",
       "      <td>584181</td>\n",
       "      <td>378279</td>\n",
       "      <td>629528</td>\n",
       "      <td>261207</td>\n",
       "      <td>578261</td>\n",
       "      <td>392640</td>\n",
       "      <td>757043</td>\n",
       "      <td>903891</td>\n",
       "      <td>719606</td>\n",
       "      <td>719606</td>\n",
       "    </tr>\n",
       "    <tr>\n",
       "      <th>612504</th>\n",
       "      <td>517150</td>\n",
       "      <td>469083</td>\n",
       "      <td>903891</td>\n",
       "      <td>348539</td>\n",
       "      <td>773403</td>\n",
       "      <td>598121</td>\n",
       "      <td>540635</td>\n",
       "      <td>941907</td>\n",
       "      <td>903891</td>\n",
       "      <td>631120</td>\n",
       "      <td>584181</td>\n",
       "      <td>378279</td>\n",
       "      <td>652935</td>\n",
       "      <td>903891</td>\n",
       "      <td>668266</td>\n",
       "      <td>276629</td>\n",
       "      <td>313311</td>\n",
       "      <td>134812</td>\n",
       "      <td>719606</td>\n",
       "      <td>516637</td>\n",
       "    </tr>\n",
       "    <tr>\n",
       "      <th>202774</th>\n",
       "      <td>539499</td>\n",
       "      <td>469083</td>\n",
       "      <td>941907</td>\n",
       "      <td>853431</td>\n",
       "      <td>773403</td>\n",
       "      <td>598121</td>\n",
       "      <td>540635</td>\n",
       "      <td>941907</td>\n",
       "      <td>903891</td>\n",
       "      <td>155297</td>\n",
       "      <td>584181</td>\n",
       "      <td>378279</td>\n",
       "      <td>371962</td>\n",
       "      <td>261207</td>\n",
       "      <td>578261</td>\n",
       "      <td>932701</td>\n",
       "      <td>757043</td>\n",
       "      <td>941907</td>\n",
       "      <td>719606</td>\n",
       "      <td>328052</td>\n",
       "    </tr>\n",
       "    <tr>\n",
       "      <th>439393</th>\n",
       "      <td>136140</td>\n",
       "      <td>469083</td>\n",
       "      <td>903891</td>\n",
       "      <td>861892</td>\n",
       "      <td>773403</td>\n",
       "      <td>598121</td>\n",
       "      <td>540635</td>\n",
       "      <td>941907</td>\n",
       "      <td>903891</td>\n",
       "      <td>246911</td>\n",
       "      <td>584181</td>\n",
       "      <td>378279</td>\n",
       "      <td>722252</td>\n",
       "      <td>261207</td>\n",
       "      <td>668266</td>\n",
       "      <td>932701</td>\n",
       "      <td>256487</td>\n",
       "      <td>134812</td>\n",
       "      <td>719606</td>\n",
       "      <td>530943</td>\n",
       "    </tr>\n",
       "    <tr>\n",
       "      <th>939934</th>\n",
       "      <td>987327</td>\n",
       "      <td>469083</td>\n",
       "      <td>903891</td>\n",
       "      <td>190736</td>\n",
       "      <td>737340</td>\n",
       "      <td>930864</td>\n",
       "      <td>213626</td>\n",
       "      <td>941907</td>\n",
       "      <td>903891</td>\n",
       "      <td>849907</td>\n",
       "      <td>584181</td>\n",
       "      <td>378279</td>\n",
       "      <td>790657</td>\n",
       "      <td>261207</td>\n",
       "      <td>928070</td>\n",
       "      <td>276629</td>\n",
       "      <td>196454</td>\n",
       "      <td>134812</td>\n",
       "      <td>719606</td>\n",
       "      <td>199424</td>\n",
       "    </tr>\n",
       "    <tr>\n",
       "      <th>599633</th>\n",
       "      <td>714156</td>\n",
       "      <td>469083</td>\n",
       "      <td>941907</td>\n",
       "      <td>157555</td>\n",
       "      <td>773403</td>\n",
       "      <td>598121</td>\n",
       "      <td>540635</td>\n",
       "      <td>941907</td>\n",
       "      <td>903891</td>\n",
       "      <td>260068</td>\n",
       "      <td>264755</td>\n",
       "      <td>491147</td>\n",
       "      <td>771913</td>\n",
       "      <td>903891</td>\n",
       "      <td>578261</td>\n",
       "      <td>932701</td>\n",
       "      <td>313311</td>\n",
       "      <td>261207</td>\n",
       "      <td>719606</td>\n",
       "      <td>967825</td>\n",
       "    </tr>\n",
       "    <tr>\n",
       "      <th>103907</th>\n",
       "      <td>136140</td>\n",
       "      <td>469083</td>\n",
       "      <td>903891</td>\n",
       "      <td>157555</td>\n",
       "      <td>773403</td>\n",
       "      <td>598121</td>\n",
       "      <td>540635</td>\n",
       "      <td>941907</td>\n",
       "      <td>903891</td>\n",
       "      <td>222451</td>\n",
       "      <td>584181</td>\n",
       "      <td>378279</td>\n",
       "      <td>422928</td>\n",
       "      <td>261207</td>\n",
       "      <td>668266</td>\n",
       "      <td>932701</td>\n",
       "      <td>405133</td>\n",
       "      <td>261207</td>\n",
       "      <td>719606</td>\n",
       "      <td>119839</td>\n",
       "    </tr>\n",
       "    <tr>\n",
       "      <th>536846</th>\n",
       "      <td>261207</td>\n",
       "      <td>469083</td>\n",
       "      <td>941907</td>\n",
       "      <td>157555</td>\n",
       "      <td>773403</td>\n",
       "      <td>598121</td>\n",
       "      <td>540635</td>\n",
       "      <td>941907</td>\n",
       "      <td>903891</td>\n",
       "      <td>417746</td>\n",
       "      <td>584181</td>\n",
       "      <td>378279</td>\n",
       "      <td>81567</td>\n",
       "      <td>261207</td>\n",
       "      <td>876864</td>\n",
       "      <td>392640</td>\n",
       "      <td>757043</td>\n",
       "      <td>941907</td>\n",
       "      <td>719606</td>\n",
       "      <td>259641</td>\n",
       "    </tr>\n",
       "    <tr>\n",
       "      <th>68354</th>\n",
       "      <td>133772</td>\n",
       "      <td>469083</td>\n",
       "      <td>903891</td>\n",
       "      <td>157555</td>\n",
       "      <td>773403</td>\n",
       "      <td>598121</td>\n",
       "      <td>540635</td>\n",
       "      <td>941907</td>\n",
       "      <td>903891</td>\n",
       "      <td>227676</td>\n",
       "      <td>584181</td>\n",
       "      <td>378279</td>\n",
       "      <td>398671</td>\n",
       "      <td>903891</td>\n",
       "      <td>905902</td>\n",
       "      <td>932701</td>\n",
       "      <td>609601</td>\n",
       "      <td>261207</td>\n",
       "      <td>719606</td>\n",
       "      <td>189958</td>\n",
       "    </tr>\n",
       "    <tr>\n",
       "      <th>762302</th>\n",
       "      <td>136140</td>\n",
       "      <td>469083</td>\n",
       "      <td>941907</td>\n",
       "      <td>157555</td>\n",
       "      <td>773403</td>\n",
       "      <td>598121</td>\n",
       "      <td>540635</td>\n",
       "      <td>941907</td>\n",
       "      <td>903891</td>\n",
       "      <td>931011</td>\n",
       "      <td>584181</td>\n",
       "      <td>378279</td>\n",
       "      <td>594887</td>\n",
       "      <td>261207</td>\n",
       "      <td>843136</td>\n",
       "      <td>98502</td>\n",
       "      <td>915455</td>\n",
       "      <td>941907</td>\n",
       "      <td>235384</td>\n",
       "      <td>399913</td>\n",
       "    </tr>\n",
       "  </tbody>\n",
       "</table>\n",
       "<p>100000 rows × 20 columns</p>\n",
       "</div>"
      ],
      "text/plain": [
       "          hour      C1  banner_pos  site_category  app_id  app_domain  \\\n",
       "617759  714156  469083      941907         157555  773403      598121   \n",
       "693227   44288  469083      903891         604470  773403      598121   \n",
       "906065  609601  469083      941907         157555  773403      598121   \n",
       "828507  714156  469083      903891         190736  685072       32478   \n",
       "869730   44288  309554      903891         190736  773403      598121   \n",
       "147081  609601  469083      941907         157555  773403      598121   \n",
       "779428  987327  469083      903891         190736  153981      645505   \n",
       "485973  136140  469083      903891         157555  773403      598121   \n",
       "30697   731720  469083      941907         157555  773403      598121   \n",
       "306669   44288  469083      903891         190736  918674       32478   \n",
       "800205  517150  469083      903891         190736  314685       32478   \n",
       "654773  609601  469083      903891         190736  315439       32478   \n",
       "251217  539499  469083      903891         604470  773403      598121   \n",
       "576951  757043  469083      903891         604470  773403      598121   \n",
       "104218  802369  469083      941907         157555  773403      598121   \n",
       "509042  240777  469083      941907         157555  773403      598121   \n",
       "65650    44288  469083      903891         604470  773403      598121   \n",
       "306958   59473  469083      903891         190736  115404       32478   \n",
       "951890   44288  469083      903891         190736  314685       32478   \n",
       "334987  517150  469083      941907         157555  773403      598121   \n",
       "349588  609601  469083      903891         190736   94454      960589   \n",
       "269161  368639  469083      903891         190736  275444      457793   \n",
       "523513  158456  469083      903891         157555  773403      598121   \n",
       "885497  517150  469083      941907         604470  773403      598121   \n",
       "915319  714156  469083      941907         348539  773403      598121   \n",
       "129799  158456  469083      903891         190736  275444      457793   \n",
       "735567  568286  469083      903891         604470  773403      598121   \n",
       "143005  568286  469083      941907         157555  773403      598121   \n",
       "649413  802369  469083      941907         157555  773403      598121   \n",
       "447212  860050  469083      903891         190736  589142       32478   \n",
       "...        ...     ...         ...            ...     ...         ...   \n",
       "722132  133772  469083      903891         190736  648564       32478   \n",
       "322885  240777  469083      941907         157555  773403      598121   \n",
       "335080  134812  469083      941907         379923  773403      598121   \n",
       "850546  261207  321773      903891         190736  110419      598121   \n",
       "826648  368639  469083      903891         157555  773403      598121   \n",
       "914489  941907  469083      903891         348539  773403      598121   \n",
       "471626  261207  469083      941907         157555  773403      598121   \n",
       "234535  133772  469083      903891         190736  674533      482170   \n",
       "538527  133772  469083      903891         190736  763943      697339   \n",
       "739962  327813  469083      903891         190736  763943      697339   \n",
       "64203   568286  469083      903891         157555  773403      598121   \n",
       "317167   44288  469083      903891         190736  269935      990569   \n",
       "709232  368639  469083      941907         604470  773403      598121   \n",
       "211150  368639  469083      903891         190736  275444      457793   \n",
       "254715  860050  469083      941907         157555  773403      598121   \n",
       "225023  136140  469083      941907         157555  773403      598121   \n",
       "493181  860050  469083      941907         157555  773403      598121   \n",
       "671272  517150  469083      903891         190736  132397       32478   \n",
       "903253  196454  469083      941907         157555  773403      598121   \n",
       "739655  757043  469083      903891         157555  773403      598121   \n",
       "598607  368639  309554      903891         190736  773403      598121   \n",
       "612504  517150  469083      903891         348539  773403      598121   \n",
       "202774  539499  469083      941907         853431  773403      598121   \n",
       "439393  136140  469083      903891         861892  773403      598121   \n",
       "939934  987327  469083      903891         190736  737340      930864   \n",
       "599633  714156  469083      941907         157555  773403      598121   \n",
       "103907  136140  469083      903891         157555  773403      598121   \n",
       "536846  261207  469083      941907         157555  773403      598121   \n",
       "68354   133772  469083      903891         157555  773403      598121   \n",
       "762302  136140  469083      941907         157555  773403      598121   \n",
       "\n",
       "        app_category  device_type  device_conn_type     C14     C15     C16  \\\n",
       "617759        540635       941907            903891  333512  584181  378279   \n",
       "693227        540635       941907            903891  607000  584181  378279   \n",
       "906065        540635       941907            903891  947691  584181  378279   \n",
       "828507        928731       941907            903891  269471  584181  378279   \n",
       "869730        540635       903891            903891  978560  584181  378279   \n",
       "147081        540635       941907            903891  731118  584181  378279   \n",
       "779428        928731       941907            134812  750053  584181  378279   \n",
       "485973        540635       941907            903891  477462  584181  378279   \n",
       "30697         540635       941907            903891  172967  584181  378279   \n",
       "306669        213626       941907            134812  445294  584181  378279   \n",
       "800205        928731       941907            903891  250906  584181  378279   \n",
       "654773        312612       941907            134812  545535  584181  378279   \n",
       "251217        540635       941907            903891  141145  584181  378279   \n",
       "576951        540635       941907            903891  850103   78774  455620   \n",
       "104218        540635       941907            903891  165610  584181  378279   \n",
       "509042        540635       941907            903891  933744  584181  378279   \n",
       "65650         540635       941907            134812  474022  584181  378279   \n",
       "306958        928731       941907            903891   49330   78774  455620   \n",
       "951890        928731       941907            903891  250906  584181  378279   \n",
       "334987        540635       941907            903891  810760  584181  378279   \n",
       "349588        928731       941907            903891  246099  584181  378279   \n",
       "269161        928731       941907            261207  158542  584181  378279   \n",
       "523513        540635       941907            903891  897357  584181  378279   \n",
       "885497        540635       941907            903891  332656  584181  378279   \n",
       "915319        540635       941907            903891  544445  584181  378279   \n",
       "129799        928731       941907            261207  632934  584181  378279   \n",
       "735567        540635       941907            903891   76541  584181  378279   \n",
       "143005        540635       941907            903891   72100  584181  378279   \n",
       "649413        540635       941907            903891  417746  584181  378279   \n",
       "447212        928731       941907            903891  719606   78774  455620   \n",
       "...              ...          ...               ...     ...     ...     ...   \n",
       "722132        322250       941907            134812  403745  584181  378279   \n",
       "322885        540635       941907            903891  155297  584181  378279   \n",
       "335080        540635       941907            903891  474582  584181  378279   \n",
       "850546        540635       941907            903891  439400  584181  378279   \n",
       "826648        540635       941907            903891   32491  584181  378279   \n",
       "914489        540635       941907            903891  703026   78774  455620   \n",
       "471626        540635       941907            903891  495374  584181  378279   \n",
       "234535        928731       941907            134812  269471  584181  378279   \n",
       "538527        928731       941907            903891  439400  584181  378279   \n",
       "739962        928731       941907            903891  439400  584181  378279   \n",
       "64203         540635       941907            903891  598395   78774  455620   \n",
       "317167        928731       941907            903891  768245  584181  378279   \n",
       "709232        540635       941907            903891  200421  584181  378279   \n",
       "211150        928731       941907            261207  158542  584181  378279   \n",
       "254715        540635       941907            903891  251932  584181  378279   \n",
       "225023        540635       941907            903891  544445  584181  378279   \n",
       "493181        540635       941907            903891  124517  584181  378279   \n",
       "671272        928731       941907            903891  631120  584181  378279   \n",
       "903253        540635       941907            903891  962328  584181  378279   \n",
       "739655        540635       941907            903891  632064   78774  455620   \n",
       "598607        540635       903891            903891  237077  584181  378279   \n",
       "612504        540635       941907            903891  631120  584181  378279   \n",
       "202774        540635       941907            903891  155297  584181  378279   \n",
       "439393        540635       941907            903891  246911  584181  378279   \n",
       "939934        213626       941907            903891  849907  584181  378279   \n",
       "599633        540635       941907            903891  260068  264755  491147   \n",
       "103907        540635       941907            903891  222451  584181  378279   \n",
       "536846        540635       941907            903891  417746  584181  378279   \n",
       "68354         540635       941907            903891  227676  584181  378279   \n",
       "762302        540635       941907            903891  931011  584181  378279   \n",
       "\n",
       "           C17     C18     C19     C20     C21  weekday    user    site  \n",
       "617759   40450  134812  578261  932701  518078   261207  719606  967825  \n",
       "693227  303126  134812  726020  989498   89115   134812  719606   34346  \n",
       "906065   60423  261207  668266   98502  568286   136140  719606  837701  \n",
       "828507  842645  261207  724151  311712  996529   261207  719606  199424  \n",
       "869730  741870  134812  578261  932701  518078   134812  719606  421699  \n",
       "147081  707477  261207  842317  921308   12011   714156  719606  459000  \n",
       "779428  652935  903891  668266  932701  313311   134812  719606  199424  \n",
       "485973  703839  903891  668266    6427  405133   134812  719606  894576  \n",
       "30697   707477  261207  842317  921308   12011   714156  719606  967825  \n",
       "306669  100045  903891  933942  706920  839870   261207  719606  199424  \n",
       "800205  389313  903891  668266  652113  414379   261207  719606  199424  \n",
       "654773  497264  903891  362221  932701  405133   261207  719606  199424  \n",
       "251217  706789  903891  905902  652113  405133   941907  719606  867922  \n",
       "576951  522943  261207  578261  311712  757043   941907  719606  813381  \n",
       "104218  458838  134812  578261   60159  568286   136140  719606  695776  \n",
       "509042  390711  261207   49548   98502   47107   134812  280156  459000  \n",
       "65650   706789  903891  290861  652113  405133   261207  719606  867922  \n",
       "306958  592332  134812  578261  932701  757043   714156  719606  199424  \n",
       "951890  389313  903891  668266  932701  414379   134812  719606  199424  \n",
       "334987  309682  261207  362221  932701  757043   136140  719606  380097  \n",
       "349588  268618  261207  259803  932701   47107   261207  719606  199424  \n",
       "269161  515608  941907  318310  875956  268688   133772  719606  199424  \n",
       "523513  581838  903891  668266  910181  629532   261207  719606  297581  \n",
       "885497  703839  903891  668266  104393  405133   941907  719606  294759  \n",
       "915319  211159  903891  471892  791064  839870   261207  719606  610349  \n",
       "129799  515608  941907  318310  648849  268688   714156  719606  199424  \n",
       "735567  389313  903891  668266  932701  414379   136140  719606  867922  \n",
       "143005  422928  903891  578261  932701  405133   941907  719606  837701  \n",
       "649413   81567  261207  876864  778521  757043   261207  719606  716074  \n",
       "447212  896448  903891  668266  932701  405133   134812  719606  199424  \n",
       "...        ...     ...     ...     ...     ...      ...     ...     ...  \n",
       "722132  524637  903891  668266  104393  405133   134812  719606  199424  \n",
       "322885  371962  261207  578261  932701  757043   136140  719606  716074  \n",
       "335080  389313  903891  668266  932701  414379   134812  323788  470765  \n",
       "850546  893533  261207  517333  921308   47107   941907  719606  199424  \n",
       "826648  843855  134812  578261  932701  518078   134812  719606  562223  \n",
       "914489  851862  903891  668266  932701  405133   261207  719606  214713  \n",
       "471626  929015  134812  186166  932701  957634   714156  826929  380097  \n",
       "234535  842645  261207  724151  932701  996529   261207  719606  199424  \n",
       "538527  893533  261207  882198  921308   47107   714156  719606  199424  \n",
       "739962  893533  261207  882198  921308   47107   261207  719606  199424  \n",
       "64203   592332  134812  578261  932701  757043   133772  719606  178114  \n",
       "317167  835956  261207  620249   98502   47107   941907   21638  199424  \n",
       "709232  190084  261207  668266  587603  990659   941907  719606  307141  \n",
       "211150  515608  941907  318310  840509  268688   133772  719606  199424  \n",
       "254715   53107  134812  905902  932701  757043   136140  719606  967825  \n",
       "225023  211159  903891  471892  392640  839870   133772  719606  234182  \n",
       "493181  177171  261207  905902  791064  757043   136140  719606  259641  \n",
       "671272  652935  903891  668266  932701  313311   134812  719606  199424  \n",
       "903253  100588  261207  578261  932701  757043   714156  719606  967825  \n",
       "739655  597509  941907  905902  469271  268688   714156  719606   93833  \n",
       "598607  629528  261207  578261  392640  757043   903891  719606  719606  \n",
       "612504  652935  903891  668266  276629  313311   134812  719606  516637  \n",
       "202774  371962  261207  578261  932701  757043   941907  719606  328052  \n",
       "439393  722252  261207  668266  932701  256487   134812  719606  530943  \n",
       "939934  790657  261207  928070  276629  196454   134812  719606  199424  \n",
       "599633  771913  903891  578261  932701  313311   261207  719606  967825  \n",
       "103907  422928  261207  668266  932701  405133   261207  719606  119839  \n",
       "536846   81567  261207  876864  392640  757043   941907  719606  259641  \n",
       "68354   398671  903891  905902  932701  609601   261207  719606  189958  \n",
       "762302  594887  261207  843136   98502  915455   941907  235384  399913  \n",
       "\n",
       "[100000 rows x 20 columns]"
      ]
     },
     "execution_count": 102,
     "metadata": {},
     "output_type": "execute_result"
    }
   ],
   "source": [
    "Xtest_ha"
   ]
  },
  {
   "cell_type": "markdown",
   "metadata": {},
   "source": [
    "We train a RandomForestClassifier on Xtrain_ha and evaluate its performance on Xtest_ha"
   ]
  },
  {
   "cell_type": "code",
   "execution_count": 103,
   "metadata": {
    "ExecuteTime": {
     "end_time": "2019-01-05T18:58:10.616913Z",
     "start_time": "2019-01-05T18:44:03.489196Z"
    }
   },
   "outputs": [
    {
     "name": "stderr",
     "output_type": "stream",
     "text": [
      "[Parallel(n_jobs=-1)]: Using backend ThreadingBackend with 4 concurrent workers.\n",
      "[Parallel(n_jobs=-1)]: Done  42 tasks      | elapsed:  1.2min\n",
      "[Parallel(n_jobs=-1)]: Done 192 tasks      | elapsed:  8.9min\n",
      "[Parallel(n_jobs=-1)]: Done 442 tasks      | elapsed: 15.7min\n",
      "[Parallel(n_jobs=-1)]: Done 792 tasks      | elapsed: 22.9min\n",
      "[Parallel(n_jobs=-1)]: Done 1024 out of 1024 | elapsed: 28.0min finished\n",
      "[Parallel(n_jobs=4)]: Using backend ThreadingBackend with 4 concurrent workers.\n",
      "[Parallel(n_jobs=4)]: Done  42 tasks      | elapsed:    0.4s\n",
      "[Parallel(n_jobs=4)]: Done 192 tasks      | elapsed:    2.0s\n",
      "[Parallel(n_jobs=4)]: Done 442 tasks      | elapsed:    4.7s\n",
      "[Parallel(n_jobs=4)]: Done 792 tasks      | elapsed:    8.2s\n",
      "[Parallel(n_jobs=4)]: Done 1024 out of 1024 | elapsed:   10.6s finished\n",
      "[Parallel(n_jobs=4)]: Using backend ThreadingBackend with 4 concurrent workers.\n",
      "[Parallel(n_jobs=4)]: Done  42 tasks      | elapsed:    0.4s\n",
      "[Parallel(n_jobs=4)]: Done 192 tasks      | elapsed:    2.1s\n",
      "[Parallel(n_jobs=4)]: Done 442 tasks      | elapsed:    5.0s\n",
      "[Parallel(n_jobs=4)]: Done 792 tasks      | elapsed:    9.1s\n"
     ]
    },
    {
     "name": "stdout",
     "output_type": "stream",
     "text": [
      "Hard score  0.83372\n"
     ]
    },
    {
     "name": "stderr",
     "output_type": "stream",
     "text": [
      "[Parallel(n_jobs=4)]: Done 1024 out of 1024 | elapsed:   12.0s finished\n"
     ]
    }
   ],
   "source": [
    "from sklearn.ensemble import RandomForestClassifier # Fill here\n",
    "rf = RandomForestClassifier(n_jobs = -1, n_estimators = 1024, min_samples_leaf=20, verbose=1, random_state=SEED)\n",
    "rf.fit(Xtrain_ha,ytrain)\n",
    "\n",
    "hard = rf.predict(Xtest_ha)\n",
    "soft = rf.predict_proba(Xtest_ha)\n",
    "\n",
    "hard_score_rf = accuracy_score(ytest, hard)\n",
    "print(\"Hard score \", hard_score_rf)"
   ]
  },
  {
   "cell_type": "code",
   "execution_count": 104,
   "metadata": {
    "ExecuteTime": {
     "end_time": "2019-01-05T18:58:17.102560Z",
     "start_time": "2019-01-05T18:58:17.086714Z"
    }
   },
   "outputs": [
    {
     "name": "stdout",
     "output_type": "stream",
     "text": [
      "Log loss  0.4009500704464555\n"
     ]
    }
   ],
   "source": [
    "log_loss_rf = log_loss(ytest, soft[:,1])\n",
    "print(\"Log loss \", log_loss_rf)"
   ]
  },
  {
   "cell_type": "code",
   "execution_count": 105,
   "metadata": {
    "ExecuteTime": {
     "end_time": "2019-01-05T18:58:23.970450Z",
     "start_time": "2019-01-05T18:58:23.943860Z"
    }
   },
   "outputs": [
    {
     "name": "stdout",
     "output_type": "stream",
     "text": [
      "Roc area  0.7410267271275948\n"
     ]
    }
   ],
   "source": [
    "roc_rf = roc_auc_score(ytest, soft[:,1])\n",
    "print(\"Roc area \", roc_rf)\n"
   ]
  },
  {
   "cell_type": "code",
   "execution_count": 106,
   "metadata": {
    "ExecuteTime": {
     "end_time": "2019-01-05T18:58:31.107400Z",
     "start_time": "2019-01-05T18:58:31.101457Z"
    }
   },
   "outputs": [
    {
     "name": "stdout",
     "output_type": "stream",
     "text": [
      "Models :  First colon selected | Feature selection | Gradient Boost | Gradient Boost leaf| XGB XGB 1024| RF\n",
      "Scores :  0.83043 | 0.83375 | 0.83343 | 0.83405 | 0.83348 | 0.83288 | 0.83372\n",
      "Log loss :  (0.42512223391774184, 0.6762765906600234) | (0.40115170753842516, 0.7385988630146278) | 0.4091871736006742 | (0.3999497071713706, 0.7417438966297424) | 0.4062316573063936 | 0.40079399106913244 | 0.4009500704464555\n",
      "Roc Area :  0.6762765906600234 | 0.7385988630146278 | 0.7251893509766301 | 0.7417438966297424 | 0.7290316623949777 | 0.7421910171049341 | 0.7410267271275948\n"
     ]
    }
   ],
   "source": [
    "print(\"Models : \",\"First colon selected |\",\"Feature selection |\", \"Gradient Boost |\", \"Gradient Boost leaf|\",\"XGB\",\"XGB 1024|\",\"RF\")\n",
    "print(\"Scores : \",hard_score_selected, \"|\",hard_score_feature_engin, \"|\", hard_score_gb, \"|\", hard_score_gb_leaf,\"|\", hard_score_xgb,\"|\", hard_score_xgb2,\"|\", hard_score_rf)\n",
    "print(\"Log loss : \",log_loss_selected, \"|\",log_loss_feature_engin, \"|\", log_loss_gb, \"|\", log_loss_gb_leaf,\"|\", log_loss_xgb,\"|\", log_loss_xgb2,\"|\", log_loss_rf)\n",
    "print(\"Roc Area : \",roc_feature_selected, \"|\",roc_feature_engin, \"|\", roc_gb, \"|\", roc_gb_leaf,\"|\", roc_xgb,\"|\", roc_xgb2,\"|\", roc_rf)"
   ]
  },
  {
   "cell_type": "markdown",
   "metadata": {},
   "source": [
    "The results are close than those random forest and xgboost gave on the last set of features, yet the Random Forest perform a bit weeker than those 2"
   ]
  },
  {
   "cell_type": "markdown",
   "metadata": {},
   "source": [
    "We compare with xgboost performance on the same hashed dataset"
   ]
  },
  {
   "cell_type": "code",
   "execution_count": 107,
   "metadata": {
    "ExecuteTime": {
     "end_time": "2019-01-05T19:06:27.378527Z",
     "start_time": "2019-01-05T18:59:29.361133Z"
    }
   },
   "outputs": [
    {
     "name": "stdout",
     "output_type": "stream",
     "text": [
      "Wall time: 19min 20s\n",
      "Hard score  0.83288\n"
     ]
    }
   ],
   "source": [
    "xgb_hash = XGBClassifier(verbose=True, learning_rate=1, n_estimators=1024, random_state = SEED, n_jobs=-1)\n",
    "\n",
    "%time xgb_hash.fit(Xtrain_concat,ytrain)# the '%time' command will return the execution time of the fitting step\n",
    "\n",
    "hard = xgb_hash.predict(Xtest_concat)\n",
    "soft = xgb_hash.predict_proba(Xtest_concat)\n",
    "\n",
    "hard_score_xgb_hash = accuracy_score(ytest, hard)\n",
    "print(\"Hard score \", hard_score_xgb_hash)"
   ]
  },
  {
   "cell_type": "code",
   "execution_count": 108,
   "metadata": {
    "ExecuteTime": {
     "end_time": "2019-01-05T19:06:34.588553Z",
     "start_time": "2019-01-05T19:06:34.570791Z"
    }
   },
   "outputs": [
    {
     "name": "stdout",
     "output_type": "stream",
     "text": [
      "Log loss  0.40079399106913244\n"
     ]
    }
   ],
   "source": [
    "log_loss_xgb_hash = log_loss(ytest, soft[:,1])\n",
    "print(\"Log loss \", log_loss_xgb_hash)"
   ]
  },
  {
   "cell_type": "code",
   "execution_count": 109,
   "metadata": {
    "ExecuteTime": {
     "end_time": "2019-01-05T19:06:41.727582Z",
     "start_time": "2019-01-05T19:06:41.699313Z"
    }
   },
   "outputs": [
    {
     "name": "stdout",
     "output_type": "stream",
     "text": [
      "Roc area  0.7421910171049341\n"
     ]
    }
   ],
   "source": [
    "roc_xgb_hash = roc_auc_score(ytest, soft[:,1])\n",
    "print(\"Roc area \", roc_xgb_hash)\n"
   ]
  },
  {
   "cell_type": "code",
   "execution_count": 110,
   "metadata": {
    "ExecuteTime": {
     "end_time": "2019-01-05T19:06:48.803245Z",
     "start_time": "2019-01-05T19:06:48.797518Z"
    }
   },
   "outputs": [
    {
     "name": "stdout",
     "output_type": "stream",
     "text": [
      "Models :  First colon selected | Feature selection | Gradient Boost | Gradient Boost leaf| XGB XGB 1024 RF XGB hash\n",
      "Scores :  0.83043 | 0.83375 | 0.83343 | 0.83405 | 0.83348 | 0.83288 | 0.83372 | 0.83288\n",
      "Log loss :  (0.42512223391774184, 0.6762765906600234) | (0.40115170753842516, 0.7385988630146278) | 0.4091871736006742 | (0.3999497071713706, 0.7417438966297424) | 0.4062316573063936 | 0.40079399106913244 | 0.4009500704464555 | 0.40079399106913244\n",
      "Roc Area :  0.6762765906600234 | 0.7385988630146278 | 0.7251893509766301 | 0.7417438966297424 | 0.7290316623949777 | 0.7421910171049341 | 0.7410267271275948 | 0.7421910171049341\n"
     ]
    }
   ],
   "source": [
    "print(\"Models : \",\"First colon selected |\",\"Feature selection |\", \"Gradient Boost |\", \"Gradient Boost leaf|\",\"XGB\",\"XGB 1024\",\"RF\",\"XGB hash\")\n",
    "print(\"Scores : \",hard_score_selected, \"|\",hard_score_feature_engin, \"|\", hard_score_gb, \"|\", hard_score_gb_leaf,\"|\", hard_score_xgb,\"|\", hard_score_xgb2,\"|\", hard_score_rf,\"|\", hard_score_xgb_hash)\n",
    "print(\"Log loss : \",log_loss_selected, \"|\",log_loss_feature_engin, \"|\", log_loss_gb, \"|\", log_loss_gb_leaf,\"|\", log_loss_xgb,\"|\", log_loss_xgb2,\"|\", log_loss_rf,\"|\", log_loss_xgb_hash)\n",
    "print(\"Roc Area : \",roc_feature_selected, \"|\",roc_feature_engin, \"|\", roc_gb, \"|\", roc_gb_leaf,\"|\", roc_xgb,\"|\", roc_xgb2,\"|\", roc_rf,\"|\", roc_xgb_hash)"
   ]
  },
  {
   "cell_type": "markdown",
   "metadata": {},
   "source": [
    "This model is equivalent in terms of the differents scores than the xgboost we tried on the last set of features, both ranking at the first place as of now"
   ]
  },
  {
   "cell_type": "markdown",
   "metadata": {},
   "source": [
    "We plot the ROC and the lift curves for the obtained classifier (xgboost on hashed data)"
   ]
  },
  {
   "cell_type": "code",
   "execution_count": 111,
   "metadata": {
    "ExecuteTime": {
     "end_time": "2019-01-05T19:19:40.880169Z",
     "start_time": "2019-01-05T19:19:40.681919Z"
    }
   },
   "outputs": [
    {
     "data": {
      "text/plain": [
       "<matplotlib.lines.Line2D at 0x1ce92cd2780>"
      ]
     },
     "execution_count": 111,
     "metadata": {},
     "output_type": "execute_result"
    },
    {
     "data": {
      "image/png": "[encoded data removed]",
      "text/plain": [
       "<Figure size 432x288 with 1 Axes>"
      ]
     },
     "metadata": {
      "needs_background": "light"
     },
     "output_type": "display_data"
    }
   ],
   "source": [
    "# Plot the lift curve here\n",
    "plotlift(ytest, soft[:,1])\n",
    "plt.axvline(x= 0.2 , linestyle='--', color='r')"
   ]
  },
  {
   "cell_type": "code",
   "execution_count": 112,
   "metadata": {
    "ExecuteTime": {
     "end_time": "2019-01-05T19:19:47.352371Z",
     "start_time": "2019-01-05T19:19:47.222256Z"
    }
   },
   "outputs": [
    {
     "data": {
      "image/png": "[encoded data removed]",
      "text/plain": [
       "<Figure size 432x288 with 1 Axes>"
      ]
     },
     "metadata": {
      "needs_background": "light"
     },
     "output_type": "display_data"
    }
   ],
   "source": [
    "# Plot the ROC curve here\n",
    "fpr, tpr, threshold = roc_curve(ytest,  soft[:,1])\n",
    "plt.plot(fpr,tpr, '-')\n",
    "plt.plot([0,1],[0,1], linestyle='--')\n",
    "plt.show()"
   ]
  },
  {
   "cell_type": "markdown",
   "metadata": {},
   "source": [
    "Hashing produces columns of integers arbitrarily ordered. One can wonder if adding more columns hashed in a different fashion would lead to better performance. \n",
    "We add hashed columns by recursively hashing the previous ones: complete the following code"
   ]
  },
  {
   "cell_type": "code",
   "execution_count": 113,
   "metadata": {
    "ExecuteTime": {
     "end_time": "2019-01-05T19:20:13.836272Z",
     "start_time": "2019-01-05T19:19:53.787319Z"
    }
   },
   "outputs": [],
   "source": [
    "Xtrain_haha = pd.DataFrame(Xtrain_ha).copy()\n",
    "Xtest_haha = pd.DataFrame(Xtest_ha).copy()\n",
    "\n",
    "n_hash = 3\n",
    "cols = Xtrain_ha.columns\n",
    "for l in range(n_hash):\n",
    "    for col in cols:\n",
    "        Xtrain_haha[col + '-hash'] = Xtrain_haha[col].apply(lambda x: hash(x)%1000000)\n",
    "        Xtest_haha[col + '-hash'] = Xtest_haha[col].apply(lambda x: hash(x)%1000000)\n",
    "    cols = [col + '-hash' for col in cols]"
   ]
  },
  {
   "cell_type": "markdown",
   "metadata": {},
   "source": [
    "We evaluate the performance of a random forest and/or an xgboost clasifier on these enlarged dataset"
   ]
  },
  {
   "cell_type": "code",
   "execution_count": 114,
   "metadata": {
    "ExecuteTime": {
     "end_time": "2019-01-05T19:44:57.647027Z",
     "start_time": "2019-01-05T19:20:22.956475Z"
    }
   },
   "outputs": [
    {
     "name": "stderr",
     "output_type": "stream",
     "text": [
      "[Parallel(n_jobs=-1)]: Using backend ThreadingBackend with 4 concurrent workers.\n",
      "[Parallel(n_jobs=-1)]: Done  42 tasks      | elapsed:  1.8min\n",
      "[Parallel(n_jobs=-1)]: Done 192 tasks      | elapsed:  8.1min\n",
      "[Parallel(n_jobs=-1)]: Done 442 tasks      | elapsed: 22.5min\n",
      "[Parallel(n_jobs=-1)]: Done 792 tasks      | elapsed: 42.1min\n",
      "[Parallel(n_jobs=-1)]: Done 1024 out of 1024 | elapsed: 55.6min finished\n",
      "[Parallel(n_jobs=4)]: Using backend ThreadingBackend with 4 concurrent workers.\n",
      "[Parallel(n_jobs=4)]: Done  42 tasks      | elapsed:    2.3s\n",
      "[Parallel(n_jobs=4)]: Done 192 tasks      | elapsed:   10.2s\n",
      "[Parallel(n_jobs=4)]: Done 442 tasks      | elapsed:   25.4s\n",
      "[Parallel(n_jobs=4)]: Done 792 tasks      | elapsed:   43.5s\n",
      "[Parallel(n_jobs=4)]: Done 1024 out of 1024 | elapsed:   58.8s finished\n",
      "[Parallel(n_jobs=4)]: Using backend ThreadingBackend with 4 concurrent workers.\n",
      "[Parallel(n_jobs=4)]: Done  42 tasks      | elapsed:    2.2s\n",
      "[Parallel(n_jobs=4)]: Done 192 tasks      | elapsed:    9.9s\n",
      "[Parallel(n_jobs=4)]: Done 442 tasks      | elapsed:   26.7s\n",
      "[Parallel(n_jobs=4)]: Done 792 tasks      | elapsed:   52.1s\n",
      "[Parallel(n_jobs=4)]: Done 1024 out of 1024 | elapsed:  1.2min finished\n"
     ]
    },
    {
     "name": "stdout",
     "output_type": "stream",
     "text": [
      "Hard score  0.8341\n"
     ]
    }
   ],
   "source": [
    "rf2 = RandomForestClassifier(n_jobs = -1, n_estimators = 1024, min_samples_leaf=20, verbose=1, random_state=SEED)\n",
    "rf2.fit(Xtrain_haha,ytrain)\n",
    "\n",
    "hard = rf2.predict(Xtest_haha)\n",
    "soft = rf2.predict_proba(Xtest_haha)\n",
    "\n",
    "hard_score_rf2 = accuracy_score(ytest, hard)\n",
    "print(\"Hard score \", hard_score_rf2)"
   ]
  },
  {
   "cell_type": "code",
   "execution_count": 115,
   "metadata": {
    "ExecuteTime": {
     "end_time": "2019-01-05T19:46:46.045200Z",
     "start_time": "2019-01-05T19:46:46.024738Z"
    }
   },
   "outputs": [
    {
     "name": "stdout",
     "output_type": "stream",
     "text": [
      "Log loss  0.3999108112025728\n"
     ]
    }
   ],
   "source": [
    "log_loss_rf2 = log_loss(ytest, soft[:,1])\n",
    "print(\"Log loss \", log_loss_rf2)"
   ]
  },
  {
   "cell_type": "code",
   "execution_count": 116,
   "metadata": {
    "ExecuteTime": {
     "end_time": "2019-01-05T19:46:53.929149Z",
     "start_time": "2019-01-05T19:46:53.905969Z"
    }
   },
   "outputs": [
    {
     "name": "stdout",
     "output_type": "stream",
     "text": [
      "Roc area  0.742395264461333\n"
     ]
    }
   ],
   "source": [
    "roc_rf2 = roc_auc_score(ytest, soft[:,1])\n",
    "print(\"Roc area \", roc_rf2)\n"
   ]
  },
  {
   "cell_type": "code",
   "execution_count": 117,
   "metadata": {
    "ExecuteTime": {
     "end_time": "2019-01-05T19:47:01.632532Z",
     "start_time": "2019-01-05T19:47:01.626166Z"
    }
   },
   "outputs": [
    {
     "name": "stdout",
     "output_type": "stream",
     "text": [
      "Models :  First colon selected | Feature selection | Gradient Boost | Gradient Boost leaf| XGB| XGB 1024| RF| RF Enlarged\n",
      "Scores :  0.83043 | 0.83375 | 0.83343 | 0.83405 | 0.83348 | 0.83288 | 0.83372 | 0.8341\n",
      "Log loss :  (0.42512223391774184, 0.6762765906600234) | (0.40115170753842516, 0.7385988630146278) | 0.4091871736006742 | (0.3999497071713706, 0.7417438966297424) | 0.4062316573063936 | 0.40079399106913244 | 0.4009500704464555 | 0.3999108112025728\n",
      "Roc Area :  0.6762765906600234 | 0.7385988630146278 | 0.7251893509766301 | 0.7417438966297424 | 0.7290316623949777 | 0.7421910171049341 | 0.7410267271275948 | 0.742395264461333\n"
     ]
    }
   ],
   "source": [
    "print(\"Models : \",\"First colon selected |\",\"Feature selection |\", \"Gradient Boost |\", \"Gradient Boost leaf|\",\"XGB|\",\"XGB 1024|\",\"RF|\",\"RF Enlarged\")\n",
    "print(\"Scores : \",hard_score_selected, \"|\",hard_score_feature_engin, \"|\", hard_score_gb, \"|\", hard_score_gb_leaf,\"|\", hard_score_xgb,\"|\", hard_score_xgb2,\"|\", hard_score_rf,\"|\", hard_score_rf2)\n",
    "print(\"Log loss : \",log_loss_selected, \"|\",log_loss_feature_engin, \"|\", log_loss_gb, \"|\", log_loss_gb_leaf,\"|\", log_loss_xgb,\"|\", log_loss_xgb2,\"|\", log_loss_rf,\"|\", log_loss_rf2)\n",
    "print(\"Roc Area : \",roc_feature_selected, \"|\",roc_feature_engin, \"|\", roc_gb, \"|\", roc_gb_leaf,\"|\", roc_xgb,\"|\", roc_xgb2,\"|\", roc_rf,\"|\", roc_rf2)"
   ]
  },
  {
   "cell_type": "markdown",
   "metadata": {},
   "source": [
    "**The RF on the enlarged dataset gave us the best result amongh them all (loss, accuracy, 2nd best ROC Area). Hashing recursively the data 4 times helped us to to create features more usefull for our classifier.**"
   ]
  },
  {
   "cell_type": "markdown",
   "metadata": {},
   "source": [
    "All in all, it seems the last set of features on the enlarged dataset, hashing recursively the data, gave us the most optimised model. At each step, we learned something on the dataset, which allowed us to improve each time"
   ]
  },
  {
   "cell_type": "markdown",
   "metadata": {},
   "source": [
    "# Field-aware Factorization Machines\n"
   ]
  },
  {
   "cell_type": "code",
   "execution_count": 119,
   "metadata": {},
   "outputs": [
    {
     "name": "stdout",
     "output_type": "stream",
     "text": [
      "Index(['hour', 'C1', 'banner_pos', 'site_category', 'app_id', 'app_domain',\n",
      "       'app_category', 'device_type', 'device_conn_type', 'C14', 'C15', 'C16',\n",
      "       'C17', 'C18', 'C19', 'C20', 'C21', 'weekday', 'user', 'site'],\n",
      "      dtype='object')\n"
     ]
    }
   ],
   "source": [
    "print(Xtrain_ha.columns)"
   ]
  },
  {
   "cell_type": "markdown",
   "metadata": {},
   "source": [
    "We create lists of columns"
   ]
  },
  {
   "cell_type": "code",
   "execution_count": 128,
   "metadata": {},
   "outputs": [],
   "source": [
    "fields = []\n",
    "fields.append( ['hour','weekday'] )\n",
    "fields.append( ['site','site_category','banner_pos'] )\n",
    "fields.append( ['app_id','app_domain','app_category'] )\n",
    "fields.append( ['device_type','device_conn_type'] )\n",
    "fields.append( ['C1','C14','C15','C16','C17','C18','C19','C20','C21'] )\n",
    "fields.append( ['user'] )\n",
    "\n"
   ]
  },
  {
   "cell_type": "markdown",
   "metadata": {},
   "source": [
    "We generate a diictionary of the name of each column associated with the content"
   ]
  },
  {
   "cell_type": "code",
   "execution_count": 129,
   "metadata": {},
   "outputs": [],
   "source": [
    "dicFields = { name_col : f  for i,f in enumerate(fields) for name_col in f}"
   ]
  },
  {
   "cell_type": "markdown",
   "metadata": {},
   "source": [
    "To format the data in LibFFM format, we must ensure that two different columns have different modalities. To do this, we add before each modality a character string characteristic of the column.\n",
    "<center>\n",
    "x --> 'name of column ' + str(x)\n",
    "</center>\n"
   ]
  },
  {
   "cell_type": "code",
   "execution_count": 130,
   "metadata": {},
   "outputs": [],
   "source": [
    "Xtrain_ffm = pd.DataFrame()\n",
    "Xtest_ffm = pd.DataFrame()\n",
    "for col in Xtrain_ha.columns:\n",
    "    Xtrain_ffm[col] = Xtrain_ha[col].apply( lambda x:  col + str(x) )\n",
    "    Xtest_ffm[col] = Xtest_ha[col].apply( lambda x: col + str(x) )"
   ]
  },
  {
   "cell_type": "markdown",
   "metadata": {},
   "source": [
    "We create a list of all the categories apearing in our columns"
   ]
  },
  {
   "cell_type": "code",
   "execution_count": 131,
   "metadata": {},
   "outputs": [],
   "source": [
    "allvals = []\n",
    "allcols_ffm = [col for f in fields for col in f]  # Toutes les colonnes appartenant à l'un des champ\n",
    "for col in allcols_ffm:\n",
    "    allvals.append(np.unique(Xtrain_ffm[col]))\n",
    "allvals= [val for sublist in allvals for val in sublist]"
   ]
  },
  {
   "cell_type": "markdown",
   "metadata": {},
   "source": [
    "We create a dictionary associating each value to hist rank in the list of values"
   ]
  },
  {
   "cell_type": "code",
   "execution_count": 132,
   "metadata": {},
   "outputs": [],
   "source": [
    "dicFeat = {val:i for i,val in enumerate(allvals) }"
   ]
  },
  {
   "cell_type": "markdown",
   "metadata": {},
   "source": [
    "In each column \"col\" the value \"x\" is replaced by \"f:v:1\" where f is the field associated to the column and v the index of the modality x"
   ]
  },
  {
   "cell_type": "code",
   "execution_count": 133,
   "metadata": {},
   "outputs": [],
   "source": [
    "for col in allcols_ffm:\n",
    "    f = dicFields[col]\n",
    "    Xtrain_ffm[col] = Xtrain_ffm[col].apply(lambda x:\"{}:{}:1\".format(f,dicFeat[x]) if x in dicFeat else \"\")\n",
    "    Xtest_ffm[col] = Xtest_ffm[col].apply(lambda x:\"{}:{}:1\".format(f,dicFeat[x]) if x in dicFeat else \"\")"
   ]
  },
  {
   "cell_type": "markdown",
   "metadata": {},
   "source": [
    "We concatenate our click column"
   ]
  },
  {
   "cell_type": "code",
   "execution_count": 136,
   "metadata": {},
   "outputs": [],
   "source": [
    "yXtrain_ffm = pd.concat( [ytrain, Xtrain_ffm] ,axis=1)\n",
    "yXtest_ffm = pd.concat( [ytest, Xtest_ffm] ,axis=1)"
   ]
  },
  {
   "cell_type": "code",
   "execution_count": 139,
   "metadata": {},
   "outputs": [],
   "source": [
    "train_w = yXtrain_ffm.apply(lambda row: ' '.join(str(row.values)),axis=1).values\n",
    "test_w = yXtest_ffm.apply(lambda row: ' '.join(str(row.values)),axis=1).values"
   ]
  },
  {
   "cell_type": "markdown",
   "metadata": {},
   "source": [
    "We concatenate the features with spaces between them"
   ]
  },
  {
   "cell_type": "markdown",
   "metadata": {},
   "source": [
    "We create a file from our dataframes"
   ]
  },
  {
   "cell_type": "code",
   "execution_count": 140,
   "metadata": {},
   "outputs": [],
   "source": [
    "thefile = open('train.txt','w')\n",
    "for item in train_w:\n",
    "    thefile.write(\"%s\\n\" % item)\n",
    "    \n",
    "thefile2 = open('test.txt','w')\n",
    "for item in test_w:\n",
    "    thefile2.write(\"%s\\n\" % item)\n",
    "\n"
   ]
  },
  {
   "cell_type": "markdown",
   "metadata": {},
   "source": [
    "To learn the FFM model, use the LibFFM library https://www.csie.ntu.edu.tw/~cjlin/libffm/  \n",
    "In the notebook/ directory are two executables: ffm-train and ffm-predict.  \n",
    "In jupyter notebook, the exclamation mark ! allows you to run a bash command.  \n",
    "The use is as follows: \n",
    "\n",
    "-   `ffm-train'\n",
    "\n",
    "    usage: ffm-train [options] training_set_file [model_file]\n",
    "\n",
    "    options:  \n",
    "    -l <lambda>: set regularization parameter (default 0.00002)  \n",
    "    -k <factor>: set number of latent factors (default 4)  \n",
    "    -t <iteration>: set number of iterations (default 15)  \n",
    "    -r <eta>: set learning rate (default 0.2)  \n",
    "    -s <nr_threads>: set number of threads (default 1)  \n",
    "    -p <path>: set path to the validation set  \n",
    "    --quiet: quiet model (no output)  \n",
    "    --no-norm: disable instance-wise normalization  \n",
    "    --auto-stop: stop at the iteration that achieves the best validation loss (must be used with -p)  \n",
    "<br>\n"
   ]
  },
  {
   "cell_type": "markdown",
   "metadata": {},
   "source": [
    "We use th ffm library"
   ]
  },
  {
   "cell_type": "code",
   "execution_count": 145,
   "metadata": {
    "ExecuteTime": {
     "end_time": "2019-01-13T22:28:45.961659Z",
     "start_time": "2019-01-13T22:28:45.868906Z"
    }
   },
   "outputs": [
    {
     "name": "stderr",
     "output_type": "stream",
     "text": [
      "'.' n'est pas reconnu en tant que commande interne\n",
      "ou externe, un programme ex‚cutable ou un fichier de commandes.\n"
     ]
    }
   ],
   "source": [
    "!./ffm-train -l 0.00001 -r 0.05 -k 15 -t 30 -p ./test.txt --autostop ./train.txt ./model_ffm"
   ]
  },
  {
   "cell_type": "markdown",
   "metadata": {},
   "source": [
    "We compute the log loss and the ROC area under the curve"
   ]
  },
  {
   "cell_type": "code",
   "execution_count": null,
   "metadata": {},
   "outputs": [],
   "source": [
    "hard = model_ffm.predict(Xtest_ffm)\n",
    "soft = model_ffm.predict_proba(Xtest_ffm)"
   ]
  },
  {
   "cell_type": "code",
   "execution_count": null,
   "metadata": {},
   "outputs": [],
   "source": [
    "hard_score_ffm = accuracy_score(ytest, hard)\n",
    "print(\"Hard score \", hard_score_ffm)"
   ]
  },
  {
   "cell_type": "code",
   "execution_count": null,
   "metadata": {},
   "outputs": [],
   "source": [
    "fpr, tpr, threshold = roc_curve(ytest,  soft[:,1])\n",
    "plt.plot(fpr,tpr, '-')\n",
    "plt.plot([0,1],[0,1], linestyle='--')\n",
    "plt.show()\n"
   ]
  },
  {
   "cell_type": "code",
   "execution_count": null,
   "metadata": {},
   "outputs": [],
   "source": [
    "log_loss_ffm = log_loss(ytest, soft[:,1]), roc_auc_score(ytest, soft[:,1])\n",
    "print(\"Log loss : \", log_loss_ffm)"
   ]
  },
  {
   "cell_type": "code",
   "execution_count": null,
   "metadata": {},
   "outputs": [],
   "source": [
    "roc_ffm = roc_auc_score(ytest, soft[:,1])\n",
    "print(\"Area under roc curve : \", roc_ffm)"
   ]
  }
 ],
 "metadata": {
  "kernelspec": {
   "display_name": "Python 3",
   "language": "python",
   "name": "python3"
  },
  "language_info": {
   "codemirror_mode": {
    "name": "ipython",
    "version": 3
   },
   "file_extension": ".py",
   "mimetype": "text/x-python",
   "name": "python",
   "nbconvert_exporter": "python",
   "pygments_lexer": "ipython3",
   "version": "3.6.8"
  },
  "latex_envs": {
   "LaTeX_envs_menu_present": true,
   "autoclose": false,
   "autocomplete": true,
   "bibliofile": "biblio.bib",
   "cite_by": "apalike",
   "current_citInitial": 1,
   "eqLabelWithNumbers": true,
   "eqNumInitial": 1,
   "hotkeys": {
    "equation": "Ctrl-E",
    "itemize": "Ctrl-I"
   },
   "labels_anchors": false,
   "latex_user_defs": false,
   "report_style_numbering": false,
   "user_envs_cfg": false
  },
  "toc": {
   "base_numbering": 1,
   "nav_menu": {},
   "number_sections": true,
   "sideBar": true,
   "skip_h1_title": false,
   "title_cell": "Table of Contents",
   "title_sidebar": "Contents",
   "toc_cell": false,
   "toc_position": {},
   "toc_section_display": true,
   "toc_window_display": true
  },
  "varInspector": {
   "cols": {
    "lenName": 16,
    "lenType": 16,
    "lenVar": 40
   },
   "kernels_config": {
    "python": {
     "delete_cmd_postfix": "",
     "delete_cmd_prefix": "del ",
     "library": "var_list.py",
     "varRefreshCmd": "print(var_dic_list())"
    },
    "r": {
     "delete_cmd_postfix": ") ",
     "delete_cmd_prefix": "rm(",
     "library": "var_list.r",
     "varRefreshCmd": "cat(var_dic_list()) "
    }
   },
   "types_to_exclude": [
    "module",
    "function",
    "builtin_function_or_method",
    "instance",
    "_Feature"
   ],
   "window_display": false
  }
 },
 "nbformat": 4,
 "nbformat_minor": 2
}
